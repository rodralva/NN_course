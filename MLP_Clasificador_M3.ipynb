{
  "nbformat": 4,
  "nbformat_minor": 0,
  "metadata": {
    "colab": {
      "name": "MLP_Clasificador_M3.ipynb",
      "provenance": [],
      "collapsed_sections": [
        "YCkpuVJoLdxR"
      ],
      "toc_visible": true
    },
    "kernelspec": {
      "name": "python3",
      "display_name": "Python 3"
    }
  },
  "cells": [
    {
      "cell_type": "markdown",
      "metadata": {
        "id": "A8Rc1iIGlBXK"
      },
      "source": [
        "# Ejemplo de Clasificador basado en una Red Completamente Conectada.\n",
        "Este es un ejemplo de clasificador basado en una Red Completamente Conectada (MLP) con objetivo pronósticar si la suma de dos enteros es múltiplo de 3 (etiqueta 0) o no (etiqueta 1)."
      ]
    },
    {
      "cell_type": "markdown",
      "metadata": {
        "id": "YCkpuVJoLdxR"
      },
      "source": [
        "## Importar librerías"
      ]
    },
    {
      "cell_type": "code",
      "metadata": {
        "id": "dpBMcQxaHKUF"
      },
      "source": [
        "# seed the pseudorandom number generator\n",
        "from random import seed\n",
        "import random\n",
        "from random import randint"
      ],
      "execution_count": null,
      "outputs": []
    },
    {
      "cell_type": "code",
      "metadata": {
        "id": "KEUzc8d0Jqs-"
      },
      "source": [
        "import numpy as np\n",
        "import pandas as pd"
      ],
      "execution_count": null,
      "outputs": []
    },
    {
      "cell_type": "code",
      "metadata": {
        "id": "g4ad7UB9iXeR"
      },
      "source": [
        "import matplotlib.pyplot as plt"
      ],
      "execution_count": null,
      "outputs": []
    },
    {
      "cell_type": "code",
      "metadata": {
        "id": "6k3Fue2Mk3EI"
      },
      "source": [
        "import scipy.stats\n",
        "from pylab import *"
      ],
      "execution_count": null,
      "outputs": []
    },
    {
      "cell_type": "code",
      "metadata": {
        "id": "zjr4bgyVRoRE"
      },
      "source": [
        "import tensorflow as tf\n",
        "from tensorflow.python.keras.layers import Dense, Dropout,Convolution1D, MaxPooling1D, Flatten\n",
        "from tensorflow.python.keras.layers import BatchNormalization, Activation, ZeroPadding1D, ReLU, add\n",
        "from tensorflow.python.keras import Sequential, Input, Model\n",
        "from tensorflow import keras\n",
        "\n",
        "from keras.models import Sequential  # Model type to be used\n",
        "\n",
        "from keras.layers.core import Dense, Dropout, Activation # Types of layers to be used in our model\n",
        "from keras.utils import np_utils                         # NumPy related tools"
      ],
      "execution_count": null,
      "outputs": []
    },
    {
      "cell_type": "code",
      "metadata": {
        "id": "TgEjIeujpDSl"
      },
      "source": [
        "from sklearn.metrics import mean_squared_error"
      ],
      "execution_count": null,
      "outputs": []
    },
    {
      "cell_type": "markdown",
      "metadata": {
        "id": "SvFwqnphLlO_"
      },
      "source": [
        "## Fijar semilla del generador de números aleatorios"
      ]
    },
    {
      "cell_type": "code",
      "metadata": {
        "id": "UlyAtC9RLsSS"
      },
      "source": [
        "seed(1234)"
      ],
      "execution_count": null,
      "outputs": []
    },
    {
      "cell_type": "markdown",
      "metadata": {
        "id": "BFLRtTn1Lu-L"
      },
      "source": [
        "## Generados dos listas de números aleatorios y sumarlos"
      ]
    },
    {
      "cell_type": "code",
      "metadata": {
        "id": "uHhL72HunfWA"
      },
      "source": [
        "list_lenght=1000"
      ],
      "execution_count": null,
      "outputs": []
    },
    {
      "cell_type": "code",
      "metadata": {
        "colab": {
          "base_uri": "https://localhost:8080/"
        },
        "id": "lhkHcJzuHh3Y",
        "outputId": "0c33a657-c32c-4996-fb0d-97caed4d2b61"
      },
      "source": [
        "randomList1 = []\n",
        "# Set a length of the list to 10\n",
        "for i in range(0, list_lenght):\n",
        "    # any random numbers from 0 to 10\n",
        "    randomList1.append(randint(0, 10))\n",
        "\n",
        "print(\"Primera lista\", randomList1)"
      ],
      "execution_count": null,
      "outputs": [
        {
          "output_type": "stream",
          "text": [
            "Primera lista [3, 6, 5, 4, 8, 9, 1, 7, 9, 6, 8, 0, 5, 0, 9, 6, 2, 0, 5, 2, 6, 3, 7, 0, 9, 0, 3, 2, 3, 1, 3, 1, 3, 7, 1, 7, 4, 0, 5, 1, 5, 9, 9, 4, 0, 9, 8, 8, 6, 8, 6, 3, 1, 2, 5, 2, 5, 6, 7, 4, 3, 5, 6, 4, 6, 2, 4, 2, 7, 9, 7, 7, 2, 9, 7, 4, 9, 0, 9, 2, 9, 1, 2, 9, 1, 5, 7, 4, 7, 7, 1, 4, 0, 5, 4, 9, 2, 9, 1, 3, 5, 9, 3, 0, 4, 4, 0, 6, 8, 4, 8, 1, 8, 9, 8, 2, 0, 2, 2, 3, 2, 9, 7, 4, 8, 1, 9, 2, 7, 4, 3, 2, 5, 5, 1, 0, 8, 4, 0, 0, 1, 0, 3, 9, 1, 9, 3, 7, 9, 3, 4, 4, 1, 1, 6, 2, 9, 8, 7, 8, 0, 8, 7, 9, 5, 6, 3, 9, 4, 7, 7, 1, 7, 2, 5, 2, 7, 2, 6, 8, 6, 1, 9, 3, 3, 4, 9, 7, 2, 8, 1, 9, 4, 3, 1, 0, 7, 8, 0, 9, 3, 9, 3, 9, 0, 5, 9, 2, 3, 1, 7, 1, 4, 7, 3, 8, 4, 5, 3, 8, 8, 8, 1, 3, 6, 8, 9, 1, 5, 8, 4, 1, 1, 1, 2, 3, 4, 2, 1, 9, 4, 0, 0, 2, 1, 2, 5, 9, 8, 8, 7, 5, 7, 0, 0, 6, 6, 1, 9, 4, 6, 7, 2, 0, 7, 0, 2, 8, 4, 8, 3, 2, 4, 7, 7, 0, 1, 1, 0, 0, 0, 1, 1, 9, 4, 9, 9, 5, 2, 4, 1, 0, 3, 5, 2, 3, 3, 5, 4, 5, 4, 0, 5, 6, 7, 3, 1, 5, 4, 5, 9, 1, 7, 6, 3, 3, 0, 0, 2, 3, 1, 6, 1, 3, 5, 6, 9, 2, 6, 6, 9, 7, 8, 9, 1, 3, 6, 6, 2, 2, 4, 9, 3, 8, 7, 5, 1, 3, 1, 3, 0, 2, 0, 3, 5, 2, 6, 6, 6, 4, 1, 0, 7, 4, 1, 8, 5, 9, 6, 2, 8, 7, 9, 7, 7, 3, 6, 5, 6, 8, 6, 5, 9, 1, 9, 2, 1, 9, 1, 5, 0, 2, 3, 8, 8, 1, 3, 7, 3, 5, 1, 5, 6, 9, 5, 0, 1, 3, 5, 8, 9, 9, 7, 8, 8, 9, 4, 4, 1, 5, 4, 6, 8, 7, 9, 4, 1, 7, 7, 0, 4, 6, 1, 9, 1, 1, 9, 0, 8, 1, 3, 7, 2, 8, 3, 2, 2, 3, 4, 1, 6, 3, 5, 2, 4, 2, 1, 3, 9, 7, 9, 7, 2, 5, 7, 5, 8, 5, 0, 4, 0, 9, 3, 1, 0, 0, 6, 4, 3, 4, 1, 8, 6, 8, 7, 1, 5, 7, 9, 1, 5, 6, 5, 1, 6, 0, 9, 2, 2, 1, 4, 9, 9, 6, 6, 2, 4, 1, 5, 5, 5, 5, 8, 6, 7, 2, 3, 9, 7, 2, 1, 1, 9, 6, 5, 9, 2, 1, 3, 8, 3, 8, 7, 3, 8, 0, 5, 0, 9, 9, 7, 4, 5, 6, 3, 8, 1, 7, 4, 1, 9, 2, 4, 3, 3, 9, 4, 2, 6, 0, 5, 4, 6, 6, 6, 3, 8, 8, 8, 5, 7, 9, 9, 0, 7, 8, 4, 6, 5, 7, 5, 9, 2, 6, 3, 0, 8, 1, 6, 0, 3, 7, 5, 0, 8, 9, 8, 5, 1, 9, 4, 6, 2, 6, 3, 3, 7, 3, 2, 8, 5, 2, 4, 8, 0, 5, 2, 3, 7, 2, 6, 1, 2, 4, 7, 2, 3, 5, 8, 4, 3, 5, 8, 0, 5, 3, 5, 3, 5, 6, 1, 1, 3, 1, 7, 3, 4, 1, 7, 0, 9, 8, 5, 9, 3, 8, 2, 3, 0, 9, 0, 4, 3, 4, 5, 0, 2, 7, 2, 8, 5, 3, 5, 0, 5, 9, 0, 6, 7, 2, 6, 6, 2, 2, 0, 1, 1, 3, 8, 3, 3, 2, 5, 9, 5, 4, 6, 9, 5, 9, 2, 5, 5, 6, 5, 7, 3, 0, 2, 3, 1, 9, 9, 8, 8, 0, 8, 6, 6, 1, 4, 3, 5, 5, 4, 9, 3, 8, 2, 3, 0, 6, 2, 8, 3, 3, 8, 2, 6, 2, 0, 3, 0, 3, 9, 0, 4, 2, 7, 1, 2, 2, 2, 1, 5, 9, 5, 3, 7, 1, 0, 1, 1, 8, 3, 5, 4, 4, 2, 4, 5, 6, 4, 2, 6, 1, 7, 6, 2, 3, 9, 4, 1, 4, 1, 0, 7, 3, 4, 5, 0, 8, 2, 2, 5, 4, 9, 5, 3, 3, 4, 6, 8, 4, 2, 2, 0, 6, 2, 8, 9, 2, 4, 3, 4, 4, 0, 8, 3, 4, 2, 9, 2, 8, 4, 0, 0, 6, 6, 7, 6, 7, 9, 3, 9, 7, 8, 2, 9, 1, 0, 6, 3, 8, 4, 9, 9, 6, 7, 9, 2, 3, 6, 4, 5, 8, 5, 9, 9, 7, 1, 0, 6, 3, 3, 4, 1, 8, 2, 8, 0, 3, 9, 0, 6, 6, 7, 7, 9, 2, 2, 1, 0, 9, 5, 0, 9, 7, 5, 3, 8, 2, 6, 4, 5, 6, 1, 9, 6, 3, 7, 0, 4, 9, 4, 4, 5, 1, 0, 9, 7, 0, 5, 3, 8, 9, 1, 7, 0, 9, 6, 8, 2, 1, 7, 5, 4, 0, 1, 1, 7, 8, 2, 7, 6, 9, 9, 2, 1, 1, 8, 9, 0, 7, 2, 4, 2, 9, 8, 1, 0, 1, 4, 4, 9, 9, 0, 1, 9, 9, 3, 1, 7, 2, 8, 4, 7, 4, 3, 2, 8, 4, 7, 7, 0, 1, 4, 6, 5, 5, 0, 5, 2, 0, 8, 3, 5, 7, 8, 4, 7, 6, 7, 7, 2, 7, 6, 0, 2, 6]\n"
          ],
          "name": "stdout"
        }
      ]
    },
    {
      "cell_type": "code",
      "metadata": {
        "colab": {
          "base_uri": "https://localhost:8080/"
        },
        "id": "aV7FhT58I0in",
        "outputId": "13a39d70-5010-4304-cb0e-60d56f9f9b87"
      },
      "source": [
        "randomList2 = []\n",
        "# Set a length of the list to 10\n",
        "for i in range(0, list_lenght):\n",
        "    # any random numbers from 0 to 10\n",
        "    randomList2.append(randint(0, 10))\n",
        "\n",
        "print(\"Printing list of 10 random numbers\")\n",
        "print(\"Segunda lista\",randomList2)"
      ],
      "execution_count": null,
      "outputs": [
        {
          "output_type": "stream",
          "text": [
            "Printing list of 10 random numbers\n",
            "Segunda lista [5, 7, 0, 2, 3, 4, 8, 4, 3, 1, 8, 9, 1, 7, 2, 8, 5, 9, 3, 0, 0, 2, 3, 1, 6, 8, 7, 0, 1, 9, 7, 0, 1, 4, 8, 1, 9, 0, 2, 6, 2, 5, 6, 3, 5, 0, 0, 2, 1, 1, 1, 3, 8, 2, 2, 5, 4, 9, 4, 1, 3, 8, 4, 4, 0, 4, 5, 6, 9, 4, 5, 6, 6, 6, 7, 1, 1, 0, 5, 9, 2, 1, 3, 1, 5, 0, 3, 2, 0, 5, 4, 8, 3, 0, 7, 9, 6, 3, 4, 3, 7, 0, 9, 7, 3, 7, 6, 0, 4, 4, 3, 2, 7, 0, 0, 0, 4, 2, 3, 7, 9, 6, 9, 1, 3, 2, 6, 2, 1, 6, 7, 0, 3, 3, 6, 8, 0, 8, 9, 2, 9, 7, 6, 5, 8, 2, 6, 0, 6, 9, 5, 4, 0, 1, 8, 8, 6, 9, 5, 5, 1, 8, 5, 9, 4, 8, 4, 4, 7, 1, 9, 0, 1, 6, 8, 3, 1, 3, 6, 3, 5, 0, 3, 5, 1, 3, 8, 0, 7, 3, 3, 2, 4, 8, 8, 0, 7, 8, 0, 8, 6, 4, 2, 3, 0, 3, 1, 1, 6, 7, 8, 4, 9, 0, 4, 0, 9, 9, 8, 7, 1, 9, 6, 7, 7, 5, 7, 8, 1, 1, 9, 3, 9, 3, 3, 5, 8, 7, 3, 9, 0, 3, 9, 7, 0, 1, 3, 8, 0, 3, 5, 7, 1, 4, 5, 0, 1, 7, 9, 7, 3, 3, 9, 1, 7, 1, 5, 6, 8, 4, 9, 2, 0, 6, 1, 7, 0, 5, 4, 7, 7, 4, 8, 0, 7, 7, 6, 2, 2, 3, 2, 3, 5, 7, 2, 3, 7, 5, 7, 8, 9, 9, 7, 4, 9, 7, 8, 0, 2, 1, 7, 6, 5, 1, 8, 8, 1, 8, 6, 3, 5, 6, 0, 1, 2, 6, 5, 5, 5, 6, 0, 0, 6, 2, 0, 5, 2, 3, 7, 6, 6, 3, 3, 4, 4, 0, 7, 3, 3, 4, 6, 1, 9, 4, 6, 8, 7, 9, 3, 0, 4, 0, 9, 8, 8, 4, 8, 6, 9, 5, 1, 6, 2, 9, 5, 5, 9, 8, 2, 4, 2, 3, 1, 5, 1, 7, 5, 4, 7, 6, 7, 6, 5, 8, 3, 3, 8, 0, 8, 1, 0, 8, 6, 9, 6, 1, 9, 5, 3, 8, 6, 0, 4, 1, 8, 9, 9, 3, 0, 5, 7, 4, 5, 3, 6, 0, 2, 0, 4, 1, 3, 0, 7, 4, 0, 8, 8, 3, 6, 0, 1, 7, 5, 3, 5, 1, 3, 5, 7, 4, 9, 6, 6, 2, 1, 5, 2, 4, 3, 3, 7, 3, 1, 4, 4, 5, 9, 7, 9, 2, 2, 7, 9, 5, 0, 2, 7, 8, 8, 5, 4, 8, 1, 4, 5, 9, 9, 9, 4, 7, 4, 9, 3, 9, 4, 1, 7, 6, 4, 5, 9, 1, 9, 6, 4, 6, 0, 9, 1, 3, 7, 7, 9, 4, 3, 8, 8, 8, 9, 5, 5, 3, 7, 6, 5, 1, 0, 9, 4, 3, 9, 3, 3, 4, 0, 6, 8, 2, 0, 7, 6, 8, 7, 4, 1, 2, 7, 0, 2, 7, 7, 3, 8, 0, 6, 2, 5, 1, 9, 1, 9, 8, 2, 7, 2, 0, 4, 8, 2, 2, 3, 3, 4, 8, 1, 3, 3, 6, 9, 8, 8, 7, 0, 1, 3, 3, 7, 1, 6, 7, 2, 4, 6, 6, 5, 9, 4, 5, 3, 5, 4, 6, 7, 4, 6, 8, 0, 1, 1, 1, 2, 4, 4, 0, 7, 3, 1, 4, 0, 3, 4, 2, 3, 5, 0, 1, 6, 0, 5, 7, 0, 1, 1, 4, 1, 6, 7, 2, 4, 8, 4, 8, 7, 1, 6, 9, 3, 5, 7, 0, 0, 2, 8, 1, 3, 6, 9, 9, 0, 5, 4, 3, 3, 0, 4, 1, 0, 3, 1, 8, 5, 9, 9, 2, 6, 2, 1, 0, 3, 6, 4, 4, 5, 6, 3, 2, 0, 6, 0, 7, 3, 1, 8, 5, 6, 1, 2, 4, 1, 0, 5, 4, 0, 9, 5, 3, 5, 1, 6, 3, 8, 1, 0, 3, 7, 6, 5, 6, 2, 4, 5, 5, 3, 8, 1, 7, 4, 9, 8, 4, 9, 7, 0, 2, 5, 9, 5, 6, 4, 7, 0, 8, 7, 4, 2, 8, 3, 2, 5, 1, 9, 6, 5, 4, 7, 4, 3, 4, 5, 6, 5, 6, 9, 3, 5, 4, 6, 6, 5, 3, 2, 0, 5, 7, 4, 7, 8, 7, 8, 9, 9, 9, 2, 3, 1, 8, 5, 3, 4, 4, 0, 8, 4, 7, 8, 8, 0, 3, 7, 3, 3, 5, 8, 0, 9, 9, 6, 2, 5, 0, 8, 8, 5, 7, 6, 1, 4, 1, 4, 4, 9, 6, 5, 1, 3, 0, 1, 1, 8, 5, 6, 6, 1, 9, 3, 0, 6, 4, 1, 4, 5, 4, 7, 8, 3, 6, 8, 4, 8, 9, 3, 7, 8, 9, 7, 9, 1, 5, 1, 6, 6, 3, 7, 6, 9, 5, 1, 4, 5, 8, 5, 4, 4, 7, 3, 8, 4, 7, 5, 1, 5, 6, 0, 9, 2, 9, 9, 5, 4, 1, 1, 4, 7, 8, 4, 2, 8, 8, 1, 4, 0, 4, 5, 3, 2, 9, 5, 0, 4, 6, 9, 6, 9, 0, 2, 0, 0, 3, 1, 1, 4, 5, 9, 2, 1, 4, 4, 7, 2, 7, 1, 5, 6, 3, 3, 3, 4, 6, 6, 1, 9, 8, 4, 1, 7, 9, 2, 1, 8, 9, 7, 7, 4, 5, 0, 3, 2, 5, 4, 9, 0, 9, 2, 6, 0, 4, 8, 1, 9, 0, 6, 1, 8, 7, 3, 4, 2, 5, 8, 9, 0, 0, 6, 1, 6, 3, 4, 4, 7, 1, 2, 1, 1, 8, 0, 1, 3, 7, 4, 7]\n"
          ],
          "name": "stdout"
        }
      ]
    },
    {
      "cell_type": "code",
      "metadata": {
        "colab": {
          "base_uri": "https://localhost:8080/"
        },
        "id": "50312RYeJDRm",
        "outputId": "01b0c71b-28d3-49be-d12f-ab2ed8ee1367"
      },
      "source": [
        "randomSum=np.add(randomList1,randomList2)\n",
        "print(randomSum)"
      ],
      "execution_count": null,
      "outputs": [
        {
          "output_type": "stream",
          "text": [
            "[ 8 13  5  6 11 13  9 11 12  7 16  9  6  7 11 14  7  9  8  2  6  5 10  1\n",
            " 15  8 10  2  4 10 10  1  4 11  9  8 13  0  7  7  7 14 15  7  5  9  8 10\n",
            "  7  9  7  6  9  4  7  7  9 15 11  5  6 13 10  8  6  6  9  8 16 13 12 13\n",
            "  8 15 14  5 10  0 14 11 11  2  5 10  6  5 10  6  7 12  5 12  3  5 11 18\n",
            "  8 12  5  6 12  9 12  7  7 11  6  6 12  8 11  3 15  9  8  2  4  4  5 10\n",
            " 11 15 16  5 11  3 15  4  8 10 10  2  8  8  7  8  8 12  9  2 10  7  9 14\n",
            "  9 11  9  7 15 12  9  8  1  2 14 10 15 17 12 13  1 16 12 18  9 14  7 13\n",
            " 11  8 16  1  8  8 13  5  8  5 12 11 11  1 12  8  4  7 17  7  9 11  4 11\n",
            "  8 11  9  0 14 16  0 17  9 13  5 12  0  8 10  3  9  8 15  5 13  7  7  8\n",
            " 13 14 11 15  9 17  7 10 13 13 16  9  6  9 13  4 10  4  5  8 12  9  4 18\n",
            "  4  3  9  9  1  3  8 17  8 11 12 12  8  4  5  6  7  8 18 11  9 10 11  1\n",
            " 14  1  7 14 12 12 12  4  4 13  8  7  1  6  4  7  7  5  9  9 11 16 15  7\n",
            "  4  7  3  3  8 12  4  6 10 10 11 13 13  9 12 10 16 10  9  5  6  6 16  7\n",
            " 12  7 11 11  1  8  8  6  6 12  1  4  7 12 14  7 11 12  9  7 14 11  1  8\n",
            "  8  9  9  8 10 12  6 12 11  5  8  6  4  7  6  3  9  7 11 10 13 15  9  4\n",
            "  5  0 16 12  9 12 13 15 15  7  9 13 11 16 12  8 15 13  8 12  8  8 10  6\n",
            " 10  9  6 13  8 11  7  8  8 16 11  4 11  7 11  6  1 13 12 18 11  1 10  8\n",
            "  8 16 15  9 11  9 16 18 13  7  1 10 11 10 13 10 15  4  3  7 11  1  7  6\n",
            "  8 13  1  9 17  3 14  1  4 14  7 11  8  3  5  8 11  5 15  9 11  4  5  7\n",
            "  3  7 12 10 16 10  3  9 11 10 17 12  9  6  2 16 12  6  0  2 13 12 11  9\n",
            "  5 16  7 12 12 10 14 16 13  8  9 15  8 10 10  1 16  8  6  6 13 10 18 12\n",
            " 10  8  4 10  6  8 12 12 17 10 10 10 11 17 16  7  6  4 16 12 10 10  2 10\n",
            "  7 11 12 11 10  7  8  6 13  2  9 16 13 12 12 10  4 10  8  7  6  8 16  5\n",
            " 12  3  9 11  9  3 15  1 14 12  8 13  8  3 12 16 10  7 10 12 13  8  8 11\n",
            "  7 12 14 15 13 16  2  7  6  3 15  2 12  7  5 11 11  6 13 18 12 10  4 14\n",
            "  8 12  9 10  9 11  7  4  3  9  7  6  8  8  7  8  3  7  7  5 10  3  5  9\n",
            "  7  3  9  5 13 11  3  6  9  4  6  9 12  5  9 14  5  9 10  2 13 12  7  6\n",
            " 14  0  9 10 13 10  6 14 11 12  0 14  4  7  6  4  9  1  2 10  3 16 10 12\n",
            " 14  2 11 11  1  6 10  8 10 10  7  8  3  3  1  9  8 10  6  3 13 14 11  5\n",
            "  8 13  6  9  7  9  5 15 10 10  8  1  8  6  9 10  9 11 15  6 13 12  8  5\n",
            "  9  8  8 13  5 16  7 17 10  7  9 13  2 10  8 12 13  8 10  9  0 11  7  7\n",
            " 11  8  7  4 12  2 11  8  7  5 12 13  8  7 12  7  5  7 10 11  8  9 10 10\n",
            "  7  7  7  6  9  9 10  8 15 13 10 12 18 13  3  7  2  8 12  6  8  9  0 16\n",
            "  6  9 13 12  9  8 10  6  7 11 16  4 11 11  6  8  7  8 17 10  9 10 10  5\n",
            "  4  9  7  8 11 15  7  9  7  0  1  7 14 12 12 13 10 12 12  7 14  6 10  5\n",
            "  5 10 10 16  7 15 17 10 15 18  5 10 14 13 12 17  6 14 10 13  7  3 13  9\n",
            " 12  9  2 12  7 16  5  7 13  7  9 14 11 14 14  3  7  7  0 18  7  9 18 12\n",
            "  9  4  9  6 13 12  9  8  9 17  7  7  7  4  9 12  6 13 10  1  4 15 16  6\n",
            " 14  3 10  9  1 10  1 10 10 13 11  3  8  9  8  7  3  8  8 13  8 10  9 12\n",
            " 13  8  7  2 17 17  4  8  9 13  4 10 16 10  7  8  8  9  9 12  2  6 13 18\n",
            "  3 10  9  8  8  8 15  5 12  2 14  5 15 14  3  5  6 11 13 14  0  5  8  1\n",
            " 14  6  9 11 15  5  9  7  8 15  2  8  9  7  6 13]\n"
          ],
          "name": "stdout"
        }
      ]
    },
    {
      "cell_type": "code",
      "metadata": {
        "colab": {
          "base_uri": "https://localhost:8080/"
        },
        "id": "lxj5T5Hp859s",
        "outputId": "b2999278-6660-401f-ac13-63d28cf782a7"
      },
      "source": [
        "Y_label=mod(randomSum,3)\n",
        "print(Y_label)"
      ],
      "execution_count": null,
      "outputs": [
        {
          "output_type": "stream",
          "text": [
            "[2 1 2 0 2 1 0 2 0 1 1 0 0 1 2 2 1 0 2 2 0 2 1 1 0 2 1 2 1 1 1 1 1 2 0 2 1\n",
            " 0 1 1 1 2 0 1 2 0 2 1 1 0 1 0 0 1 1 1 0 0 2 2 0 1 1 2 0 0 0 2 1 1 0 1 2 0\n",
            " 2 2 1 0 2 2 2 2 2 1 0 2 1 0 1 0 2 0 0 2 2 0 2 0 2 0 0 0 0 1 1 2 0 0 0 2 2\n",
            " 0 0 0 2 2 1 1 2 1 2 0 1 2 2 0 0 1 2 1 1 2 2 2 1 2 2 0 0 2 1 1 0 2 0 2 0 1\n",
            " 0 0 0 2 1 2 2 1 0 2 0 1 1 1 0 0 0 2 1 1 2 2 1 1 2 2 1 2 2 2 0 2 2 1 0 2 1\n",
            " 1 2 1 0 2 1 2 2 2 0 0 2 1 0 2 0 1 2 0 0 2 1 0 0 2 0 2 1 1 1 2 1 2 2 0 0 2\n",
            " 1 1 1 1 1 0 0 0 1 1 1 1 2 2 0 0 1 0 1 0 0 0 1 0 2 2 2 2 0 0 2 1 2 0 1 2 0\n",
            " 2 0 1 2 1 2 1 1 2 0 0 0 1 1 1 2 1 1 0 1 1 1 2 0 0 2 1 0 1 1 1 0 0 2 0 1 0\n",
            " 1 1 2 1 1 0 0 1 1 1 0 2 0 0 1 1 0 1 2 2 1 2 2 0 0 0 1 1 1 0 2 1 2 0 0 1 2\n",
            " 2 1 2 2 0 0 2 1 0 0 0 2 2 2 0 1 1 0 0 0 1 2 1 1 0 0 1 2 0 1 0 0 0 1 0 0 1\n",
            " 0 1 2 1 0 2 0 1 2 0 2 2 1 0 1 0 0 1 2 2 1 2 2 1 2 1 2 1 2 0 1 1 0 0 2 1 1\n",
            " 2 2 1 0 0 2 0 1 0 1 1 1 1 2 1 1 1 0 1 0 1 2 1 1 0 2 1 1 0 2 0 2 1 1 2 1 2\n",
            " 2 0 2 2 2 2 0 0 2 1 2 1 0 1 0 1 1 1 0 0 2 1 2 0 0 0 2 1 0 0 0 2 1 0 2 0 2\n",
            " 1 1 0 0 1 2 1 1 2 0 0 2 1 1 1 1 2 0 0 1 1 0 0 1 2 1 1 0 2 0 0 2 1 1 1 2 2\n",
            " 1 1 0 1 1 0 1 1 2 1 1 2 0 2 1 1 2 0 1 2 0 1 1 0 0 1 1 1 2 1 0 2 1 2 0 0 0\n",
            " 2 0 0 0 1 2 0 2 1 2 0 0 1 1 1 1 0 1 2 2 2 1 0 2 0 1 1 2 1 0 0 0 2 0 1 2 2\n",
            " 2 0 1 0 0 1 1 2 2 0 0 1 0 2 1 1 0 0 1 0 2 2 1 2 0 1 1 2 1 0 2 0 1 0 0 2 1\n",
            " 2 0 0 0 1 0 0 0 2 0 2 2 0 1 2 1 0 1 0 2 0 0 1 1 1 0 2 2 0 0 2 1 1 0 1 0 1\n",
            " 2 1 0 1 1 0 2 2 2 2 1 0 1 2 1 1 1 2 0 0 1 0 2 1 0 0 1 2 2 2 2 1 0 0 1 0 2\n",
            " 0 1 1 2 1 2 0 0 1 0 2 0 0 1 0 2 2 0 2 2 1 2 1 1 2 1 1 0 1 2 1 2 0 1 2 1 0\n",
            " 0 2 1 1 2 2 1 1 0 2 2 2 1 2 0 1 2 1 0 1 2 1 1 2 2 0 1 1 1 1 1 0 0 0 1 2 0\n",
            " 1 1 0 0 1 0 1 2 2 0 0 2 0 0 1 0 0 1 0 0 2 1 0 1 2 1 1 2 2 0 2 1 2 2 1 0 1\n",
            " 1 2 1 0 1 2 2 0 1 0 1 0 1 1 2 0 0 1 1 0 0 1 2 0 1 2 2 1 1 1 1 0 2 1 0 0 2\n",
            " 1 2 1 0 2 0 2 1 1 1 0 1 0 0 0 2 0 1 1 2 1 1 1 0 2 2 2 2 0 1 1 0 0 1 0 0 0\n",
            " 0 1 0 0 1 0 0 2 0 2 1 1 1 1 0 0 0 1 1 1 1 0 1 0 2 0 1 0 1 1 1 1 1 1 2 0 2\n",
            " 0 2 1 0 2 2 1 2 1 0 0 1 2 1 2 2 2 1 2 0 1 1 1 1 1 1 2 2 0 0 0 2 0 1 0 0 1\n",
            " 0 2 2 2 0 2 0 2 2 2 0 2 0 2 0 2 1 2 0 2 2 1 2 0 0 2 0 2 0 1 2 0 2 2 0 1 0\n",
            " 1]\n"
          ],
          "name": "stdout"
        }
      ]
    },
    {
      "cell_type": "code",
      "metadata": {
        "colab": {
          "base_uri": "https://localhost:8080/"
        },
        "id": "Hlg1D7jw85z_",
        "outputId": "97407f50-87fb-4c5c-e656-4db4644ad38a"
      },
      "source": [
        "Y_label[Y_label >=1] = 1\n",
        "print(Y_label)"
      ],
      "execution_count": null,
      "outputs": [
        {
          "output_type": "stream",
          "text": [
            "[1 1 1 0 1 1 0 1 0 1 1 0 0 1 1 1 1 0 1 1 0 1 1 1 0 1 1 1 1 1 1 1 1 1 0 1 1\n",
            " 0 1 1 1 1 0 1 1 0 1 1 1 0 1 0 0 1 1 1 0 0 1 1 0 1 1 1 0 0 0 1 1 1 0 1 1 0\n",
            " 1 1 1 0 1 1 1 1 1 1 0 1 1 0 1 0 1 0 0 1 1 0 1 0 1 0 0 0 0 1 1 1 0 0 0 1 1\n",
            " 0 0 0 1 1 1 1 1 1 1 0 1 1 1 0 0 1 1 1 1 1 1 1 1 1 1 0 0 1 1 1 0 1 0 1 0 1\n",
            " 0 0 0 1 1 1 1 1 0 1 0 1 1 1 0 0 0 1 1 1 1 1 1 1 1 1 1 1 1 1 0 1 1 1 0 1 1\n",
            " 1 1 1 0 1 1 1 1 1 0 0 1 1 0 1 0 1 1 0 0 1 1 0 0 1 0 1 1 1 1 1 1 1 1 0 0 1\n",
            " 1 1 1 1 1 0 0 0 1 1 1 1 1 1 0 0 1 0 1 0 0 0 1 0 1 1 1 1 0 0 1 1 1 0 1 1 0\n",
            " 1 0 1 1 1 1 1 1 1 0 0 0 1 1 1 1 1 1 0 1 1 1 1 0 0 1 1 0 1 1 1 0 0 1 0 1 0\n",
            " 1 1 1 1 1 0 0 1 1 1 0 1 0 0 1 1 0 1 1 1 1 1 1 0 0 0 1 1 1 0 1 1 1 0 0 1 1\n",
            " 1 1 1 1 0 0 1 1 0 0 0 1 1 1 0 1 1 0 0 0 1 1 1 1 0 0 1 1 0 1 0 0 0 1 0 0 1\n",
            " 0 1 1 1 0 1 0 1 1 0 1 1 1 0 1 0 0 1 1 1 1 1 1 1 1 1 1 1 1 0 1 1 0 0 1 1 1\n",
            " 1 1 1 0 0 1 0 1 0 1 1 1 1 1 1 1 1 0 1 0 1 1 1 1 0 1 1 1 0 1 0 1 1 1 1 1 1\n",
            " 1 0 1 1 1 1 0 0 1 1 1 1 0 1 0 1 1 1 0 0 1 1 1 0 0 0 1 1 0 0 0 1 1 0 1 0 1\n",
            " 1 1 0 0 1 1 1 1 1 0 0 1 1 1 1 1 1 0 0 1 1 0 0 1 1 1 1 0 1 0 0 1 1 1 1 1 1\n",
            " 1 1 0 1 1 0 1 1 1 1 1 1 0 1 1 1 1 0 1 1 0 1 1 0 0 1 1 1 1 1 0 1 1 1 0 0 0\n",
            " 1 0 0 0 1 1 0 1 1 1 0 0 1 1 1 1 0 1 1 1 1 1 0 1 0 1 1 1 1 0 0 0 1 0 1 1 1\n",
            " 1 0 1 0 0 1 1 1 1 0 0 1 0 1 1 1 0 0 1 0 1 1 1 1 0 1 1 1 1 0 1 0 1 0 0 1 1\n",
            " 1 0 0 0 1 0 0 0 1 0 1 1 0 1 1 1 0 1 0 1 0 0 1 1 1 0 1 1 0 0 1 1 1 0 1 0 1\n",
            " 1 1 0 1 1 0 1 1 1 1 1 0 1 1 1 1 1 1 0 0 1 0 1 1 0 0 1 1 1 1 1 1 0 0 1 0 1\n",
            " 0 1 1 1 1 1 0 0 1 0 1 0 0 1 0 1 1 0 1 1 1 1 1 1 1 1 1 0 1 1 1 1 0 1 1 1 0\n",
            " 0 1 1 1 1 1 1 1 0 1 1 1 1 1 0 1 1 1 0 1 1 1 1 1 1 0 1 1 1 1 1 0 0 0 1 1 0\n",
            " 1 1 0 0 1 0 1 1 1 0 0 1 0 0 1 0 0 1 0 0 1 1 0 1 1 1 1 1 1 0 1 1 1 1 1 0 1\n",
            " 1 1 1 0 1 1 1 0 1 0 1 0 1 1 1 0 0 1 1 0 0 1 1 0 1 1 1 1 1 1 1 0 1 1 0 0 1\n",
            " 1 1 1 0 1 0 1 1 1 1 0 1 0 0 0 1 0 1 1 1 1 1 1 0 1 1 1 1 0 1 1 0 0 1 0 0 0\n",
            " 0 1 0 0 1 0 0 1 0 1 1 1 1 1 0 0 0 1 1 1 1 0 1 0 1 0 1 0 1 1 1 1 1 1 1 0 1\n",
            " 0 1 1 0 1 1 1 1 1 0 0 1 1 1 1 1 1 1 1 0 1 1 1 1 1 1 1 1 0 0 0 1 0 1 0 0 1\n",
            " 0 1 1 1 0 1 0 1 1 1 0 1 0 1 0 1 1 1 0 1 1 1 1 0 0 1 0 1 0 1 1 0 1 1 0 1 0\n",
            " 1]\n"
          ],
          "name": "stdout"
        }
      ]
    },
    {
      "cell_type": "markdown",
      "metadata": {
        "id": "lz89pTNvl0le"
      },
      "source": [
        "Se construye un dataframe con las anteriores listas distribuidas en forma de columnas."
      ]
    },
    {
      "cell_type": "code",
      "metadata": {
        "id": "ZHEA5_YvJZIj",
        "colab": {
          "base_uri": "https://localhost:8080/"
        },
        "outputId": "99022f36-5823-41f1-8d47-3f30a533cfae"
      },
      "source": [
        "# Some arrangements for next plots\n",
        "df2=np.column_stack((randomList1, randomList2, randomSum,Y_label))\n",
        "print(df2.shape)\n",
        "dfnew=pd.DataFrame(data=df2)\n",
        "print(dfnew.shape)"
      ],
      "execution_count": null,
      "outputs": [
        {
          "output_type": "stream",
          "text": [
            "(1000, 4)\n",
            "(1000, 4)\n"
          ],
          "name": "stdout"
        }
      ]
    },
    {
      "cell_type": "markdown",
      "metadata": {
        "id": "bNz3CIyuRzMO"
      },
      "source": [
        "Se pone nombre a las columnas."
      ]
    },
    {
      "cell_type": "code",
      "metadata": {
        "id": "Dq7S0KWRRzls",
        "colab": {
          "base_uri": "https://localhost:8080/"
        },
        "outputId": "383fdca1-0212-4577-bc2b-88faba6552f1"
      },
      "source": [
        "print(dfnew.columns)\n",
        "dfnew.columns = [\"V1\",\"V2\",\"Suma\",\"Y_label\"]\n",
        "print(dfnew.columns)"
      ],
      "execution_count": null,
      "outputs": [
        {
          "output_type": "stream",
          "text": [
            "RangeIndex(start=0, stop=4, step=1)\n",
            "Index(['V1', 'V2', 'Suma', 'Y_label'], dtype='object')\n"
          ],
          "name": "stdout"
        }
      ]
    },
    {
      "cell_type": "markdown",
      "metadata": {
        "id": "5NGidlW3Rnsl"
      },
      "source": [
        "Se borran estructuras de datos innecesarias."
      ]
    },
    {
      "cell_type": "code",
      "metadata": {
        "id": "ksxWmJD-RwKG"
      },
      "source": [
        "del(df2)"
      ],
      "execution_count": null,
      "outputs": []
    },
    {
      "cell_type": "code",
      "metadata": {
        "id": "3J75JEXmKGry",
        "colab": {
          "base_uri": "https://localhost:8080/"
        },
        "outputId": "45be23bb-4632-4460-b11e-1ad2d043e7a3"
      },
      "source": [
        "print(dfnew)"
      ],
      "execution_count": null,
      "outputs": [
        {
          "output_type": "stream",
          "text": [
            "     V1  V2  Suma  Y_label\n",
            "0     3   5     8        1\n",
            "1     6   7    13        1\n",
            "2     5   0     5        1\n",
            "3     4   2     6        0\n",
            "4     8   3    11        1\n",
            "..   ..  ..   ...      ...\n",
            "995   7   1     8        1\n",
            "996   6   3     9        0\n",
            "997   0   7     7        1\n",
            "998   2   4     6        0\n",
            "999   6   7    13        1\n",
            "\n",
            "[1000 rows x 4 columns]\n"
          ],
          "name": "stdout"
        }
      ]
    },
    {
      "cell_type": "markdown",
      "metadata": {
        "id": "y3YFmUE4lvsH"
      },
      "source": [
        "Se eliminan las variables no necesarias."
      ]
    },
    {
      "cell_type": "code",
      "metadata": {
        "id": "YuLt5jPPmLcS"
      },
      "source": [
        "del(randomList1,randomList2,randomSum)"
      ],
      "execution_count": null,
      "outputs": []
    },
    {
      "cell_type": "markdown",
      "metadata": {
        "id": "X5JDha7BmRD_"
      },
      "source": [
        "A partir del dataframe, se separan las variables independientes (X) y las dependientes (Y)."
      ]
    },
    {
      "cell_type": "code",
      "metadata": {
        "colab": {
          "base_uri": "https://localhost:8080/"
        },
        "id": "HpxU3-4hKiN2",
        "outputId": "344c6089-a773-4a7f-c8f6-8d6442a50680"
      },
      "source": [
        "# Para las variables independientes se seleccionan las dos primeras columnas del dataframe dfnew.\n",
        "X = dfnew.iloc[:,0:2]\n",
        "print(X.shape)"
      ],
      "execution_count": null,
      "outputs": [
        {
          "output_type": "stream",
          "text": [
            "(1000, 2)\n"
          ],
          "name": "stdout"
        }
      ]
    },
    {
      "cell_type": "code",
      "metadata": {
        "colab": {
          "base_uri": "https://localhost:8080/"
        },
        "id": "0-jGhTMbKswW",
        "outputId": "2daf834e-3546-4b91-9e80-0069c6b99081"
      },
      "source": [
        "# y para la variable dependiente se selecciona la cuarta columna (índice 3).\n",
        "Y = dfnew.iloc[:,3]\n",
        "print(Y.shape)"
      ],
      "execution_count": null,
      "outputs": [
        {
          "output_type": "stream",
          "text": [
            "(1000,)\n"
          ],
          "name": "stdout"
        }
      ]
    },
    {
      "cell_type": "code",
      "metadata": {
        "id": "_6gM5MQLK68I"
      },
      "source": [
        "# Quality check\n",
        "assert X.shape[0] == Y.shape[0]"
      ],
      "execution_count": null,
      "outputs": []
    },
    {
      "cell_type": "markdown",
      "metadata": {
        "id": "3QGkp0AMLOI_"
      },
      "source": [
        "## Separación de los conjuntos de entrenamiento y test.\n",
        "Se verifica la dimensionalidad."
      ]
    },
    {
      "cell_type": "code",
      "metadata": {
        "colab": {
          "base_uri": "https://localhost:8080/"
        },
        "id": "-7z4Y6KaLFaI",
        "outputId": "2d7e6118-ec46-4f5c-baaf-5f36bcb1901c"
      },
      "source": [
        "print(X.shape)\n",
        "test_size = int(np.floor(0.30*X.shape[0]) )\n",
        "print(test_size)"
      ],
      "execution_count": null,
      "outputs": [
        {
          "output_type": "stream",
          "text": [
            "(1000, 2)\n",
            "300\n"
          ],
          "name": "stdout"
        }
      ]
    },
    {
      "cell_type": "code",
      "metadata": {
        "id": "DxwcduzFQjo1"
      },
      "source": [
        " X = np.asarray(X)# convertirnos los datos de DataFrame a Numpy Arrays\n",
        " Y = np.asarray(Y)# para que sean leidos por los modulos de Keras"
      ],
      "execution_count": null,
      "outputs": []
    },
    {
      "cell_type": "code",
      "metadata": {
        "colab": {
          "base_uri": "https://localhost:8080/"
        },
        "id": "8vxfjfFuLNDD",
        "outputId": "e64694ef-8d3f-4a81-d2fa-235bd88d4092"
      },
      "source": [
        "trainX, testX = X[:-test_size], X[-test_size:]\n",
        "trainY, testY = Y[:-test_size], Y[-test_size:]\n",
        "print(trainX.shape,testX.shape)\n",
        "print(len(trainY),len(testY))"
      ],
      "execution_count": null,
      "outputs": [
        {
          "output_type": "stream",
          "text": [
            "(700, 2) (300, 2)\n",
            "700 300\n"
          ],
          "name": "stdout"
        }
      ]
    },
    {
      "cell_type": "code",
      "metadata": {
        "colab": {
          "base_uri": "https://localhost:8080/"
        },
        "id": "QlhPCrA4MBMu",
        "outputId": "ed081a97-3755-414e-a111-aa852cc69a5e"
      },
      "source": [
        " trainX_num=trainX.shape[1]\n",
        " print(trainX_num)"
      ],
      "execution_count": null,
      "outputs": [
        {
          "output_type": "stream",
          "text": [
            "2\n"
          ],
          "name": "stdout"
        }
      ]
    },
    {
      "cell_type": "markdown",
      "metadata": {
        "id": "MVEhMG8WpEA5"
      },
      "source": [
        "Definición de la Red Neuronal"
      ]
    },
    {
      "cell_type": "code",
      "metadata": {
        "colab": {
          "base_uri": "https://localhost:8080/"
        },
        "id": "qhmjlgItQ66v",
        "outputId": "7daccf2c-7754-4e85-bd1c-a1c2e95a4b13"
      },
      "source": [
        "model = keras.Sequential() # creamos el modelo secuencial\n",
        "\n",
        "# Ponemos una primera capa oculta\n",
        "model.add(Dense(100, activation='relu', input_shape=(2,))) \n",
        "print(model.layers[-1].output_shape)\n",
        "# Segunda capa\n",
        "model.add(Dense(50, activation='relu')) \n",
        "print(model.layers[-1].output_shape)\n",
        "# Tercera capa\n",
        "model.add(Dense(50, activation='relu')) \n",
        "print(model.layers[-1].output_shape)\n",
        "# Incorporamos la capa de salida\n",
        "model.add(Dense( 1, activation='sigmoid'))"
      ],
      "execution_count": null,
      "outputs": [
        {
          "output_type": "stream",
          "text": [
            "(None, 100)\n",
            "(None, 50)\n",
            "(None, 50)\n"
          ],
          "name": "stdout"
        }
      ]
    },
    {
      "cell_type": "markdown",
      "metadata": {
        "id": "KAJ76CKqpD7-"
      },
      "source": [
        "Se muestra un resumen de la red creada."
      ]
    },
    {
      "cell_type": "code",
      "metadata": {
        "colab": {
          "base_uri": "https://localhost:8080/"
        },
        "id": "Ds2gz3S7dbuK",
        "outputId": "1d0b156a-b880-4320-950d-93c3a2712009"
      },
      "source": [
        "model.summary()"
      ],
      "execution_count": null,
      "outputs": [
        {
          "output_type": "stream",
          "text": [
            "Model: \"sequential\"\n",
            "_________________________________________________________________\n",
            "Layer (type)                 Output Shape              Param #   \n",
            "=================================================================\n",
            "dense (Dense)                (None, 100)               300       \n",
            "_________________________________________________________________\n",
            "dense_1 (Dense)              (None, 50)                5050      \n",
            "_________________________________________________________________\n",
            "dense_2 (Dense)              (None, 50)                2550      \n",
            "_________________________________________________________________\n",
            "dense_3 (Dense)              (None, 1)                 51        \n",
            "=================================================================\n",
            "Total params: 7,951\n",
            "Trainable params: 7,951\n",
            "Non-trainable params: 0\n",
            "_________________________________________________________________\n"
          ],
          "name": "stdout"
        }
      ]
    },
    {
      "cell_type": "markdown",
      "metadata": {
        "id": "6TCICToeo7mC"
      },
      "source": [
        "Se compila el modelo, incluyendo la elección del optimizador y del error que se minimizará durante el entrenamiento. A continuación se entrena el modelo, almacenando la información del error en la variable \"history\". "
      ]
    },
    {
      "cell_type": "code",
      "metadata": {
        "id": "g6_0STjWcGSA"
      },
      "source": [
        "model.compile(loss='binary_crossentropy',  optimizer='adam', metrics=['accuracy'])"
      ],
      "execution_count": null,
      "outputs": []
    },
    {
      "cell_type": "code",
      "metadata": {
        "id": "h2_es52ISayE",
        "colab": {
          "base_uri": "https://localhost:8080/"
        },
        "outputId": "d19795f7-4851-4fff-8545-d34ebaec1a50"
      },
      "source": [
        " history=model.fit(trainX, trainY, epochs=100, batch_size=16, validation_data=(testX, testY), verbose=2)"
      ],
      "execution_count": null,
      "outputs": [
        {
          "output_type": "stream",
          "text": [
            "Epoch 1/100\n",
            "44/44 - 1s - loss: 0.6531 - accuracy: 0.6543 - val_loss: 0.6498 - val_accuracy: 0.6667\n",
            "Epoch 2/100\n",
            "44/44 - 0s - loss: 0.6553 - accuracy: 0.6629 - val_loss: 0.6441 - val_accuracy: 0.6667\n",
            "Epoch 3/100\n",
            "44/44 - 0s - loss: 0.6474 - accuracy: 0.6629 - val_loss: 0.6599 - val_accuracy: 0.6667\n",
            "Epoch 4/100\n",
            "44/44 - 0s - loss: 0.6450 - accuracy: 0.6629 - val_loss: 0.6434 - val_accuracy: 0.6667\n",
            "Epoch 5/100\n",
            "44/44 - 0s - loss: 0.6395 - accuracy: 0.6757 - val_loss: 0.6407 - val_accuracy: 0.6833\n",
            "Epoch 6/100\n",
            "44/44 - 0s - loss: 0.6453 - accuracy: 0.6757 - val_loss: 0.6406 - val_accuracy: 0.6833\n",
            "Epoch 7/100\n",
            "44/44 - 0s - loss: 0.6374 - accuracy: 0.6757 - val_loss: 0.6357 - val_accuracy: 0.6833\n",
            "Epoch 8/100\n",
            "44/44 - 0s - loss: 0.6395 - accuracy: 0.6757 - val_loss: 0.6313 - val_accuracy: 0.6833\n",
            "Epoch 9/100\n",
            "44/44 - 0s - loss: 0.6334 - accuracy: 0.6757 - val_loss: 0.6337 - val_accuracy: 0.6833\n",
            "Epoch 10/100\n",
            "44/44 - 0s - loss: 0.6278 - accuracy: 0.6757 - val_loss: 0.6339 - val_accuracy: 0.6833\n",
            "Epoch 11/100\n",
            "44/44 - 0s - loss: 0.6295 - accuracy: 0.6757 - val_loss: 0.6239 - val_accuracy: 0.6833\n",
            "Epoch 12/100\n",
            "44/44 - 0s - loss: 0.6261 - accuracy: 0.6757 - val_loss: 0.6351 - val_accuracy: 0.6833\n",
            "Epoch 13/100\n",
            "44/44 - 0s - loss: 0.6222 - accuracy: 0.6757 - val_loss: 0.6188 - val_accuracy: 0.6833\n",
            "Epoch 14/100\n",
            "44/44 - 0s - loss: 0.6212 - accuracy: 0.6757 - val_loss: 0.6203 - val_accuracy: 0.6833\n",
            "Epoch 15/100\n",
            "44/44 - 0s - loss: 0.6200 - accuracy: 0.6757 - val_loss: 0.6182 - val_accuracy: 0.6833\n",
            "Epoch 16/100\n",
            "44/44 - 0s - loss: 0.6157 - accuracy: 0.6757 - val_loss: 0.6165 - val_accuracy: 0.6833\n",
            "Epoch 17/100\n",
            "44/44 - 0s - loss: 0.6167 - accuracy: 0.6757 - val_loss: 0.6098 - val_accuracy: 0.6833\n",
            "Epoch 18/100\n",
            "44/44 - 0s - loss: 0.6093 - accuracy: 0.6757 - val_loss: 0.6122 - val_accuracy: 0.6833\n",
            "Epoch 19/100\n",
            "44/44 - 0s - loss: 0.6093 - accuracy: 0.6757 - val_loss: 0.6072 - val_accuracy: 0.6833\n",
            "Epoch 20/100\n",
            "44/44 - 0s - loss: 0.6046 - accuracy: 0.6771 - val_loss: 0.6122 - val_accuracy: 0.6967\n",
            "Epoch 21/100\n",
            "44/44 - 0s - loss: 0.6050 - accuracy: 0.6771 - val_loss: 0.6040 - val_accuracy: 0.6833\n",
            "Epoch 22/100\n",
            "44/44 - 0s - loss: 0.6068 - accuracy: 0.6757 - val_loss: 0.6169 - val_accuracy: 0.6833\n",
            "Epoch 23/100\n",
            "44/44 - 0s - loss: 0.6063 - accuracy: 0.6757 - val_loss: 0.6021 - val_accuracy: 0.6833\n",
            "Epoch 24/100\n",
            "44/44 - 0s - loss: 0.6072 - accuracy: 0.6757 - val_loss: 0.6062 - val_accuracy: 0.6833\n",
            "Epoch 25/100\n",
            "44/44 - 0s - loss: 0.6048 - accuracy: 0.6757 - val_loss: 0.6020 - val_accuracy: 0.6833\n",
            "Epoch 26/100\n",
            "44/44 - 0s - loss: 0.6024 - accuracy: 0.6757 - val_loss: 0.6023 - val_accuracy: 0.6833\n",
            "Epoch 27/100\n",
            "44/44 - 0s - loss: 0.6031 - accuracy: 0.6757 - val_loss: 0.6100 - val_accuracy: 0.6833\n",
            "Epoch 28/100\n",
            "44/44 - 0s - loss: 0.6080 - accuracy: 0.6714 - val_loss: 0.6022 - val_accuracy: 0.6833\n",
            "Epoch 29/100\n",
            "44/44 - 0s - loss: 0.6019 - accuracy: 0.6757 - val_loss: 0.6038 - val_accuracy: 0.6833\n",
            "Epoch 30/100\n",
            "44/44 - 0s - loss: 0.6006 - accuracy: 0.6757 - val_loss: 0.5993 - val_accuracy: 0.6833\n",
            "Epoch 31/100\n",
            "44/44 - 0s - loss: 0.6002 - accuracy: 0.6757 - val_loss: 0.6000 - val_accuracy: 0.6833\n",
            "Epoch 32/100\n",
            "44/44 - 0s - loss: 0.5994 - accuracy: 0.6757 - val_loss: 0.5986 - val_accuracy: 0.6833\n",
            "Epoch 33/100\n",
            "44/44 - 0s - loss: 0.5997 - accuracy: 0.6757 - val_loss: 0.6002 - val_accuracy: 0.6833\n",
            "Epoch 34/100\n",
            "44/44 - 0s - loss: 0.5987 - accuracy: 0.6757 - val_loss: 0.6026 - val_accuracy: 0.6833\n",
            "Epoch 35/100\n",
            "44/44 - 0s - loss: 0.5982 - accuracy: 0.6757 - val_loss: 0.5991 - val_accuracy: 0.6833\n",
            "Epoch 36/100\n",
            "44/44 - 0s - loss: 0.5987 - accuracy: 0.6757 - val_loss: 0.6013 - val_accuracy: 0.6833\n",
            "Epoch 37/100\n",
            "44/44 - 0s - loss: 0.5989 - accuracy: 0.6757 - val_loss: 0.6035 - val_accuracy: 0.6833\n",
            "Epoch 38/100\n",
            "44/44 - 0s - loss: 0.6007 - accuracy: 0.6757 - val_loss: 0.5984 - val_accuracy: 0.6833\n",
            "Epoch 39/100\n",
            "44/44 - 0s - loss: 0.5955 - accuracy: 0.6757 - val_loss: 0.5990 - val_accuracy: 0.6833\n",
            "Epoch 40/100\n",
            "44/44 - 0s - loss: 0.5949 - accuracy: 0.6757 - val_loss: 0.5968 - val_accuracy: 0.6833\n",
            "Epoch 41/100\n",
            "44/44 - 0s - loss: 0.5953 - accuracy: 0.6757 - val_loss: 0.6042 - val_accuracy: 0.6833\n",
            "Epoch 42/100\n",
            "44/44 - 0s - loss: 0.5969 - accuracy: 0.6757 - val_loss: 0.5974 - val_accuracy: 0.6833\n",
            "Epoch 43/100\n",
            "44/44 - 0s - loss: 0.5960 - accuracy: 0.6714 - val_loss: 0.5992 - val_accuracy: 0.6833\n",
            "Epoch 44/100\n",
            "44/44 - 0s - loss: 0.5908 - accuracy: 0.6757 - val_loss: 0.5977 - val_accuracy: 0.6833\n",
            "Epoch 45/100\n",
            "44/44 - 0s - loss: 0.5905 - accuracy: 0.6757 - val_loss: 0.5962 - val_accuracy: 0.6833\n",
            "Epoch 46/100\n",
            "44/44 - 0s - loss: 0.5890 - accuracy: 0.6786 - val_loss: 0.5925 - val_accuracy: 0.6867\n",
            "Epoch 47/100\n",
            "44/44 - 0s - loss: 0.5879 - accuracy: 0.6943 - val_loss: 0.5976 - val_accuracy: 0.6867\n",
            "Epoch 48/100\n",
            "44/44 - 0s - loss: 0.5927 - accuracy: 0.6914 - val_loss: 0.5929 - val_accuracy: 0.6867\n",
            "Epoch 49/100\n",
            "44/44 - 0s - loss: 0.5833 - accuracy: 0.6957 - val_loss: 0.5915 - val_accuracy: 0.6867\n",
            "Epoch 50/100\n",
            "44/44 - 0s - loss: 0.5880 - accuracy: 0.7014 - val_loss: 0.5886 - val_accuracy: 0.6967\n",
            "Epoch 51/100\n",
            "44/44 - 0s - loss: 0.5813 - accuracy: 0.7057 - val_loss: 0.5855 - val_accuracy: 0.7100\n",
            "Epoch 52/100\n",
            "44/44 - 0s - loss: 0.5820 - accuracy: 0.7129 - val_loss: 0.5866 - val_accuracy: 0.7100\n",
            "Epoch 53/100\n",
            "44/44 - 0s - loss: 0.5743 - accuracy: 0.7143 - val_loss: 0.5804 - val_accuracy: 0.7100\n",
            "Epoch 54/100\n",
            "44/44 - 0s - loss: 0.5748 - accuracy: 0.7114 - val_loss: 0.5778 - val_accuracy: 0.7100\n",
            "Epoch 55/100\n",
            "44/44 - 0s - loss: 0.5713 - accuracy: 0.7143 - val_loss: 0.5847 - val_accuracy: 0.7100\n",
            "Epoch 56/100\n",
            "44/44 - 0s - loss: 0.5736 - accuracy: 0.7143 - val_loss: 0.5842 - val_accuracy: 0.7100\n",
            "Epoch 57/100\n",
            "44/44 - 0s - loss: 0.5702 - accuracy: 0.7171 - val_loss: 0.5874 - val_accuracy: 0.7100\n",
            "Epoch 58/100\n",
            "44/44 - 0s - loss: 0.5654 - accuracy: 0.7143 - val_loss: 0.5807 - val_accuracy: 0.7100\n",
            "Epoch 59/100\n",
            "44/44 - 0s - loss: 0.5598 - accuracy: 0.7171 - val_loss: 0.5721 - val_accuracy: 0.7233\n",
            "Epoch 60/100\n",
            "44/44 - 0s - loss: 0.5606 - accuracy: 0.7157 - val_loss: 0.5771 - val_accuracy: 0.7167\n",
            "Epoch 61/100\n",
            "44/44 - 0s - loss: 0.5584 - accuracy: 0.7129 - val_loss: 0.5698 - val_accuracy: 0.7100\n",
            "Epoch 62/100\n",
            "44/44 - 0s - loss: 0.5544 - accuracy: 0.7157 - val_loss: 0.5708 - val_accuracy: 0.7100\n",
            "Epoch 63/100\n",
            "44/44 - 0s - loss: 0.5520 - accuracy: 0.7143 - val_loss: 0.5653 - val_accuracy: 0.7100\n",
            "Epoch 64/100\n",
            "44/44 - 0s - loss: 0.5487 - accuracy: 0.7186 - val_loss: 0.5668 - val_accuracy: 0.7100\n",
            "Epoch 65/100\n",
            "44/44 - 0s - loss: 0.5473 - accuracy: 0.7143 - val_loss: 0.5649 - val_accuracy: 0.7233\n",
            "Epoch 66/100\n",
            "44/44 - 0s - loss: 0.5511 - accuracy: 0.7214 - val_loss: 0.5598 - val_accuracy: 0.7233\n",
            "Epoch 67/100\n",
            "44/44 - 0s - loss: 0.5466 - accuracy: 0.7214 - val_loss: 0.5621 - val_accuracy: 0.7100\n",
            "Epoch 68/100\n",
            "44/44 - 0s - loss: 0.5458 - accuracy: 0.7157 - val_loss: 0.5592 - val_accuracy: 0.7100\n",
            "Epoch 69/100\n",
            "44/44 - 0s - loss: 0.5498 - accuracy: 0.7100 - val_loss: 0.5626 - val_accuracy: 0.7233\n",
            "Epoch 70/100\n",
            "44/44 - 0s - loss: 0.5494 - accuracy: 0.7214 - val_loss: 0.5635 - val_accuracy: 0.7167\n",
            "Epoch 71/100\n",
            "44/44 - 0s - loss: 0.5437 - accuracy: 0.7186 - val_loss: 0.5595 - val_accuracy: 0.7100\n",
            "Epoch 72/100\n",
            "44/44 - 0s - loss: 0.5403 - accuracy: 0.7214 - val_loss: 0.5629 - val_accuracy: 0.7233\n",
            "Epoch 73/100\n",
            "44/44 - 0s - loss: 0.5428 - accuracy: 0.7257 - val_loss: 0.5601 - val_accuracy: 0.7100\n",
            "Epoch 74/100\n",
            "44/44 - 0s - loss: 0.5386 - accuracy: 0.7186 - val_loss: 0.5626 - val_accuracy: 0.7100\n",
            "Epoch 75/100\n",
            "44/44 - 0s - loss: 0.5399 - accuracy: 0.7186 - val_loss: 0.5570 - val_accuracy: 0.7167\n",
            "Epoch 76/100\n",
            "44/44 - 0s - loss: 0.5448 - accuracy: 0.7171 - val_loss: 0.5581 - val_accuracy: 0.7100\n",
            "Epoch 77/100\n",
            "44/44 - 0s - loss: 0.5369 - accuracy: 0.7214 - val_loss: 0.5543 - val_accuracy: 0.7233\n",
            "Epoch 78/100\n",
            "44/44 - 0s - loss: 0.5327 - accuracy: 0.7214 - val_loss: 0.5506 - val_accuracy: 0.7233\n",
            "Epoch 79/100\n",
            "44/44 - 0s - loss: 0.5331 - accuracy: 0.7214 - val_loss: 0.5509 - val_accuracy: 0.7233\n",
            "Epoch 80/100\n",
            "44/44 - 0s - loss: 0.5315 - accuracy: 0.7271 - val_loss: 0.5646 - val_accuracy: 0.7333\n",
            "Epoch 81/100\n",
            "44/44 - 0s - loss: 0.5347 - accuracy: 0.7243 - val_loss: 0.5509 - val_accuracy: 0.7233\n",
            "Epoch 82/100\n",
            "44/44 - 0s - loss: 0.5275 - accuracy: 0.7271 - val_loss: 0.5550 - val_accuracy: 0.7333\n",
            "Epoch 83/100\n",
            "44/44 - 0s - loss: 0.5270 - accuracy: 0.7286 - val_loss: 0.5475 - val_accuracy: 0.7233\n",
            "Epoch 84/100\n",
            "44/44 - 0s - loss: 0.5280 - accuracy: 0.7314 - val_loss: 0.5452 - val_accuracy: 0.7333\n",
            "Epoch 85/100\n",
            "44/44 - 0s - loss: 0.5210 - accuracy: 0.7214 - val_loss: 0.5475 - val_accuracy: 0.7333\n",
            "Epoch 86/100\n",
            "44/44 - 0s - loss: 0.5287 - accuracy: 0.7214 - val_loss: 0.5474 - val_accuracy: 0.7200\n",
            "Epoch 87/100\n",
            "44/44 - 0s - loss: 0.5181 - accuracy: 0.7314 - val_loss: 0.5412 - val_accuracy: 0.7200\n",
            "Epoch 88/100\n",
            "44/44 - 0s - loss: 0.5182 - accuracy: 0.7357 - val_loss: 0.5459 - val_accuracy: 0.7233\n",
            "Epoch 89/100\n",
            "44/44 - 0s - loss: 0.5183 - accuracy: 0.7257 - val_loss: 0.5381 - val_accuracy: 0.7200\n",
            "Epoch 90/100\n",
            "44/44 - 0s - loss: 0.5097 - accuracy: 0.7529 - val_loss: 0.5387 - val_accuracy: 0.7267\n",
            "Epoch 91/100\n",
            "44/44 - 0s - loss: 0.5045 - accuracy: 0.7400 - val_loss: 0.5379 - val_accuracy: 0.7367\n",
            "Epoch 92/100\n",
            "44/44 - 0s - loss: 0.5087 - accuracy: 0.7300 - val_loss: 0.5451 - val_accuracy: 0.7300\n",
            "Epoch 93/100\n",
            "44/44 - 0s - loss: 0.5061 - accuracy: 0.7457 - val_loss: 0.5335 - val_accuracy: 0.7333\n",
            "Epoch 94/100\n",
            "44/44 - 0s - loss: 0.5048 - accuracy: 0.7371 - val_loss: 0.5298 - val_accuracy: 0.7333\n",
            "Epoch 95/100\n",
            "44/44 - 0s - loss: 0.4977 - accuracy: 0.7500 - val_loss: 0.5344 - val_accuracy: 0.7533\n",
            "Epoch 96/100\n",
            "44/44 - 0s - loss: 0.4928 - accuracy: 0.7571 - val_loss: 0.5235 - val_accuracy: 0.7533\n",
            "Epoch 97/100\n",
            "44/44 - 0s - loss: 0.4896 - accuracy: 0.7586 - val_loss: 0.5338 - val_accuracy: 0.7400\n",
            "Epoch 98/100\n",
            "44/44 - 0s - loss: 0.4987 - accuracy: 0.7500 - val_loss: 0.5207 - val_accuracy: 0.7533\n",
            "Epoch 99/100\n",
            "44/44 - 0s - loss: 0.4870 - accuracy: 0.7571 - val_loss: 0.5210 - val_accuracy: 0.7367\n",
            "Epoch 100/100\n",
            "44/44 - 0s - loss: 0.4900 - accuracy: 0.7571 - val_loss: 0.5193 - val_accuracy: 0.7733\n"
          ],
          "name": "stdout"
        }
      ]
    },
    {
      "cell_type": "code",
      "metadata": {
        "colab": {
          "base_uri": "https://localhost:8080/"
        },
        "id": "se6go8Fdgxls",
        "outputId": "c2e4b72c-1c0c-4070-c3c1-be3acbbf10b2"
      },
      "source": [
        "from keras.utils.layer_utils import count_params\n",
        "\n",
        "trainable_count = count_params(model.trainable_weights)\n",
        "non_trainable_count = count_params(model.non_trainable_weights)\n",
        "print(trainable_count,non_trainable_count)"
      ],
      "execution_count": null,
      "outputs": [
        {
          "output_type": "stream",
          "text": [
            "7951 0\n"
          ],
          "name": "stdout"
        }
      ]
    },
    {
      "cell_type": "code",
      "metadata": {
        "id": "YQyPvNYUg2-n"
      },
      "source": [
        "# save model and architecture to single file\n",
        "#model.save('model_CNN1d_neckeventsClass_Filters_'+str(filters)+'_Kernels_'+str(kernel_sz)+'_Epochs_'+str(nepochs)+'_Batch_'+str(sizeofbatch)+'.h5')"
      ],
      "execution_count": null,
      "outputs": []
    },
    {
      "cell_type": "code",
      "metadata": {
        "id": "EoZKsYcKg_2C"
      },
      "source": [
        "pred = model.predict(testX)"
      ],
      "execution_count": null,
      "outputs": []
    },
    {
      "cell_type": "code",
      "metadata": {
        "colab": {
          "base_uri": "https://localhost:8080/"
        },
        "id": "T50T59BBhBin",
        "outputId": "67c34aca-6a22-4f49-b15c-a2ad39162844"
      },
      "source": [
        "# Errors calculation ECM y EAM\n",
        "testScoreECM = mean_squared_error(testY, pred)\n",
        "print('ECM: %.4f' % (testScoreECM))"
      ],
      "execution_count": null,
      "outputs": [
        {
          "output_type": "stream",
          "text": [
            "ECM: 0.1779\n"
          ],
          "name": "stdout"
        }
      ]
    },
    {
      "cell_type": "markdown",
      "metadata": {
        "id": "eXaUNSfCkvxm"
      },
      "source": [
        "## Visualización de resultados"
      ]
    },
    {
      "cell_type": "markdown",
      "metadata": {
        "id": "ugDhsd5PSsXR"
      },
      "source": [
        "En la siguiente gráfica se visualiza la evolución del error para el conjunto de entrenamiento y test en función de las épocas."
      ]
    },
    {
      "cell_type": "code",
      "metadata": {
        "colab": {
          "base_uri": "https://localhost:8080/",
          "height": 532
        },
        "id": "3lX4jW4Rgllt",
        "outputId": "75ef3bcb-0e08-403d-be42-4d9a67a2b283"
      },
      "source": [
        "plt.figure(1, figsize=(8,8))\n",
        "plt.plot(history.history['loss'])\n",
        "\n",
        "plt.plot(history.history['val_loss'])\n",
        "\n",
        "#plt.yscale(\"log\")\n",
        "#plt.title('model loss')\n",
        "plt.ylabel('loss')\n",
        "plt.xlabel('epoch')\n",
        "#plt.xlim(-0.5,20.1)\n",
        "plt.legend(['train', 'test'], loc='upper center')\n",
        "\n",
        "from google.colab import files\n",
        "plt.savefig('loss_MLP.eps')\n",
        "#files.download('loss_MLP.eps') # Descomentar para descargar localmente"
      ],
      "execution_count": null,
      "outputs": [
        {
          "output_type": "stream",
          "text": [
            "The PostScript backend does not support transparency; partially transparent artists will be rendered opaque.\n",
            "The PostScript backend does not support transparency; partially transparent artists will be rendered opaque.\n"
          ],
          "name": "stderr"
        },
        {
          "output_type": "display_data",
          "data": {
            "image/png": "[encoded data removed]",
            "text/plain": [
              "<Figure size 576x576 with 1 Axes>"
            ]
          },
          "metadata": {
            "tags": [],
            "needs_background": "light"
          }
        }
      ]
    },
    {
      "cell_type": "markdown",
      "metadata": {
        "id": "uZQZmAlUSQTq"
      },
      "source": [
        "En la siguiente gráfica se visualiza la evolución de la calidad de la clasificación para el conjunto de entrenamiento y test en función de las épocas."
      ]
    },
    {
      "cell_type": "code",
      "metadata": {
        "colab": {
          "base_uri": "https://localhost:8080/",
          "height": 514
        },
        "id": "QRJLuHl3F3qg",
        "outputId": "4dbc9f2d-919f-402b-8298-f855a9cd9db2"
      },
      "source": [
        "plt.figure(1, figsize=(8,8))\n",
        "plt.plot(history.history['accuracy'])\n",
        "\n",
        "plt.plot(history.history['val_accuracy'])\n",
        "plt.ylabel('accuray')\n",
        "plt.xlabel('epoch')\n",
        "plt.legend(['train', 'test'], loc='upper center')\n"
      ],
      "execution_count": null,
      "outputs": [
        {
          "output_type": "execute_result",
          "data": {
            "text/plain": [
              "<matplotlib.legend.Legend at 0x7f28aea9b250>"
            ]
          },
          "metadata": {
            "tags": []
          },
          "execution_count": 37
        },
        {
          "output_type": "display_data",
          "data": {
            "image/png": "[encoded data removed]",
            "text/plain": [
              "<Figure size 576x576 with 1 Axes>"
            ]
          },
          "metadata": {
            "tags": [],
            "needs_background": "light"
          }
        }
      ]
    },
    {
      "cell_type": "code",
      "metadata": {
        "colab": {
          "base_uri": "https://localhost:8080/"
        },
        "id": "A3AO4VG5i144",
        "outputId": "6090462d-3076-4b19-95bb-d94297ac8360"
      },
      "source": [
        "print('V1','V2','\\t\\t','Real','\\t','Pronóstico')\n",
        "for i in range(len(testY)):\n",
        "  print(i, testX[i],'\\t',testY[i],'\\t',pred[i])"
      ],
      "execution_count": null,
      "outputs": [
        {
          "output_type": "stream",
          "text": [
            "V1 V2 \t\t Real \t Pronóstico\n",
            "0 [2 5] \t 1 \t [0.70090896]\n",
            "1 [5 4] \t 0 \t [0.4980222]\n",
            "2 [5 0] \t 1 \t [0.96421397]\n",
            "3 [6 9] \t 0 \t [0.65390503]\n",
            "4 [5 5] \t 1 \t [0.58757085]\n",
            "5 [7 3] \t 1 \t [0.77810323]\n",
            "6 [3 5] \t 1 \t [0.6852763]\n",
            "7 [0 1] \t 1 \t [0.9999213]\n",
            "8 [2 6] \t 1 \t [0.60593486]\n",
            "9 [3 3] \t 0 \t [0.56304705]\n",
            "10 [1 8] \t 0 \t [0.5503015]\n",
            "11 [9 1] \t 1 \t [0.67350316]\n",
            "12 [9 0] \t 0 \t [0.4373721]\n",
            "13 [8 3] \t 1 \t [0.7769079]\n",
            "14 [8 7] \t 0 \t [0.62459815]\n",
            "15 [0 6] \t 0 \t [0.56246525]\n",
            "16 [8 5] \t 1 \t [0.6371336]\n",
            "17 [6 6] \t 0 \t [0.61014605]\n",
            "18 [6 2] \t 1 \t [0.8072833]\n",
            "19 [1 4] \t 1 \t [0.9583831]\n",
            "20 [4 5] \t 0 \t [0.60010314]\n",
            "21 [3 5] \t 1 \t [0.6852763]\n",
            "22 [5 3] \t 1 \t [0.7632425]\n",
            "23 [5 8] \t 1 \t [0.6452526]\n",
            "24 [4 1] \t 1 \t [0.9045775]\n",
            "25 [9 7] \t 1 \t [0.5557067]\n",
            "26 [3 4] \t 1 \t [0.6350658]\n",
            "27 [8 9] \t 1 \t [0.6549438]\n",
            "28 [2 8] \t 1 \t [0.5828988]\n",
            "29 [3 4] \t 1 \t [0.6350658]\n",
            "30 [0 9] \t 0 \t [0.49433798]\n",
            "31 [6 7] \t 1 \t [0.63269436]\n",
            "32 [2 0] \t 1 \t [0.9996033]\n",
            "33 [8 2] \t 1 \t [0.81548184]\n",
            "34 [3 5] \t 1 \t [0.6852763]\n",
            "35 [3 9] \t 0 \t [0.60108787]\n",
            "36 [8 5] \t 1 \t [0.6371336]\n",
            "37 [2 6] \t 1 \t [0.60593486]\n",
            "38 [6 4] \t 1 \t [0.7074858]\n",
            "39 [2 7] \t 0 \t [0.59686077]\n",
            "40 [0 0] \t 0 \t [0.00020245]\n",
            "41 [3 8] \t 1 \t [0.6132326]\n",
            "42 [0 7] \t 1 \t [0.53935385]\n",
            "43 [3 4] \t 1 \t [0.6350658]\n",
            "44 [9 2] \t 1 \t [0.81593966]\n",
            "45 [0 8] \t 1 \t [0.51606894]\n",
            "46 [4 3] \t 1 \t [0.7478789]\n",
            "47 [2 2] \t 1 \t [0.99634075]\n",
            "48 [7 5] \t 0 \t [0.41552022]\n",
            "49 [1 1] \t 1 \t [0.99959725]\n",
            "50 [2 9] \t 1 \t [0.56869376]\n",
            "51 [2 6] \t 1 \t [0.60593486]\n",
            "52 [2 5] \t 1 \t [0.70090896]\n",
            "53 [1 4] \t 1 \t [0.9583831]\n",
            "54 [5 7] \t 0 \t [0.6371195]\n",
            "55 [9 4] \t 1 \t [0.7439392]\n",
            "56 [5 3] \t 1 \t [0.7632425]\n",
            "57 [3 4] \t 1 \t [0.6350658]\n",
            "58 [7 5] \t 0 \t [0.41552022]\n",
            "59 [1 6] \t 1 \t [0.5808178]\n",
            "60 [0 5] \t 1 \t [0.8832369]\n",
            "61 [1 6] \t 1 \t [0.5808178]\n",
            "62 [1 9] \t 1 \t [0.5345327]\n",
            "63 [8 3] \t 1 \t [0.77690804]\n",
            "64 [3 5] \t 1 \t [0.6852763]\n",
            "65 [5 4] \t 0 \t [0.4980222]\n",
            "66 [4 6] \t 1 \t [0.63352823]\n",
            "67 [4 6] \t 1 \t [0.63352823]\n",
            "68 [2 5] \t 1 \t [0.70090896]\n",
            "69 [4 3] \t 1 \t [0.7478789]\n",
            "70 [5 2] \t 1 \t [0.72913325]\n",
            "71 [6 0] \t 0 \t [0.7093947]\n",
            "72 [4 5] \t 0 \t [0.60010314]\n",
            "73 [2 7] \t 0 \t [0.59686077]\n",
            "74 [6 4] \t 1 \t [0.7074858]\n",
            "75 [1 7] \t 1 \t [0.5659699]\n",
            "76 [7 8] \t 0 \t [0.64634144]\n",
            "77 [6 7] \t 1 \t [0.6326943]\n",
            "78 [2 8] \t 1 \t [0.5828988]\n",
            "79 [3 9] \t 0 \t [0.60108787]\n",
            "80 [9 9] \t 0 \t [0.648924]\n",
            "81 [4 9] \t 1 \t [0.62623394]\n",
            "82 [1 2] \t 0 \t [0.00116125]\n",
            "83 [4 3] \t 1 \t [0.7478789]\n",
            "84 [1 1] \t 1 \t [0.99959725]\n",
            "85 [0 8] \t 1 \t [0.51606894]\n",
            "86 [7 5] \t 0 \t [0.41552022]\n",
            "87 [3 3] \t 0 \t [0.56304705]\n",
            "88 [4 4] \t 1 \t [0.564619]\n",
            "89 [5 4] \t 0 \t [0.4980222]\n",
            "90 [0 0] \t 0 \t [0.00020245]\n",
            "91 [8 8] \t 1 \t [0.640656]\n",
            "92 [2 4] \t 0 \t [0.7706617]\n",
            "93 [2 7] \t 0 \t [0.59686077]\n",
            "94 [5 8] \t 1 \t [0.6452526]\n",
            "95 [4 8] \t 0 \t [0.6300707]\n",
            "96 [9 0] \t 0 \t [0.4373721]\n",
            "97 [5 3] \t 1 \t [0.7632425]\n",
            "98 [3 7] \t 1 \t [0.6215582]\n",
            "99 [3 3] \t 0 \t [0.56304705]\n",
            "100 [4 3] \t 1 \t [0.7478789]\n",
            "101 [6 5] \t 1 \t [0.55349445]\n",
            "102 [8 8] \t 1 \t [0.640656]\n",
            "103 [4 0] \t 1 \t [0.99847937]\n",
            "104 [2 9] \t 1 \t [0.56869376]\n",
            "105 [2 9] \t 1 \t [0.56869376]\n",
            "106 [0 6] \t 0 \t [0.56246525]\n",
            "107 [6 2] \t 1 \t [0.8072833]\n",
            "108 [2 5] \t 1 \t [0.70090896]\n",
            "109 [8 0] \t 1 \t [0.5644644]\n",
            "110 [9 8] \t 1 \t [0.6352247]\n",
            "111 [2 8] \t 1 \t [0.5828988]\n",
            "112 [4 5] \t 0 \t [0.60010314]\n",
            "113 [3 7] \t 1 \t [0.6215582]\n",
            "114 [4 6] \t 1 \t [0.63352823]\n",
            "115 [4 1] \t 1 \t [0.9045775]\n",
            "116 [0 4] \t 1 \t [0.9848498]\n",
            "117 [8 1] \t 0 \t [0.7258264]\n",
            "118 [3 4] \t 1 \t [0.6350658]\n",
            "119 [4 4] \t 1 \t [0.564619]\n",
            "120 [2 9] \t 1 \t [0.56869376]\n",
            "121 [9 6] \t 0 \t [0.3517726]\n",
            "122 [2 5] \t 1 \t [0.70090896]\n",
            "123 [8 1] \t 0 \t [0.7258264]\n",
            "124 [4 3] \t 1 \t [0.7478789]\n",
            "125 [0 0] \t 0 \t [0.00020245]\n",
            "126 [0 1] \t 1 \t [0.9999213]\n",
            "127 [6 1] \t 1 \t [0.80734086]\n",
            "128 [6 8] \t 1 \t [0.6495079]\n",
            "129 [7 5] \t 0 \t [0.41552022]\n",
            "130 [6 6] \t 0 \t [0.61014605]\n",
            "131 [7 6] \t 1 \t [0.60596883]\n",
            "132 [9 1] \t 1 \t [0.67350316]\n",
            "133 [3 9] \t 0 \t [0.60108787]\n",
            "134 [9 3] \t 0 \t [0.7806461]\n",
            "135 [7 0] \t 1 \t [0.6482376]\n",
            "136 [8 6] \t 1 \t [0.45719695]\n",
            "137 [2 4] \t 0 \t [0.7706617]\n",
            "138 [9 1] \t 1 \t [0.67350316]\n",
            "139 [1 4] \t 1 \t [0.9583831]\n",
            "140 [0 5] \t 1 \t [0.8832369]\n",
            "141 [6 4] \t 1 \t [0.7074858]\n",
            "142 [3 7] \t 1 \t [0.6215582]\n",
            "143 [8 8] \t 1 \t [0.640656]\n",
            "144 [4 3] \t 1 \t [0.7478789]\n",
            "145 [9 6] \t 0 \t [0.3517726]\n",
            "146 [9 8] \t 1 \t [0.6352247]\n",
            "147 [6 4] \t 1 \t [0.7074858]\n",
            "148 [7 8] \t 0 \t [0.64634144]\n",
            "149 [9 9] \t 0 \t [0.648924]\n",
            "150 [2 3] \t 1 \t [0.975837]\n",
            "151 [3 7] \t 1 \t [0.6215582]\n",
            "152 [6 8] \t 1 \t [0.6495079]\n",
            "153 [4 9] \t 1 \t [0.62623394]\n",
            "154 [5 7] \t 0 \t [0.6371195]\n",
            "155 [8 9] \t 1 \t [0.6549438]\n",
            "156 [5 1] \t 0 \t [0.41898564]\n",
            "157 [9 5] \t 1 \t [0.6908587]\n",
            "158 [9 1] \t 1 \t [0.67350316]\n",
            "159 [7 6] \t 1 \t [0.60596883]\n",
            "160 [1 6] \t 1 \t [0.5808178]\n",
            "161 [0 3] \t 0 \t [0.00892329]\n",
            "162 [6 7] \t 1 \t [0.6326943]\n",
            "163 [3 6] \t 0 \t [0.6288988]\n",
            "164 [3 9] \t 0 \t [0.60108787]\n",
            "165 [4 5] \t 0 \t [0.60010314]\n",
            "166 [1 1] \t 1 \t [0.99959725]\n",
            "167 [8 4] \t 0 \t [0.73499614]\n",
            "168 [2 5] \t 1 \t [0.70090896]\n",
            "169 [8 8] \t 1 \t [0.640656]\n",
            "170 [0 5] \t 1 \t [0.8832369]\n",
            "171 [3 4] \t 1 \t [0.6350658]\n",
            "172 [9 4] \t 1 \t [0.7439392]\n",
            "173 [0 7] \t 1 \t [0.53935385]\n",
            "174 [6 3] \t 0 \t [0.7713723]\n",
            "175 [6 8] \t 1 \t [0.6495079]\n",
            "176 [7 4] \t 1 \t [0.7283981]\n",
            "177 [7 7] \t 1 \t [0.6281894]\n",
            "178 [9 5] \t 1 \t [0.6908587]\n",
            "179 [2 1] \t 0 \t [0.00140682]\n",
            "180 [2 5] \t 1 \t [0.70090896]\n",
            "181 [1 6] \t 1 \t [0.5808178]\n",
            "182 [0 0] \t 0 \t [0.00020245]\n",
            "183 [9 9] \t 0 \t [0.648924]\n",
            "184 [5 2] \t 1 \t [0.72913325]\n",
            "185 [0 9] \t 0 \t [0.49433795]\n",
            "186 [9 9] \t 0 \t [0.648924]\n",
            "187 [7 5] \t 0 \t [0.41552022]\n",
            "188 [5 4] \t 0 \t [0.4980222]\n",
            "189 [3 1] \t 1 \t [0.9954965]\n",
            "190 [8 1] \t 0 \t [0.72582644]\n",
            "191 [2 4] \t 0 \t [0.7706618]\n",
            "192 [6 7] \t 1 \t [0.6326943]\n",
            "193 [4 8] \t 0 \t [0.63007075]\n",
            "194 [5 4] \t 0 \t [0.4980222]\n",
            "195 [6 2] \t 1 \t [0.8072833]\n",
            "196 [1 8] \t 0 \t [0.5503015]\n",
            "197 [9 8] \t 1 \t [0.6352247]\n",
            "198 [6 1] \t 1 \t [0.80734086]\n",
            "199 [3 4] \t 1 \t [0.6350658]\n",
            "200 [7 0] \t 1 \t [0.6482376]\n",
            "201 [0 4] \t 1 \t [0.9848498]\n",
            "202 [4 5] \t 0 \t [0.60010314]\n",
            "203 [9 3] \t 0 \t [0.7806461]\n",
            "204 [4 2] \t 0 \t [0.62047416]\n",
            "205 [4 9] \t 1 \t [0.62623394]\n",
            "206 [5 5] \t 1 \t [0.58757085]\n",
            "207 [1 0] \t 1 \t [0.9999648]\n",
            "208 [0 4] \t 1 \t [0.9848498]\n",
            "209 [9 6] \t 0 \t [0.3517726]\n",
            "210 [7 9] \t 1 \t [0.66079193]\n",
            "211 [0 6] \t 0 \t [0.56246525]\n",
            "212 [5 9] \t 1 \t [0.642642]\n",
            "213 [3 0] \t 0 \t [0.00321138]\n",
            "214 [8 2] \t 1 \t [0.81548184]\n",
            "215 [9 0] \t 0 \t [0.4373721]\n",
            "216 [1 0] \t 1 \t [0.9999648]\n",
            "217 [7 3] \t 1 \t [0.77810323]\n",
            "218 [0 1] \t 1 \t [0.9999213]\n",
            "219 [9 1] \t 1 \t [0.67350316]\n",
            "220 [6 4] \t 1 \t [0.7074858]\n",
            "221 [8 5] \t 1 \t [0.6371336]\n",
            "222 [2 9] \t 1 \t [0.5686938]\n",
            "223 [1 2] \t 0 \t [0.00116125]\n",
            "224 [7 1] \t 1 \t [0.7840348]\n",
            "225 [5 4] \t 0 \t [0.4980222]\n",
            "226 [4 4] \t 1 \t [0.564619]\n",
            "227 [0 7] \t 1 \t [0.53935385]\n",
            "228 [1 2] \t 0 \t [0.00116125]\n",
            "229 [1 7] \t 1 \t [0.5659699]\n",
            "230 [7 1] \t 1 \t [0.7840348]\n",
            "231 [8 5] \t 1 \t [0.6371336]\n",
            "232 [2 6] \t 1 \t [0.60593486]\n",
            "233 [7 3] \t 1 \t [0.77810323]\n",
            "234 [6 3] \t 0 \t [0.7713723]\n",
            "235 [9 3] \t 0 \t [0.7806461]\n",
            "236 [9 4] \t 1 \t [0.7439392]\n",
            "237 [2 6] \t 1 \t [0.60593486]\n",
            "238 [1 6] \t 1 \t [0.5808178]\n",
            "239 [1 1] \t 1 \t [0.99959725]\n",
            "240 [8 9] \t 1 \t [0.6549438]\n",
            "241 [9 8] \t 1 \t [0.6352247]\n",
            "242 [0 4] \t 1 \t [0.9848498]\n",
            "243 [7 1] \t 1 \t [0.7840348]\n",
            "244 [2 7] \t 0 \t [0.59686077]\n",
            "245 [4 9] \t 1 \t [0.62623394]\n",
            "246 [2 2] \t 1 \t [0.99634075]\n",
            "247 [9 1] \t 1 \t [0.67350316]\n",
            "248 [8 8] \t 1 \t [0.640656]\n",
            "249 [1 9] \t 1 \t [0.53453267]\n",
            "250 [0 7] \t 1 \t [0.53935385]\n",
            "251 [1 7] \t 1 \t [0.5659699]\n",
            "252 [4 4] \t 1 \t [0.564619]\n",
            "253 [4 5] \t 0 \t [0.60010314]\n",
            "254 [9 0] \t 0 \t [0.43737197]\n",
            "255 [9 3] \t 0 \t [0.7806461]\n",
            "256 [0 2] \t 1 \t [0.9999168]\n",
            "257 [1 5] \t 0 \t [0.62550664]\n",
            "258 [9 4] \t 1 \t [0.7439392]\n",
            "259 [9 9] \t 0 \t [0.648924]\n",
            "260 [3 0] \t 0 \t [0.00321138]\n",
            "261 [1 9] \t 1 \t [0.53453267]\n",
            "262 [7 2] \t 0 \t [0.8107091]\n",
            "263 [2 6] \t 1 \t [0.60593486]\n",
            "264 [8 0] \t 1 \t [0.5644644]\n",
            "265 [4 4] \t 1 \t [0.564619]\n",
            "266 [7 8] \t 0 \t [0.64634144]\n",
            "267 [4 1] \t 1 \t [0.9045775]\n",
            "268 [3 9] \t 0 \t [0.60108787]\n",
            "269 [2 0] \t 1 \t [0.9996033]\n",
            "270 [8 6] \t 1 \t [0.45719695]\n",
            "271 [4 1] \t 1 \t [0.9045775]\n",
            "272 [7 8] \t 0 \t [0.64634144]\n",
            "273 [7 7] \t 1 \t [0.6281894]\n",
            "274 [0 3] \t 0 \t [0.00892329]\n",
            "275 [1 4] \t 1 \t [0.9583831]\n",
            "276 [4 2] \t 0 \t [0.62047416]\n",
            "277 [6 5] \t 1 \t [0.55349445]\n",
            "278 [5 8] \t 1 \t [0.6452526]\n",
            "279 [5 9] \t 1 \t [0.642642]\n",
            "280 [0 0] \t 0 \t [0.00020245]\n",
            "281 [5 0] \t 1 \t [0.96421397]\n",
            "282 [2 6] \t 1 \t [0.60593486]\n",
            "283 [0 1] \t 1 \t [0.9999213]\n",
            "284 [8 6] \t 1 \t [0.45719695]\n",
            "285 [3 3] \t 0 \t [0.56304705]\n",
            "286 [5 4] \t 0 \t [0.4980222]\n",
            "287 [7 4] \t 1 \t [0.72839814]\n",
            "288 [8 7] \t 0 \t [0.62459815]\n",
            "289 [4 1] \t 1 \t [0.9045775]\n",
            "290 [7 2] \t 0 \t [0.8107091]\n",
            "291 [6 1] \t 1 \t [0.80734086]\n",
            "292 [7 1] \t 1 \t [0.7840348]\n",
            "293 [7 8] \t 0 \t [0.64634144]\n",
            "294 [2 0] \t 1 \t [0.9996033]\n",
            "295 [7 1] \t 1 \t [0.7840348]\n",
            "296 [6 3] \t 0 \t [0.7713723]\n",
            "297 [0 7] \t 1 \t [0.53935385]\n",
            "298 [2 4] \t 0 \t [0.7706617]\n",
            "299 [6 7] \t 1 \t [0.6326943]\n"
          ],
          "name": "stdout"
        }
      ]
    },
    {
      "cell_type": "code",
      "metadata": {
        "colab": {
          "base_uri": "https://localhost:8080/",
          "height": 549
        },
        "id": "PJ201jFzGP5p",
        "outputId": "302ee6cd-472f-4842-9812-749777b1592e"
      },
      "source": [
        "plt.figure(1,figsize=(8,8)) # figura numero 4\n",
        "plt.style.use('seaborn-deep') \n",
        "#plt.hist(pred,100,histtype='step')\n",
        "# seleccionamos los datos que cumplen que testY==0 es argo\n",
        "c=np.where(testY==0)\n",
        "print(\"test 0s number:  \",len(c[0]))\n",
        "plt.hist(pred[c[0]],50,histtype='step',color='darkorange', label= \"Múltiplo de 3 ( %d ) \" % (len(c[0]) ))\n",
        "# selecionamos los de cuello testY==1\n",
        "c=np.where(testY==1)\n",
        "print(\"test 1s number:  \", len(c[0]))\n",
        "plt.hist(pred[c[0]],50,histtype='step',color='blue', label= \"No múltiplo de 3 ( %d ) \" % (len(c[0]) ))\n",
        "plt.ylabel('Cuentas')\n",
        "plt.xlabel('Predicción')\n",
        "plt.yscale(\"log\")\n",
        "plt.xlim(-0.1,1.1)\n",
        "plt.legend( loc='upper center')"
      ],
      "execution_count": null,
      "outputs": [
        {
          "output_type": "stream",
          "text": [
            "test 0s number:   100\n",
            "test 1s number:   200\n"
          ],
          "name": "stdout"
        },
        {
          "output_type": "execute_result",
          "data": {
            "text/plain": [
              "<matplotlib.legend.Legend at 0x7f28ac0d0350>"
            ]
          },
          "metadata": {
            "tags": []
          },
          "execution_count": 42
        },
        {
          "output_type": "display_data",
          "data": {
            "image/png": "[encoded data removed]",
            "text/plain": [
              "<Figure size 576x576 with 1 Axes>"
            ]
          },
          "metadata": {
            "tags": [],
            "needs_background": "light"
          }
        }
      ]
    },
    {
      "cell_type": "markdown",
      "metadata": {
        "id": "NmK_NAEW1B0q"
      },
      "source": [
        "## Propuestas adicionales.\n",
        "\n",
        "*   Modificar el número de neuronas y capas para mejorar el rendimiento de la red. \n",
        "*   Hacer un clasificador multivariante en la salida que pronostique independiente si la suma será múltiplo de 3 y de 5. \n",
        "*   Modificar la red añadiendo dropout."
      ]
    },
    {
      "cell_type": "markdown",
      "metadata": {
        "id": "WOYETe0an752"
      },
      "source": [
        "## Propuestas adicionales: no te quedes con hambre.\n",
        "\n",
        "*   Construir un clasificador de múltiplos de 11. ¿Es el rendimiento del clasificador mejor que el múltiplos de 3? \n",
        "*   En el conjunto de entrenamiento ¿cuál es la proporción entre instancias/ejemplos de ambas clases? ¿Está más o menos desbalanceadas las clases que en clasificador de múltiplos de 3?   \n",
        "*   Si el batch_size es 16 ¿cuántos instancias/ejemplos de la clase minoritaria entran de media en cada batch? ¿Si los pesos de la red se actualizan con cada batch, entonces el aprendizaje de las características de la clase minoritaria está siendo adecuado?\n",
        "*   ¿Qué técnicas existen para corregir los problemas de clasificación con clases fuertemente desbalanceadas?\n"
      ]
    }
  ]
}