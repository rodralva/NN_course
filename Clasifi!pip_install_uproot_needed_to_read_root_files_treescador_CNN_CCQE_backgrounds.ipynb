{
  "cells": [
    {
      "cell_type": "markdown",
      "metadata": {
        "id": "YHK6DyunSbs4"
      },
      "source": [
        "# Clasificador de imágenes de Charge Current Quasi Elastic interactions(CCQE: signal) vs backgrounds con CNN en SBND\n",
        "\n",
        "\n",
        "En este proyecto se estudia el problema de clasificación binaria de imagenes (señal vs ruido)utilizando como datos de entrada simulaciones de eventos dentro del Short Baseline Neutrino Experiment (SBND). El objetivo es entrenar una CNN para separar imagenes de eventos donde se ha producido una interacción cargada cuasi-elástica (CCQE) del resto. Como imput se utiliza las imágenes producidas dentro de la Liquid Argon Time Projection Chamber (LArTPC) al leer la señal generada por los electrones en los wire planes de los laterales."
      ]
    },
    {
      "cell_type": "markdown",
      "metadata": {
        "id": "UY6KJV6z6l7_"
      },
      "source": [
        "## Explorando los datos\n",
        "Se descargan los datos en un fichero zip con 45 000 eventos con interacciones de neutrinos dentro del experimento SBND simulados dentro del framework de [LArSoft](https://larsoft.org/). Para la producción de los neutrinos se emplea el [generador MC Genie](https://github.com/GENIE-MC/Generator), mientras que la simulación de la propagación e interacción de los fotones y electrones dentro del argón se modela utilizando [GEANT 4](https://geant4.web.cern.ch/node/1). En la simulación se almacena la información Truth de la interacción que luego nos permite identificar las imágenes de cada evento como CCQE(señal) o background.\n"
      ]
    },
    {
      "cell_type": "code",
      "execution_count": 16,
      "metadata": {
        "colab": {
          "base_uri": "https://localhost:8080/"
        },
        "id": "RXZT2UsyIVe_",
        "outputId": "234a6cd7-e916-4505-a243-c54197743498"
      },
      "outputs": [
        {
          "name": "stdout",
          "output_type": "stream",
          "text": [
            "--2021-12-02 14:26:16--  https://www.dropbox.com/s/jsrm05t6xy61f5y/CNN_CCQE_background_discriminator.data.zip?dl=0\n",
            "Resolving www.dropbox.com (www.dropbox.com)... 162.125.3.18, 2620:100:601b:18::a27d:812\n",
            "Connecting to www.dropbox.com (www.dropbox.com)|162.125.3.18|:443... connected.\n",
            "HTTP request sent, awaiting response... 301 Moved Permanently\n",
            "Location: /s/raw/jsrm05t6xy61f5y/CNN_CCQE_background_discriminator.data.zip [following]\n",
            "--2021-12-02 14:26:17--  https://www.dropbox.com/s/raw/jsrm05t6xy61f5y/CNN_CCQE_background_discriminator.data.zip\n",
            "Reusing existing connection to www.dropbox.com:443.\n",
            "HTTP request sent, awaiting response... 302 Found\n",
            "Location: https://uc0d69aa9862cf8682082051544b.dl.dropboxusercontent.com/cd/0/inline/BbF0d5YxIh_BpPesmgfFKeeHEcSZaRFk5u23J5dPH2YX9Edzhf-8SbQiGrcN9IQkKe2NVEXMPthk0qbk4se3imglEXEXlPT-ZfNrcRvgJGy8gg14TFr4HmxkqNkpq8UuockkLjQoX1xvEuzh72BtpZwo/file# [following]\n",
            "--2021-12-02 14:26:17--  https://uc0d69aa9862cf8682082051544b.dl.dropboxusercontent.com/cd/0/inline/BbF0d5YxIh_BpPesmgfFKeeHEcSZaRFk5u23J5dPH2YX9Edzhf-8SbQiGrcN9IQkKe2NVEXMPthk0qbk4se3imglEXEXlPT-ZfNrcRvgJGy8gg14TFr4HmxkqNkpq8UuockkLjQoX1xvEuzh72BtpZwo/file\n",
            "Resolving uc0d69aa9862cf8682082051544b.dl.dropboxusercontent.com (uc0d69aa9862cf8682082051544b.dl.dropboxusercontent.com)... 162.125.3.15, 2620:100:6018:15::a27d:30f\n",
            "Connecting to uc0d69aa9862cf8682082051544b.dl.dropboxusercontent.com (uc0d69aa9862cf8682082051544b.dl.dropboxusercontent.com)|162.125.3.15|:443... connected.\n",
            "HTTP request sent, awaiting response... 302 Found\n",
            "Location: /cd/0/inline2/BbH8FmPX9jpYQHW0vyIcZL3OkB76ZzjDHGOrK8DPdO-BeZv5GbZTLY04dg-Zd5x_DFm7WQDPjbnQARILTLDrXlG0mf8SXU3T74GGfM9kSvb8Gd7hAdWqslPnyxHqqC_6jv7_9akKNCzV53TN2yc9IQGV_7Um7RVLl25UnFPMJ9LwwDzhB0IMSiFrxaw14J_qtY-fmAs5xjDdd6QVb2vGBSfHdVUMnnayGLPRADxKim2ihl2GQR6wkOGM9s_8NnETijSNbWmbDCPy37jdsvH69hNHm9_WbgQG18m_AiG-nFY6MyT1J7YYK-HUypHP0haT0UCsAYkPCs6uCgabS6iwob1k9prOmRzuxlibn05ZdBQZHK-NKpTzCyVWvfa4eM4Xc4E/file [following]\n",
            "--2021-12-02 14:26:17--  https://uc0d69aa9862cf8682082051544b.dl.dropboxusercontent.com/cd/0/inline2/BbH8FmPX9jpYQHW0vyIcZL3OkB76ZzjDHGOrK8DPdO-BeZv5GbZTLY04dg-Zd5x_DFm7WQDPjbnQARILTLDrXlG0mf8SXU3T74GGfM9kSvb8Gd7hAdWqslPnyxHqqC_6jv7_9akKNCzV53TN2yc9IQGV_7Um7RVLl25UnFPMJ9LwwDzhB0IMSiFrxaw14J_qtY-fmAs5xjDdd6QVb2vGBSfHdVUMnnayGLPRADxKim2ihl2GQR6wkOGM9s_8NnETijSNbWmbDCPy37jdsvH69hNHm9_WbgQG18m_AiG-nFY6MyT1J7YYK-HUypHP0haT0UCsAYkPCs6uCgabS6iwob1k9prOmRzuxlibn05ZdBQZHK-NKpTzCyVWvfa4eM4Xc4E/file\n",
            "Reusing existing connection to uc0d69aa9862cf8682082051544b.dl.dropboxusercontent.com:443.\n",
            "HTTP request sent, awaiting response... 200 OK\n",
            "Length: 1405741673 (1.3G) [application/zip]\n",
            "Saving to: ‘/tmp/CNN_CCQE_background_discriminator_data.zip’\n",
            "\n",
            "/tmp/CNN_CCQE_backg 100%[===================>]   1.31G  85.4MB/s    in 19s     \n",
            "\n",
            "2021-12-02 14:26:36 (70.5 MB/s) - ‘/tmp/CNN_CCQE_background_discriminator_data.zip’ saved [1405741673/1405741673]\n",
            "\n"
          ]
        }
      ],
      "source": [
        "# !wget --no-check-certificate \\\n",
        "#     https://www.dropbox.com/s/jsrm05t6xy61f5y/CNN_CCQE_background_discriminator.data.zip?dl=0 \\\n",
        "#     -O /tmp/CNN_CCQE_background_discriminator_data.zip\n",
        "\n",
        "# import zipfile\n",
        "# local_zip = '/tmp/CNN_CCQE_background_discriminator_data.zip'\n",
        "# zip_ref = zipfile.ZipFile(local_zip, 'r')\n",
        "# zip_ref.extractall('/tmp/CNN_CCQE_background_discriminator_data/')\n",
        "# zip_ref.close()"
      ]
    },
    {
      "cell_type": "code",
      "execution_count": 1,
      "metadata": {
        "colab": {
          "base_uri": "https://localhost:8080/"
        },
        "id": "PLy3pthUS0D2",
        "outputId": "f15e97b2-fa0a-4da1-be86-4384119f91c7"
      },
      "outputs": [],
      "source": [
        "# !pip install uproot #needed to read root files/trees\n",
        "# !pip install awkward #needed for uproot to implement lazy arrays(memory isn't infine!)\n",
        "\n",
        "import uproot\n",
        "import awkward\n",
        "import os\n",
        "import matplotlib.pyplot as plt\n",
        "import numpy as np\n",
        "from matplotlib.ticker import PercentFormatter\n",
        "import collections\n",
        "\n"
      ]
    },
    {
      "cell_type": "markdown",
      "metadata": {
        "id": "V7bruhbgt6y6"
      },
      "source": [
        "### Comentarios generales de los datos\n",
        "Los datos se han repartido por comodidad en 11 archivos en formato .root, conteniendo cada uno 4200 eventos. Las imágenes se guardan como vectores de números decimales(floats). El módulo uproot provee la interfaz básica para leer los datos en formato .root y convertirlos a numpy arrays."
      ]
    },
    {
      "cell_type": "code",
      "execution_count": 2,
      "metadata": {
        "colab": {
          "base_uri": "https://localhost:8080/"
        },
        "id": "xoKzv706nibw",
        "outputId": "a0073495-4b24-45dc-c901-a133c8625f46"
      },
      "outputs": [
        {
          "name": "stdout",
          "output_type": "stream",
          "text": [
            "Contenido del TTree:\n",
            "name                 | typename                 | interpretation                \n",
            "---------------------+--------------------------+-------------------------------\n",
            "TPCImgDataU          | std::vector<float>       | AsJagged(AsDtype('>f4'), he...\n",
            "TPCImgWidthU         | int32_t                  | AsDtype('>i4')\n",
            "TPCImgHeightU        | int32_t                  | AsDtype('>i4')\n",
            "TPCImgDataV          | std::vector<float>       | AsJagged(AsDtype('>f4'), he...\n",
            "TPCImgWidthV         | int32_t                  | AsDtype('>i4')\n",
            "TPCImgHeightV        | int32_t                  | AsDtype('>i4')\n",
            "TPCImgDataY          | std::vector<float>       | AsJagged(AsDtype('>f4'), he...\n",
            "TPCImgWidthY         | int32_t                  | AsDtype('>i4')\n",
            "TPCImgHeightY        | int32_t                  | AsDtype('>i4')\n",
            "OpImgData0           | std::vector<float>       | AsJagged(AsDtype('>f4'), he...\n",
            "OpImgData1           | std::vector<float>       | AsJagged(AsDtype('>f4'), he...\n",
            "OpImgWidth           | int32_t                  | AsDtype('>i4')\n",
            "OpImgHeight          | int32_t                  | AsDtype('>i4')\n",
            "InteractionType      | int32_t                  | AsDtype('>i4')\n",
            "SimPhotonsData       | std::vector<int32_t>     | AsJagged(AsDtype('>i4'), he...\n"
          ]
        }
      ],
      "source": [
        "file_path=\"NNDumper_Data/NNDumper_tree_00.root\"\n",
        "file = uproot.open(file_path)\n",
        "tree = file[\"nndumper\"][\"evttree;5\"] \n",
        "print(\"Contenido del TTree:\")\n",
        "tree.show()\n"
      ]
    },
    {
      "cell_type": "code",
      "execution_count": 3,
      "metadata": {
        "colab": {
          "base_uri": "https://localhost:8080/"
        },
        "id": "BEP4AIN3pD4v",
        "outputId": "7c8ebb03-8d7c-444e-f5ac-76421be9bc65"
      },
      "outputs": [
        {
          "name": "stdout",
          "output_type": "stream",
          "text": [
            "Numero de eventos en el .root file:  4200\n",
            "Tamaño de las imagenes de TPC: 248 x 200\n",
            "Tamaño de las imagenes opticas: 48 x 600\n",
            "Nº de canales opticos de PMT coated (VUV+VIS): 96\n",
            "Tipo de interaccion: 1008 1001=ChargeCurrentQuasiElastic (CCQE->Señal)\n"
          ]
        }
      ],
      "source": [
        "lazyarray = uproot.lazy(file_path+\":nndumper/evttree;5\")\n",
        "NEvents=len(lazyarray)\n",
        "h_TPC_U=lazyarray[0] [\"TPCImgHeightU\"]\n",
        "w_TPC_U=lazyarray[0] [\"TPCImgWidthU\"]\n",
        "h_TPC_V=lazyarray[0] [\"TPCImgHeightV\"]\n",
        "w_TPC_V=lazyarray[0] [\"TPCImgWidthV\"]\n",
        "h_TPC_Y=lazyarray[0] [\"TPCImgHeightY\"]\n",
        "w_TPC_Y=lazyarray[0] [\"TPCImgWidthY\"]\n",
        "\n",
        "w_Opt=lazyarray[0] [\"OpImgWidth\"]\n",
        "h_Opt=lazyarray[0] [\"OpImgHeight\"]\n",
        "i_type=lazyarray[0][\"InteractionType\"]\n",
        "\n",
        "\n",
        "print(\"Numero de eventos en el .root file: \",NEvents)\n",
        "print(\"Tamaño de las imagenes de TPC:\",w_TPC_U,\"x\",h_TPC_U)\n",
        "print(\"Tamaño de las imagenes opticas:\",w_Opt,\"x\",h_Opt)#hay 96 canales ópticos, pero por simplicidad para la CNN colapsamos los canales enfrentados en el mismo: ch(6+7)...->96/2=48\n",
        "print(\"Nº de canales opticos de PMT coated (VUV+VIS):\",len(lazyarray[0][\"SimPhotonsData\"].to_numpy()))\n",
        "print(\"Tipo de interaccion:\",i_type,\"1001=ChargeCurrentQuasiElastic (CCQE->Señal)\") #1001 CCQE, lo demás, backgrounds (mirar interaction.png, cada numero es una interacción distinta)"
      ]
    },
    {
      "cell_type": "code",
      "execution_count": 4,
      "metadata": {
        "colab": {
          "base_uri": "https://localhost:8080/",
          "height": 601
        },
        "id": "zKuuBppfpz53",
        "outputId": "6410c17f-bd99-4adb-a70a-773b32450b68"
      },
      "outputs": [
        {
          "data": {
            "image/png": "[encoded data removed]",
            "text/plain": [
              "<Figure size 480x320 with 1 Axes>"
            ]
          },
          "metadata": {
            "needs_background": "light"
          },
          "output_type": "display_data"
        },
        {
          "data": {
            "image/png": "[encoded data removed]",
            "text/plain": [
              "<Figure size 480x320 with 1 Axes>"
            ]
          },
          "metadata": {
            "needs_background": "light"
          },
          "output_type": "display_data"
        }
      ],
      "source": [
        "i_type=[];\n",
        "picture_label=[]\n",
        "for i in range(NEvents):\n",
        "    i_type.append(lazyarray[i][\"InteractionType\"]);\n",
        "    if(i_type[i]==1001):\n",
        "      picture_label.append(\"signal\")\n",
        "    else:\n",
        "      picture_label.append(\"background\")\n",
        "\n",
        "plt.figure(figsize=( 6,4), dpi=80);\n",
        "plt.hist(i_type,10,[999.5,1009.5],color='#607c8e',rwidth=0.9)\n",
        "plt.gca().xaxis.set_major_locator(plt.MultipleLocator(1))\n",
        "plt.title(\"Tipos de interaccion: 1001 = CCQE(Señal)\")\n",
        "\n",
        "plt.figure(figsize=( 6,4), dpi=80);\n",
        "plt.title(\"Señal/ruido\")\n",
        "plt.hist(picture_label,2,range=[-0.5,1.5],density=True,color='#607c8e',rwidth=0.9)\n",
        "plt.gca().yaxis.set_major_formatter(PercentFormatter(1))\n",
        "\n",
        "#Renombramos señal con 1 y ruido con 0:\n",
        "picture_label=[1 if x==\"signal\" else 0 for x in picture_label]\n"
      ]
    },
    {
      "cell_type": "code",
      "execution_count": null,
      "metadata": {
        "id": "dp_Vu9VYNWEp"
      },
      "outputs": [],
      "source": []
    },
    {
      "cell_type": "markdown",
      "metadata": {
        "id": "HlqN5KbafhLI"
      },
      "source": [
        "Separamos en 66% / 33% los eventos para entrenamiento y validación. Los datos están ya mezclados, por lo que basta con separarlos."
      ]
    },
    {
      "cell_type": "code",
      "execution_count": 5,
      "metadata": {
        "id": "NIWY8m9xPPuv"
      },
      "outputs": [],
      "source": [
        "picture_label_validation=picture_label[:1400]\n",
        "picture_label_train     =picture_label[1400:]\n",
        "collections.Counter(picture_label)[1]\n",
        "c_train     =collections.Counter(picture_label_train)\n",
        "c_validation=collections.Counter(picture_label_validation)"
      ]
    },
    {
      "cell_type": "code",
      "execution_count": 6,
      "metadata": {
        "colab": {
          "base_uri": "https://localhost:8080/"
        },
        "id": "H4XHh2xSfgie",
        "outputId": "19e988ca-0138-43b8-eef1-b8b93deebc61"
      },
      "outputs": [
        {
          "name": "stdout",
          "output_type": "stream",
          "text": [
            "total training signal images: 1094\n",
            "total training background images: 1706\n",
            "proporción señal/ruido:  39 60\n",
            "\n",
            "\n",
            "total validation signal images: 490\n",
            "total validation background images: 910\n",
            "proporción señal/ruido:  35 65\n"
          ]
        }
      ],
      "source": [
        "\n",
        "print('total training signal images:', c_train[1])\n",
        "print('total training background images:', c_train[0])\n",
        "print('proporción señal/ruido: ', int(c_train[1]/(c_train[1]+c_train[0])*100),int(c_train[0]/(c_train[1]+c_train[0])*100))\n",
        "print('\\n')\n",
        "print('total validation signal images:', collections.Counter(picture_label_validation)[1])\n",
        "print('total validation background images:', collections.Counter(picture_label_validation)[0])\n",
        "print('proporción señal/ruido: ', int(c_validation[1]/(c_validation[1]+c_validation[0])*100),int(c_validation[0]/(c_validation[1]+c_validation[0])*100))\n"
      ]
    },
    {
      "cell_type": "code",
      "execution_count": 7,
      "metadata": {
        "colab": {
          "base_uri": "https://localhost:8080/",
          "height": 286
        },
        "id": "nTkyCErdXefi",
        "outputId": "5d6f640e-096a-43ac-b5e9-6c80348ee20e"
      },
      "outputs": [
        {
          "name": "stdout",
          "output_type": "stream",
          "text": [
            "(4200, 200, 248)\n"
          ]
        },
        {
          "data": {
            "image/png": "[encoded data removed]",
            "text/plain": [
              "<Figure size 432x288 with 1 Axes>"
            ]
          },
          "metadata": {
            "needs_background": "light"
          },
          "output_type": "display_data"
        }
      ],
      "source": [
        "h=lazyarray[0] [\"TPCImgHeightU\"]\n",
        "w=lazyarray[0] [\"TPCImgWidthU\"]\n",
        "\n",
        "file   = uproot.open(file_path)\n",
        "tree   = file[\"nndumper/evttree;5\"]\n",
        "branch = tree[\"TPCImgDataU\"]\n",
        "pics=branch.array().to_numpy().reshape(4200,h,w)#images are stored as vectors, switch them back to matrices again\n",
        "pics/=np.max(pics) #normalize to 1.\n",
        "\n",
        "print(pics.shape)\n",
        "plt.imshow(pics[0],cmap = 'jet', interpolation='none');"
      ]
    },
    {
      "cell_type": "code",
      "execution_count": 8,
      "metadata": {
        "colab": {
          "base_uri": "https://localhost:8080/"
        },
        "id": "gRrNXlbscE3T",
        "outputId": "38857ca5-4e4a-4b9d-c0f9-8d55e4357266"
      },
      "outputs": [
        {
          "data": {
            "text/plain": [
              "array([0, 1, 1, ..., 1, 0, 0])"
            ]
          },
          "execution_count": 8,
          "metadata": {},
          "output_type": "execute_result"
        }
      ],
      "source": [
        "labels  = tree[\"InteractionType\"].array().to_numpy()\n",
        "labels2 = labels==1001\n",
        "labels3 = labels2.astype(int)\n",
        "labels3"
      ]
    },
    {
      "cell_type": "code",
      "execution_count": 9,
      "metadata": {
        "id": "G6I9NAzBhTzV"
      },
      "outputs": [],
      "source": [
        "labels3_validation=labels3[:1400]\n",
        "labels3_train     =labels3[1400:]\n",
        "\n",
        "pics_validation=pics[:1400,:,:]\n",
        "pics_train     =pics[1400:,:,:]"
      ]
    },
    {
      "cell_type": "markdown",
      "metadata": {
        "id": "5oqBkNBJmtUv"
      },
      "source": [
        "## Definición de la CNN \n",
        "\n",
        "Las imágenes color se escalan a tamaño image_size X image_size píxeles, aunque en realidad son objetos 150x150x3 debido a los 3 colores RGB."
      ]
    },
    {
      "cell_type": "code",
      "execution_count": 10,
      "metadata": {
        "id": "IYVLSfbsbf9K"
      },
      "outputs": [],
      "source": [
        "from tensorflow.keras import layers\n",
        "from tensorflow.keras import Model\n",
        "from tensorflow.keras import applications\n"
      ]
    },
    {
      "cell_type": "markdown",
      "metadata": {
        "id": "EwEmb3W9pJ_M"
      },
      "source": [
        "### Toy model"
      ]
    },
    {
      "cell_type": "code",
      "execution_count": 17,
      "metadata": {
        "id": "ugysGIPxnaYo"
      },
      "outputs": [
        {
          "name": "stdout",
          "output_type": "stream",
          "text": [
            "[(None, 200, 248, 1)]\n",
            "(None, 195, 243, 16)\n",
            "(None, 97, 121, 16)\n",
            "(None, 92, 116, 32)\n",
            "(None, 46, 58, 32)\n",
            "(None, 41, 53, 64)\n",
            "(None, 20, 26, 64)\n",
            "(None, 15, 21, 128)\n",
            "(None, 7, 10, 128)\n",
            "(None, 8960)\n",
            "(None, 32)\n",
            "(None, 1)\n"
          ]
        }
      ],
      "source": [
        "# Capa de entrada de datos: image_size x image_size x 1\n",
        "img_input = layers.Input(shape=(h, w, 1))\n",
        "\n",
        "# Bloque convolucional formado por: \n",
        "# Capa convolucional con 16 filtros y tamaño 3x3.\n",
        "# Capa max-pooling de tamaño 2x2.\n",
        "x = layers.Conv2D(6, 5, activation='relu')(img_input)\n",
        "x = layers.MaxPooling2D(2)(x)\n",
        "\n",
        "# Bloque convolucional formado por: \n",
        "# Capa convolucional con 32 filtros y tamaño 3x3.\n",
        "# Capa max-pooling de tamaño 2x2.\n",
        "x = layers.Conv2D(12, 5, activation='relu')(x)\n",
        "x = layers.MaxPooling2D(2)(x)\n",
        "# A continuación se añaden dos capas densas, \n",
        "# la primera de las cuales tiene una función de activación relu. \n",
        "# Finalmente la capa de salida tiene una sola neurona para producir \n",
        "# un único escalar con función de activación sigmoide para producir \n",
        "# una salida en el rango entre 0 y 1.\n",
        "\n",
        "# Se aplana el objeto de forma que en vez se tener un tensor 3D sea 1D.\n",
        "x = layers.Flatten()(x)\n",
        "# Capa de salida de una única neurona y función de activación sigmoide.\n",
        "output = layers.Dense(1, activation='sigmoid')(x)\n",
        "\n",
        "for x in model.layers:\n",
        "  print(x.output_shape)\n"
      ]
    },
    {
      "cell_type": "code",
      "execution_count": 18,
      "metadata": {
        "id": "5Il5bqJnKYKu"
      },
      "outputs": [],
      "source": [
        "# Crear el modelo:\n",
        "model = Model(img_input, output)"
      ]
    },
    {
      "cell_type": "code",
      "execution_count": 21,
      "metadata": {
        "colab": {
          "base_uri": "https://localhost:8080/"
        },
        "id": "tH37tWIXxEk4",
        "outputId": "1d1d304c-d1d7-4c12-8753-720c74c241a8"
      },
      "outputs": [
        {
          "name": "stdout",
          "output_type": "stream",
          "text": [
            "Model: \"model_1\"\n",
            "_________________________________________________________________\n",
            " Layer (type)                Output Shape              Param #   \n",
            "=================================================================\n",
            " input_2 (InputLayer)        [(None, 200, 248, 1)]     0         \n",
            "                                                                 \n",
            " conv2d_4 (Conv2D)           (None, 196, 244, 6)       156       \n",
            "                                                                 \n",
            " max_pooling2d_4 (MaxPooling  (None, 98, 122, 6)       0         \n",
            " 2D)                                                             \n",
            "                                                                 \n",
            " conv2d_5 (Conv2D)           (None, 94, 118, 12)       1812      \n",
            "                                                                 \n",
            " max_pooling2d_5 (MaxPooling  (None, 47, 59, 12)       0         \n",
            " 2D)                                                             \n",
            "                                                                 \n",
            " flatten_1 (Flatten)         (None, 33276)             0         \n",
            "                                                                 \n",
            " dense_2 (Dense)             (None, 1)                 33277     \n",
            "                                                                 \n",
            "=================================================================\n",
            "Total params: 35,245\n",
            "Trainable params: 35,245\n",
            "Non-trainable params: 0\n",
            "_________________________________________________________________\n"
          ]
        }
      ],
      "source": [
        "# Entrenar el modelo.\n",
        "from tensorflow.keras.optimizers import RMSprop\n",
        "\n",
        "# model.compile(loss='binary_crossentropy',\n",
        "#               optimizer=RMSprop(lr=0.001),\n",
        "#               metrics=['acc'])\n",
        "loss='binary_crossentropy',optimizer='adam'model.summary()"
      ]
    },
    {
      "cell_type": "markdown",
      "metadata": {
        "id": "eFBUY0D0pSWt"
      },
      "source": [
        "### Transfer learning - Deep model -> can not use onlly one layer (h,w,1), only 3 RGB pictures alowed (h,w,3)"
      ]
    },
    {
      "cell_type": "code",
      "execution_count": 81,
      "metadata": {
        "colab": {
          "base_uri": "https://localhost:8080/"
        },
        "id": "aTpQ9IrzpcBu",
        "outputId": "d86dfc62-ef55-466e-9533-b3e3164ece60"
      },
      "outputs": [
        {
          "name": "stdout",
          "output_type": "stream",
          "text": [
            "Downloading data from https://storage.googleapis.com/tensorflow/keras-applications/vgg16/vgg16_weights_tf_dim_ordering_tf_kernels_notop.h5\n",
            "58892288/58889256 [==============================] - 0s 0us/step\n",
            "58900480/58889256 [==============================] - 0s 0us/step\n",
            "Model: \"model_2\"\n",
            "_________________________________________________________________\n",
            " Layer (type)                Output Shape              Param #   \n",
            "=================================================================\n",
            " input_3 (InputLayer)        [(None, 200, 248, 3)]     0         \n",
            "                                                                 \n",
            " block1_conv1 (Conv2D)       (None, 200, 248, 64)      1792      \n",
            "                                                                 \n",
            " block1_conv2 (Conv2D)       (None, 200, 248, 64)      36928     \n",
            "                                                                 \n",
            " block1_pool (MaxPooling2D)  (None, 100, 124, 64)      0         \n",
            "                                                                 \n",
            " block2_conv1 (Conv2D)       (None, 100, 124, 128)     73856     \n",
            "                                                                 \n",
            " block2_conv2 (Conv2D)       (None, 100, 124, 128)     147584    \n",
            "                                                                 \n",
            " block2_pool (MaxPooling2D)  (None, 50, 62, 128)       0         \n",
            "                                                                 \n",
            " block3_conv1 (Conv2D)       (None, 50, 62, 256)       295168    \n",
            "                                                                 \n",
            " block3_conv2 (Conv2D)       (None, 50, 62, 256)       590080    \n",
            "                                                                 \n",
            " block3_conv3 (Conv2D)       (None, 50, 62, 256)       590080    \n",
            "                                                                 \n",
            " block3_pool (MaxPooling2D)  (None, 25, 31, 256)       0         \n",
            "                                                                 \n",
            " block4_conv1 (Conv2D)       (None, 25, 31, 512)       1180160   \n",
            "                                                                 \n",
            " block4_conv2 (Conv2D)       (None, 25, 31, 512)       2359808   \n",
            "                                                                 \n",
            " block4_conv3 (Conv2D)       (None, 25, 31, 512)       2359808   \n",
            "                                                                 \n",
            " block4_pool (MaxPooling2D)  (None, 12, 15, 512)       0         \n",
            "                                                                 \n",
            " block5_conv1 (Conv2D)       (None, 12, 15, 512)       2359808   \n",
            "                                                                 \n",
            " block5_conv2 (Conv2D)       (None, 12, 15, 512)       2359808   \n",
            "                                                                 \n",
            " block5_conv3 (Conv2D)       (None, 12, 15, 512)       2359808   \n",
            "                                                                 \n",
            " block5_pool (MaxPooling2D)  (None, 6, 7, 512)         0         \n",
            "                                                                 \n",
            " flatten_2 (Flatten)         (None, 21504)             0         \n",
            "                                                                 \n",
            " dense_4 (Dense)             (None, 10)                215050    \n",
            "                                                                 \n",
            " dense_output (Dense)        (None, 2)                 22        \n",
            "                                                                 \n",
            "=================================================================\n",
            "Total params: 14,929,760\n",
            "Trainable params: 14,929,760\n",
            "Non-trainable params: 0\n",
            "_________________________________________________________________\n"
          ]
        }
      ],
      "source": [
        "# Se carga la parte convolucional del modelo entrenado VGG16.\n",
        "# Very Deep Convolutional Networks for Large-Scale Image Recognition\n",
        "# Karen Simonyan, Andrew Zisserman\n",
        "# https://arxiv.org/abs/1409.1556\n",
        "\n",
        "conv_model = applications.VGG16(weights='imagenet', include_top=False, input_shape=(h,w,3) )\n",
        "\n",
        "# Se añaden una capa flatten,\n",
        "x = layers.Flatten()(conv_model.output)\n",
        "# varias capas densas \n",
        "# (a medida que se añadan más capas densas el tiempo de entrenamiento se incrementa)\n",
        "x = layers.Dense(10, activation='relu')(x)\n",
        "#x = layers.Dense(100, activation='relu')(x)\n",
        "#x = layers.Dense(100, activation='relu')(x)\n",
        "# y una capa final softmax \n",
        "predictions = layers.Dense(2, activation='softmax', name='dense_output')(x)\n",
        "# puesto que nuestro problema es un clasificador binario (gatos-perros)\n",
        "# la capa de salida debe tener dos neuronas con softmax como función de activación.\n",
        "\n",
        "# Crear el modelo completo\n",
        "full_model = Model(inputs=conv_model.input, outputs=predictions)\n",
        "full_model.summary()"
      ]
    },
    {
      "cell_type": "markdown",
      "metadata": {
        "id": "tBTAYAMWqb8t"
      },
      "source": [
        "### Dani model"
      ]
    },
    {
      "cell_type": "code",
      "execution_count": 85,
      "metadata": {
        "colab": {
          "base_uri": "https://localhost:8080/",
          "height": 401
        },
        "id": "qOJ92a1kqik-",
        "outputId": "bc405910-2d0e-4f1c-a0e1-d1087551d2e5"
      },
      "outputs": [
        {
          "ename": "ValueError",
          "evalue": "ignored",
          "output_type": "error",
          "traceback": [
            "\u001b[0;31m---------------------------------------------------------------------------\u001b[0m",
            "\u001b[0;31mValueError\u001b[0m                                Traceback (most recent call last)",
            "\u001b[0;32m<ipython-input-85-562319b1fe86>\u001b[0m in \u001b[0;36m<module>\u001b[0;34m()\u001b[0m\n\u001b[1;32m     12\u001b[0m \u001b[0mmodel\u001b[0m \u001b[0;34m=\u001b[0m \u001b[0mkeras\u001b[0m\u001b[0;34m.\u001b[0m\u001b[0mmodels\u001b[0m\u001b[0;34m.\u001b[0m\u001b[0mSequential\u001b[0m\u001b[0;34m(\u001b[0m\u001b[0;34m)\u001b[0m\u001b[0;34m\u001b[0m\u001b[0;34m\u001b[0m\u001b[0m\n\u001b[1;32m     13\u001b[0m \u001b[0;34m\u001b[0m\u001b[0m\n\u001b[0;32m---> 14\u001b[0;31m \u001b[0mmodel\u001b[0m\u001b[0;34m.\u001b[0m\u001b[0madd\u001b[0m\u001b[0;34m(\u001b[0m\u001b[0mConv2D\u001b[0m\u001b[0;34m(\u001b[0m\u001b[0;36m6\u001b[0m\u001b[0;34m,\u001b[0m \u001b[0;36m5\u001b[0m\u001b[0;34m,\u001b[0m\u001b[0mactivation\u001b[0m\u001b[0;34m=\u001b[0m\u001b[0;34m'relu'\u001b[0m\u001b[0;34m,\u001b[0m\u001b[0mdata_format\u001b[0m\u001b[0;34m=\u001b[0m\u001b[0;34m\"channels_first\"\u001b[0m\u001b[0;34m,\u001b[0m\u001b[0minput_shape\u001b[0m\u001b[0;34m=\u001b[0m\u001b[0;34m(\u001b[0m\u001b[0mpics\u001b[0m\u001b[0;34m.\u001b[0m\u001b[0mshape\u001b[0m\u001b[0;34m[\u001b[0m\u001b[0;36m1\u001b[0m\u001b[0;34m]\u001b[0m\u001b[0;34m,\u001b[0m\u001b[0mpics\u001b[0m\u001b[0;34m.\u001b[0m\u001b[0mshape\u001b[0m\u001b[0;34m[\u001b[0m\u001b[0;36m2\u001b[0m\u001b[0;34m]\u001b[0m\u001b[0;34m,\u001b[0m\u001b[0;36m1\u001b[0m\u001b[0;34m)\u001b[0m\u001b[0;34m)\u001b[0m\u001b[0;34m)\u001b[0m\u001b[0;34m\u001b[0m\u001b[0;34m\u001b[0m\u001b[0m\n\u001b[0m\u001b[1;32m     15\u001b[0m \u001b[0mmodel\u001b[0m\u001b[0;34m.\u001b[0m\u001b[0madd\u001b[0m\u001b[0;34m(\u001b[0m\u001b[0mMaxPooling2D\u001b[0m\u001b[0;34m(\u001b[0m\u001b[0mpool_size\u001b[0m\u001b[0;34m=\u001b[0m\u001b[0;34m(\u001b[0m\u001b[0;36m2\u001b[0m\u001b[0;34m,\u001b[0m\u001b[0;36m2\u001b[0m\u001b[0;34m)\u001b[0m\u001b[0;34m,\u001b[0m\u001b[0mdata_format\u001b[0m\u001b[0;34m=\u001b[0m\u001b[0;34m'channels_first'\u001b[0m\u001b[0;34m)\u001b[0m\u001b[0;34m)\u001b[0m\u001b[0;34m\u001b[0m\u001b[0;34m\u001b[0m\u001b[0m\n\u001b[1;32m     16\u001b[0m \u001b[0mmodel\u001b[0m\u001b[0;34m.\u001b[0m\u001b[0madd\u001b[0m\u001b[0;34m(\u001b[0m\u001b[0mDropout\u001b[0m\u001b[0;34m(\u001b[0m\u001b[0mdropout\u001b[0m\u001b[0;34m)\u001b[0m\u001b[0;34m)\u001b[0m\u001b[0;34m\u001b[0m\u001b[0;34m\u001b[0m\u001b[0m\n",
            "\u001b[0;32m/usr/local/lib/python3.7/dist-packages/tensorflow/python/training/tracking/base.py\u001b[0m in \u001b[0;36m_method_wrapper\u001b[0;34m(self, *args, **kwargs)\u001b[0m\n\u001b[1;32m    528\u001b[0m     \u001b[0mself\u001b[0m\u001b[0;34m.\u001b[0m\u001b[0m_self_setattr_tracking\u001b[0m \u001b[0;34m=\u001b[0m \u001b[0;32mFalse\u001b[0m  \u001b[0;31m# pylint: disable=protected-access\u001b[0m\u001b[0;34m\u001b[0m\u001b[0;34m\u001b[0m\u001b[0m\n\u001b[1;32m    529\u001b[0m     \u001b[0;32mtry\u001b[0m\u001b[0;34m:\u001b[0m\u001b[0;34m\u001b[0m\u001b[0;34m\u001b[0m\u001b[0m\n\u001b[0;32m--> 530\u001b[0;31m       \u001b[0mresult\u001b[0m \u001b[0;34m=\u001b[0m \u001b[0mmethod\u001b[0m\u001b[0;34m(\u001b[0m\u001b[0mself\u001b[0m\u001b[0;34m,\u001b[0m \u001b[0;34m*\u001b[0m\u001b[0margs\u001b[0m\u001b[0;34m,\u001b[0m \u001b[0;34m**\u001b[0m\u001b[0mkwargs\u001b[0m\u001b[0;34m)\u001b[0m\u001b[0;34m\u001b[0m\u001b[0;34m\u001b[0m\u001b[0m\n\u001b[0m\u001b[1;32m    531\u001b[0m     \u001b[0;32mfinally\u001b[0m\u001b[0;34m:\u001b[0m\u001b[0;34m\u001b[0m\u001b[0;34m\u001b[0m\u001b[0m\n\u001b[1;32m    532\u001b[0m       \u001b[0mself\u001b[0m\u001b[0;34m.\u001b[0m\u001b[0m_self_setattr_tracking\u001b[0m \u001b[0;34m=\u001b[0m \u001b[0mprevious_value\u001b[0m  \u001b[0;31m# pylint: disable=protected-access\u001b[0m\u001b[0;34m\u001b[0m\u001b[0;34m\u001b[0m\u001b[0m\n",
            "\u001b[0;32m/usr/local/lib/python3.7/dist-packages/keras/utils/traceback_utils.py\u001b[0m in \u001b[0;36merror_handler\u001b[0;34m(*args, **kwargs)\u001b[0m\n\u001b[1;32m     65\u001b[0m     \u001b[0;32mexcept\u001b[0m \u001b[0mException\u001b[0m \u001b[0;32mas\u001b[0m \u001b[0me\u001b[0m\u001b[0;34m:\u001b[0m  \u001b[0;31m# pylint: disable=broad-except\u001b[0m\u001b[0;34m\u001b[0m\u001b[0;34m\u001b[0m\u001b[0m\n\u001b[1;32m     66\u001b[0m       \u001b[0mfiltered_tb\u001b[0m \u001b[0;34m=\u001b[0m \u001b[0m_process_traceback_frames\u001b[0m\u001b[0;34m(\u001b[0m\u001b[0me\u001b[0m\u001b[0;34m.\u001b[0m\u001b[0m__traceback__\u001b[0m\u001b[0;34m)\u001b[0m\u001b[0;34m\u001b[0m\u001b[0;34m\u001b[0m\u001b[0m\n\u001b[0;32m---> 67\u001b[0;31m       \u001b[0;32mraise\u001b[0m \u001b[0me\u001b[0m\u001b[0;34m.\u001b[0m\u001b[0mwith_traceback\u001b[0m\u001b[0;34m(\u001b[0m\u001b[0mfiltered_tb\u001b[0m\u001b[0;34m)\u001b[0m \u001b[0;32mfrom\u001b[0m \u001b[0;32mNone\u001b[0m\u001b[0;34m\u001b[0m\u001b[0;34m\u001b[0m\u001b[0m\n\u001b[0m\u001b[1;32m     68\u001b[0m     \u001b[0;32mfinally\u001b[0m\u001b[0;34m:\u001b[0m\u001b[0;34m\u001b[0m\u001b[0;34m\u001b[0m\u001b[0m\n\u001b[1;32m     69\u001b[0m       \u001b[0;32mdel\u001b[0m \u001b[0mfiltered_tb\u001b[0m\u001b[0;34m\u001b[0m\u001b[0;34m\u001b[0m\u001b[0m\n",
            "\u001b[0;32m/usr/local/lib/python3.7/dist-packages/keras/layers/convolutional.py\u001b[0m in \u001b[0;36mcompute_output_shape\u001b[0;34m(self, input_shape)\u001b[0m\n\u001b[1;32m    301\u001b[0m     \u001b[0;32mexcept\u001b[0m \u001b[0mValueError\u001b[0m\u001b[0;34m:\u001b[0m\u001b[0;34m\u001b[0m\u001b[0;34m\u001b[0m\u001b[0m\n\u001b[1;32m    302\u001b[0m       raise ValueError(\n\u001b[0;32m--> 303\u001b[0;31m           \u001b[0;34mf'One of the dimensions in the output is <= 0 '\u001b[0m\u001b[0;34m\u001b[0m\u001b[0;34m\u001b[0m\u001b[0m\n\u001b[0m\u001b[1;32m    304\u001b[0m           \u001b[0;34mf'due to downsampling in {self.name}. Consider '\u001b[0m\u001b[0;34m\u001b[0m\u001b[0;34m\u001b[0m\u001b[0m\n\u001b[1;32m    305\u001b[0m           \u001b[0;34mf'increasing the input size. '\u001b[0m\u001b[0;34m\u001b[0m\u001b[0;34m\u001b[0m\u001b[0m\n",
            "\u001b[0;31mValueError\u001b[0m: One of the dimensions in the output is <= 0 due to downsampling in conv2d_8. Consider increasing the input size. Received input shape [None, 200, 248, 1] which would produce output shape with a zero or negative value in a dimension."
          ]
        }
      ],
      "source": [
        "import keras\n",
        "from keras.models import Sequential\n",
        "from keras.layers import Conv2D, MaxPooling2D , Dropout , Flatten, Dense\n",
        "\n",
        "# parameters\n",
        "filters=6\n",
        "kernel_size=5\n",
        "pool=2\n",
        "dropout=0.1\n",
        "\n",
        "#convolutional block\n",
        "model = keras.models.Sequential()\n",
        "\n",
        "model.add(Conv2D(6, 5,activation='relu',data_format=\"channels_first\",input_shape=(pics.shape[1],pics.shape[2],1)))\n",
        "model.add(MaxPooling2D(pool_size=(2,2),data_format='channels_first'))\n",
        "model.add(Dropout(dropout))\n",
        "print(model.layers[-1].output_shape)\n",
        "\n",
        "model.add(Conv2D(12, 4,activation='relu',data_format=\"channels_first\",input_shape=(pics.shape[1],pics.shape[2],1)))\n",
        "model.add(MaxPooling2D(pool_size=(2,2),data_format='channels_first'))\n",
        "model.add(Dropout(dropout))\n",
        "print(model.layers[-1].output_shape)\n",
        "\n",
        "\n",
        "model.add(Flatten())\n",
        "print(model.layers[-1].output_shape)\n",
        "\n",
        "model.add(Dense(1,activation='sigmoid'))\n",
        "print(model.layers[-1].output_shape)"
      ]
    },
    {
      "cell_type": "markdown",
      "metadata": {
        "id": "mu3Jdwkjwax4"
      },
      "source": [
        "### Entrenamiento"
      ]
    },
    {
      "cell_type": "code",
      "execution_count": 40,
      "metadata": {
        "colab": {
          "base_uri": "https://localhost:8080/",
          "height": 383
        },
        "id": "P7lv-ik1PftS",
        "outputId": "57be6710-c9ac-4095-c358-065e3701cc28"
      },
      "outputs": [
        {
          "name": "stdout",
          "output_type": "stream",
          "text": [
            "Epoch 1/3\n",
            "88/88 [==============================] - 31s 348ms/step - loss: 0.6744 - acc: 0.6093 - val_loss: 0.6568 - val_acc: 0.6500\n",
            "Epoch 2/3\n",
            "88/88 [==============================] - 34s 385ms/step - loss: 0.6735 - acc: 0.6093 - val_loss: 0.6483 - val_acc: 0.6500\n",
            "Epoch 3/3\n",
            "88/88 [==============================] - 34s 387ms/step - loss: 0.6726 - acc: 0.6093 - val_loss: 0.6478 - val_acc: 0.6500\n"
          ]
        }
      ],
      "source": [
        "history=model.fit(pics_train,labels3_train, epochs=3, batch_size=32, validation_data=(pics_validation,labels3_validation), verbose=1)"
      ]
    },
    {
      "cell_type": "markdown",
      "metadata": {
        "id": "-8EHQyWGDvWz"
      },
      "source": [
        "## Visualización de las representaciones intermedias\n",
        "\n",
        "Se visualiza las características intermedias aprendidas por la CNN. Se puede observar como la entrada se transforma al pasar através de las capas. Se selecciona una imagen aleatoria del conjunto de entrenamiento y se visualiza durante su transformación. Cada fila corresponde con una capa y cada imagen en la fila con un filtro. "
      ]
    },
    {
      "cell_type": "code",
      "execution_count": null,
      "metadata": {
        "colab": {
          "base_uri": "https://localhost:8080/",
          "height": 644
        },
        "id": "-5tES8rXFjux",
        "outputId": "9b55b79b-98b5-4d8c-eeb6-bce8f550307c"
      },
      "outputs": [
        {
          "ename": "ValueError",
          "evalue": "ignored",
          "output_type": "error",
          "traceback": [
            "\u001b[0;31m---------------------------------------------------------------------------\u001b[0m",
            "\u001b[0;31mValueError\u001b[0m                                Traceback (most recent call last)",
            "\u001b[0;32m<ipython-input-86-ac85302ac818>\u001b[0m in \u001b[0;36m<module>\u001b[0;34m()\u001b[0m\n\u001b[1;32m     15\u001b[0m \u001b[0;31m# Se hace pasar la imagen através de la red.\u001b[0m\u001b[0;34m\u001b[0m\u001b[0;34m\u001b[0m\u001b[0;34m\u001b[0m\u001b[0m\n\u001b[1;32m     16\u001b[0m \u001b[0;31m# Así se obtienen sus presentaciones intermedias.\u001b[0m\u001b[0;34m\u001b[0m\u001b[0;34m\u001b[0m\u001b[0;34m\u001b[0m\u001b[0m\n\u001b[0;32m---> 17\u001b[0;31m \u001b[0msuccessive_feature_maps\u001b[0m \u001b[0;34m=\u001b[0m \u001b[0mvisualization_model\u001b[0m\u001b[0;34m.\u001b[0m\u001b[0mpredict\u001b[0m\u001b[0;34m(\u001b[0m\u001b[0mx\u001b[0m\u001b[0;34m)\u001b[0m\u001b[0;34m\u001b[0m\u001b[0;34m\u001b[0m\u001b[0m\n\u001b[0m\u001b[1;32m     18\u001b[0m \u001b[0;34m\u001b[0m\u001b[0m\n\u001b[1;32m     19\u001b[0m \u001b[0;31m# Se obtienen los nombres de las capas.\u001b[0m\u001b[0;34m\u001b[0m\u001b[0;34m\u001b[0m\u001b[0;34m\u001b[0m\u001b[0m\n",
            "\u001b[0;32m/usr/local/lib/python3.7/dist-packages/keras/utils/traceback_utils.py\u001b[0m in \u001b[0;36merror_handler\u001b[0;34m(*args, **kwargs)\u001b[0m\n\u001b[1;32m     65\u001b[0m     \u001b[0;32mexcept\u001b[0m \u001b[0mException\u001b[0m \u001b[0;32mas\u001b[0m \u001b[0me\u001b[0m\u001b[0;34m:\u001b[0m  \u001b[0;31m# pylint: disable=broad-except\u001b[0m\u001b[0;34m\u001b[0m\u001b[0;34m\u001b[0m\u001b[0m\n\u001b[1;32m     66\u001b[0m       \u001b[0mfiltered_tb\u001b[0m \u001b[0;34m=\u001b[0m \u001b[0m_process_traceback_frames\u001b[0m\u001b[0;34m(\u001b[0m\u001b[0me\u001b[0m\u001b[0;34m.\u001b[0m\u001b[0m__traceback__\u001b[0m\u001b[0;34m)\u001b[0m\u001b[0;34m\u001b[0m\u001b[0;34m\u001b[0m\u001b[0m\n\u001b[0;32m---> 67\u001b[0;31m       \u001b[0;32mraise\u001b[0m \u001b[0me\u001b[0m\u001b[0;34m.\u001b[0m\u001b[0mwith_traceback\u001b[0m\u001b[0;34m(\u001b[0m\u001b[0mfiltered_tb\u001b[0m\u001b[0;34m)\u001b[0m \u001b[0;32mfrom\u001b[0m \u001b[0;32mNone\u001b[0m\u001b[0;34m\u001b[0m\u001b[0;34m\u001b[0m\u001b[0m\n\u001b[0m\u001b[1;32m     68\u001b[0m     \u001b[0;32mfinally\u001b[0m\u001b[0;34m:\u001b[0m\u001b[0;34m\u001b[0m\u001b[0;34m\u001b[0m\u001b[0m\n\u001b[1;32m     69\u001b[0m       \u001b[0;32mdel\u001b[0m \u001b[0mfiltered_tb\u001b[0m\u001b[0;34m\u001b[0m\u001b[0;34m\u001b[0m\u001b[0m\n",
            "\u001b[0;32m/usr/local/lib/python3.7/dist-packages/tensorflow/python/framework/func_graph.py\u001b[0m in \u001b[0;36mautograph_handler\u001b[0;34m(*args, **kwargs)\u001b[0m\n\u001b[1;32m   1127\u001b[0m           \u001b[0;32mexcept\u001b[0m \u001b[0mException\u001b[0m \u001b[0;32mas\u001b[0m \u001b[0me\u001b[0m\u001b[0;34m:\u001b[0m  \u001b[0;31m# pylint:disable=broad-except\u001b[0m\u001b[0;34m\u001b[0m\u001b[0;34m\u001b[0m\u001b[0m\n\u001b[1;32m   1128\u001b[0m             \u001b[0;32mif\u001b[0m \u001b[0mhasattr\u001b[0m\u001b[0;34m(\u001b[0m\u001b[0me\u001b[0m\u001b[0;34m,\u001b[0m \u001b[0;34m\"ag_error_metadata\"\u001b[0m\u001b[0;34m)\u001b[0m\u001b[0;34m:\u001b[0m\u001b[0;34m\u001b[0m\u001b[0;34m\u001b[0m\u001b[0m\n\u001b[0;32m-> 1129\u001b[0;31m               \u001b[0;32mraise\u001b[0m \u001b[0me\u001b[0m\u001b[0;34m.\u001b[0m\u001b[0mag_error_metadata\u001b[0m\u001b[0;34m.\u001b[0m\u001b[0mto_exception\u001b[0m\u001b[0;34m(\u001b[0m\u001b[0me\u001b[0m\u001b[0;34m)\u001b[0m\u001b[0;34m\u001b[0m\u001b[0;34m\u001b[0m\u001b[0m\n\u001b[0m\u001b[1;32m   1130\u001b[0m             \u001b[0;32melse\u001b[0m\u001b[0;34m:\u001b[0m\u001b[0;34m\u001b[0m\u001b[0;34m\u001b[0m\u001b[0m\n\u001b[1;32m   1131\u001b[0m               \u001b[0;32mraise\u001b[0m\u001b[0;34m\u001b[0m\u001b[0;34m\u001b[0m\u001b[0m\n",
            "\u001b[0;31mValueError\u001b[0m: in user code:\n\n    File \"/usr/local/lib/python3.7/dist-packages/keras/engine/training.py\", line 1621, in predict_function  *\n        return step_function(self, iterator)\n    File \"/usr/local/lib/python3.7/dist-packages/keras/engine/training.py\", line 1611, in step_function  **\n        outputs = model.distribute_strategy.run(run_step, args=(data,))\n    File \"/usr/local/lib/python3.7/dist-packages/keras/engine/training.py\", line 1604, in run_step  **\n        outputs = model.predict_step(data)\n    File \"/usr/local/lib/python3.7/dist-packages/keras/engine/training.py\", line 1572, in predict_step\n        return self(x, training=False)\n    File \"/usr/local/lib/python3.7/dist-packages/keras/utils/traceback_utils.py\", line 67, in error_handler\n        raise e.with_traceback(filtered_tb) from None\n    File \"/usr/local/lib/python3.7/dist-packages/keras/engine/input_spec.py\", line 263, in assert_input_compatibility\n        raise ValueError(f'Input {input_index} of layer \"{layer_name}\" is '\n\n    ValueError: Input 0 of layer \"model_2\" is incompatible with the layer: expected shape=(None, 200, 248, 1), found shape=(None, 248)\n"
          ]
        }
      ],
      "source": [
        "import numpy as np\n",
        "import random\n",
        "from tensorflow.keras.preprocessing.image import img_to_array, load_img\n",
        "\n",
        "# Se define un nuevo modelo que tendrá como entrada la imagen, \n",
        "# y como salida la representación intermedia de todas las capas. \n",
        "successive_outputs = [layer.output for layer in model.layers[1:]]\n",
        "visualization_model = Model(img_input, successive_outputs)\n",
        "\n",
        "x = pics[48]  # Array Numpy array con dimensiones (1, image_size, image_size, 3)\n",
        "\n",
        "# Reescalar por 1/255\n",
        "x /= 255\n",
        "\n",
        "# Se hace pasar la imagen através de la red. \n",
        "# Así se obtienen sus presentaciones intermedias. \n",
        "successive_feature_maps = visualization_model.predict(x)\n",
        "\n",
        "# Se obtienen los nombres de las capas. \n",
        "layer_names = [layer.name for layer in model.layers]\n",
        "\n",
        "# Dibjar representaciones\n",
        "for layer_name, feature_map in zip(layer_names, successive_feature_maps):\n",
        "  if len(feature_map.shape) == 4:\n",
        "    # Hacer con las capas convolucionales y max-pooling, pero no con las densas\n",
        "    n_features = feature_map.shape[-1]  # número de características en un mapa\n",
        "    # El mapa tiene dimensiones (1, size, size, n_features)\n",
        "    size = feature_map.shape[1]\n",
        "    # Título en las imágenes \n",
        "    display_grid = np.zeros((size, size * n_features))\n",
        "    for i in range(n_features):\n",
        "      # Reprocesar para hacer visualizable \n",
        "      x = feature_map[0, :, :, i]\n",
        "      x -= x.mean()\n",
        "      x /= x.std()\n",
        "      x *= 64\n",
        "      x += 128\n",
        "      x = np.clip(x, 0, 255).astype('uint8')\n",
        "      # Horizontal display \n",
        "      display_grid[:, i * size : (i + 1) * size] = x\n",
        "    # Mostrar \n",
        "    scale = 20. / n_features\n",
        "    plt.figure(figsize=(scale * n_features, scale))\n",
        "    plt.title(layer_name)\n",
        "    plt.grid(False)\n",
        "    plt.imshow(display_grid, aspect='auto', cmap='viridis')"
      ]
    },
    {
      "cell_type": "markdown",
      "metadata": {
        "id": "Q5Vulban4ZrD"
      },
      "source": [
        "## Evaluar la calidad del modelo"
      ]
    },
    {
      "cell_type": "markdown",
      "metadata": {
        "id": "ex8BmcXqMR6Q"
      },
      "source": [
        "### Error y exactitud.\n",
        "Se representan el error y la exactitud para los conjuntos de entrenamiento y validación."
      ]
    },
    {
      "cell_type": "code",
      "execution_count": 41,
      "metadata": {
        "colab": {
          "base_uri": "https://localhost:8080/",
          "height": 562
        },
        "id": "0oj0gTIy4k60",
        "outputId": "851b8778-c4b7-406c-ddb6-9eed3ef6ba0d"
      },
      "outputs": [
        {
          "data": {
            "text/plain": [
              "Text(0.5, 1.0, 'Training and validation loss')"
            ]
          },
          "execution_count": 41,
          "metadata": {},
          "output_type": "execute_result"
        },
        {
          "data": {
            "image/png": "[encoded data removed]",
            "text/plain": [
              "<Figure size 432x288 with 1 Axes>"
            ]
          },
          "metadata": {
            "needs_background": "light"
          },
          "output_type": "display_data"
        },
        {
          "data": {
            "image/png": "[encoded data removed]",
            "text/plain": [
              "<Figure size 432x288 with 1 Axes>"
            ]
          },
          "metadata": {
            "needs_background": "light"
          },
          "output_type": "display_data"
        }
      ],
      "source": [
        "# Se recuperan el error y la exactitud de los conjuntos de \n",
        "# entrenamiento y validación \n",
        "acc = history.history['acc']\n",
        "val_acc = history.history['val_acc']\n",
        "loss = history.history['loss']\n",
        "val_loss = history.history['val_loss']\n",
        "\n",
        "# Número de épocas\n",
        "epochs = range(len(acc))\n",
        "\n",
        "# Representación de la exactitud por época de los conjutos de \n",
        "# entrenamiento y validación plt.plot(epochs, acc)\n",
        "plt.plot(epochs, val_acc)\n",
        "plt.title('Training and validation accuracy')\n",
        "\n",
        "plt.figure()\n",
        "\n",
        "# Representación del error por época de los conjutos de \n",
        "# entrenamiento y validación \n",
        "plt.plot(epochs, loss)\n",
        "plt.plot(epochs, val_loss)\n",
        "plt.title('Training and validation loss')"
      ]
    },
    {
      "cell_type": "code",
      "execution_count": 42,
      "metadata": {
        "id": "MiixX0wxo6EB"
      },
      "outputs": [],
      "source": [
        "Y_pred = model.predict(pics_validation)"
      ]
    },
    {
      "cell_type": "code",
      "execution_count": 43,
      "metadata": {
        "colab": {
          "base_uri": "https://localhost:8080/"
        },
        "id": "NDmLzxV52TQ8",
        "outputId": "a499177e-fc70-4efe-db2c-594bde595517"
      },
      "outputs": [
        {
          "data": {
            "text/plain": [
              "<matplotlib.legend.Legend at 0x7f1ec282edc0>"
            ]
          },
          "execution_count": 43,
          "metadata": {},
          "output_type": "execute_result"
        },
        {
          "data": {
            "image/png": "[encoded data removed]",
            "text/plain": [
              "<Figure size 432x432 with 1 Axes>"
            ]
          },
          "metadata": {
            "needs_background": "light"
          },
          "output_type": "display_data"
        }
      ],
      "source": [
        "# Visualización de los pronósticos.\n",
        "plt.figure(1,figsize=(6,6)) \n",
        "plt.style.use('seaborn-deep') \n",
        "plt.hist(Y_pred[labels3_validation==1],30,histtype='step',color='darkorange', label= \"Signal\")\n",
        "plt.hist(Y_pred[labels3_validation==0],30,histtype='step',color='blue', label= \"Backgrounds\")\n",
        "plt.ylabel('Número de casos')\n",
        "plt.xlabel('Predicción')\n",
        "plt.title(\"Clasificador CNN CCQE-Backgrounds\")\n",
        "plt.xlim(-0.01,1.01)\n",
        "plt.legend( loc='upper right')\n",
        "# plt.semilogx()\n",
        "#from google.colab import files\n",
        "#plt.savefig('ClasificadorCNNPerrosGatos.eps')\n",
        "#files.download('ClasificadorCNNPerrosGatos.eps') # Descomentar para descargar localmente"
      ]
    },
    {
      "cell_type": "markdown",
      "metadata": {
        "id": "v7rsgpi5ow_p"
      },
      "source": [
        "### Matrix de confusión\n",
        "La matrix de confusión es un sistema para evaluar la calidad de la predicción en resultados categóricos. "
      ]
    },
    {
      "cell_type": "code",
      "execution_count": 44,
      "metadata": {
        "id": "eyW_AeL9owMw"
      },
      "outputs": [],
      "source": [
        "from sklearn.metrics import classification_report, confusion_matrix"
      ]
    },
    {
      "cell_type": "markdown",
      "metadata": {
        "id": "7utFpA2AcKEQ"
      },
      "source": [
        "Se generan las etiquetas de las imágenes del conjunto de validación. Primero los valores numéricos del pronósitico, el cual es separado en dos vectores iguales. La primera mitad corresponde a los gatos y la segunda mitad a los perros. Finalmente se transforma los valores numéricos en el rango de 0 a 1, en etiquetas 0 ó 1, en función si es menor o mayor de 0.5. Este umbral es completamente arbitrario."
      ]
    },
    {
      "cell_type": "code",
      "execution_count": 45,
      "metadata": {
        "id": "7UdU5Vvw1mOB"
      },
      "outputs": [],
      "source": [
        "Y_pred_signal     = Y_pred[labels3_validation==1]\n",
        "Y_pred_background = Y_pred[labels3_validation==0]"
      ]
    },
    {
      "cell_type": "code",
      "execution_count": 46,
      "metadata": {
        "id": "wGRRts4_4xaq"
      },
      "outputs": [],
      "source": [
        "Y_pred[Y_pred<=0.5] = 0\n",
        "Y_pred[Y_pred>0.5] = 1"
      ]
    },
    {
      "cell_type": "markdown",
      "metadata": {
        "id": "9DIbppdcdHgR"
      },
      "source": [
        "Se construye el vector que corresponde con las etiquetas originales del conjunto de validación"
      ]
    },
    {
      "cell_type": "code",
      "execution_count": 47,
      "metadata": {
        "id": "26hihOhV5a0p"
      },
      "outputs": [],
      "source": [
        "Y_label_ori= labels3_validation"
      ]
    },
    {
      "cell_type": "code",
      "execution_count": 48,
      "metadata": {
        "colab": {
          "base_uri": "https://localhost:8080/"
        },
        "id": "VdvalACs6Cy4",
        "outputId": "e80a44a6-e973-470a-a144-15361ad0d5d1"
      },
      "outputs": [
        {
          "name": "stdout",
          "output_type": "stream",
          "text": [
            "[[910   0]\n",
            " [490   0]]\n"
          ]
        }
      ],
      "source": [
        "cm=confusion_matrix(Y_label_ori, Y_pred)\n",
        "print(cm)"
      ]
    },
    {
      "cell_type": "code",
      "execution_count": 49,
      "metadata": {
        "colab": {
          "base_uri": "https://localhost:8080/"
        },
        "id": "V_JRvZTHqPZP",
        "outputId": "6b1ea541-dc69-42bc-bcdc-f6c233d35c70"
      },
      "outputs": [
        {
          "name": "stdout",
          "output_type": "stream",
          "text": [
            "0\n",
            "910\n",
            "0\n",
            "490\n"
          ]
        }
      ],
      "source": [
        "# Trues\n",
        "TP = cm[1,1]; print(TP)\n",
        "TN = cm[0,0]; print(TN)\n",
        "# Falses\n",
        "FP = cm[0,1]; print(FP)  \n",
        "FN = cm[1,0]; print(FN)"
      ]
    },
    {
      "cell_type": "code",
      "execution_count": 50,
      "metadata": {
        "colab": {
          "base_uri": "https://localhost:8080/"
        },
        "id": "vB_4JKzz9Om5",
        "outputId": "8cb8b247-6f52-4bbc-d77e-4d8888ccda8f"
      },
      "outputs": [
        {
          "name": "stdout",
          "output_type": "stream",
          "text": [
            "Sensitivity or true positive rate 0.0\n",
            "Specificity or true negative rate 1.0\n",
            "Precision or positive predictive value nan\n",
            "Negative predictive value 0.65\n",
            "False positive rate 0.0\n",
            "False negative rate 0.0\n",
            "False discovery rate nan\n",
            "Accuracy 0.65\n"
          ]
        },
        {
          "name": "stderr",
          "output_type": "stream",
          "text": [
            "<ipython-input-50-3657d7146356>:8: RuntimeWarning: invalid value encountered in long_scalars\n",
            "  PPV = TP/(TP+FP)\n",
            "<ipython-input-50-3657d7146356>:20: RuntimeWarning: invalid value encountered in long_scalars\n",
            "  FDR = FP/(TP+FP)\n"
          ]
        }
      ],
      "source": [
        "# Sensitivity, hit rate, recall, or true positive rate\n",
        "TPR = TP/(TP+FN)\n",
        "print('Sensitivity or true positive rate',TPR)\n",
        "# Specificity or true negative rate\n",
        "TNR = TN/(TN+FP) \n",
        "print('Specificity or true negative rate',TNR)\n",
        "# Precision or positive predictive value\n",
        "PPV = TP/(TP+FP)\n",
        "print('Precision or positive predictive value',np.round(PPV,3))\n",
        "# Negative predictive value\n",
        "NPV = TN/(TN+FN)\n",
        "print('Negative predictive value',np.round(NPV,3))\n",
        "# Fall out or false positive rate\n",
        "FPR = FP/(FP+TN)\n",
        "print('False positive rate',FPR)\n",
        "# False negative rate\n",
        "FNR = FN/(TP+FN)\n",
        "print('False negative rate',FPR)\n",
        "# False discovery rate\n",
        "FDR = FP/(TP+FP)\n",
        "print('False discovery rate',FDR)\n",
        "\n",
        "# Overall accuracy\n",
        "ACC = (TP+TN)/(TP+FP+FN+TN)\n",
        "print('Accuracy',ACC)"
      ]
    },
    {
      "cell_type": "markdown",
      "metadata": {
        "id": "lfRo0ayQ0EbD"
      },
      "source": [
        "## Propuestas adicionales.\n",
        "\n",
        "*   Observar el sobreajuste producido si se sube el número de época, por ejemplo a 25. \n",
        "*   Modificar el número de filtros y bloques convolucionales para mejorar el rendimiento de la red. \n",
        "*   Si el tamaño de las imágenes se hace mucho más pequeño, cómo cambia el rendimiento del clasificador. ¿Y en la dirección contraria? \n",
        "\n",
        "\n"
      ]
    },
    {
      "cell_type": "code",
      "execution_count": null,
      "metadata": {
        "id": "NI1bgjaqnQ3t"
      },
      "outputs": [],
      "source": []
    }
  ],
  "metadata": {
    "colab": {
      "collapsed_sections": [
        "-8EHQyWGDvWz",
        "Q5Vulban4ZrD",
        "ex8BmcXqMR6Q",
        "v7rsgpi5ow_p",
        "lfRo0ayQ0EbD"
      ],
      "name": "Clasifi!pip install uproot #needed to read root files/treescador_CNN_CCQE_backgrounds.ipynb",
      "provenance": []
    },
    "kernelspec": {
      "display_name": "Python 3",
      "name": "python3"
    },
    "language_info": {
      "codemirror_mode": {
        "name": "ipython",
        "version": 3
      },
      "file_extension": ".py",
      "mimetype": "text/x-python",
      "name": "python",
      "nbconvert_exporter": "python",
      "pygments_lexer": "ipython3",
      "version": "3.8.10"
    }
  },
  "nbformat": 4,
  "nbformat_minor": 0
}
