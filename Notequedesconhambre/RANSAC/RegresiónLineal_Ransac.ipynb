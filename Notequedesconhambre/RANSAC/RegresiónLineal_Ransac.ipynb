{
  "nbformat": 4,
  "nbformat_minor": 0,
  "metadata": {
    "colab": {
      "name": "RegresiónLineal_Ransac.ipynb",
      "provenance": [],
      "collapsed_sections": [],
      "toc_visible": true
    },
    "kernelspec": {
      "name": "python3",
      "display_name": "Python 3"
    }
  },
  "cells": [
    {
      "cell_type": "markdown",
      "metadata": {
        "id": "A8Rc1iIGlBXK"
      },
      "source": [
        "# Ejemplo de Regresión Lineal Ransac.\n",
        "Este es un ejemplo de Regresión Lineal patológica, donde los datos no se ajustan a un modelo lineal, pero tampoco a uno polinomial. En general en este tipo de problemas, las observaciones, cuando son visualizables por ser bidimensionales, un subconjunto mayoritario siguen un modelo lineal pero un pequeño grupo no. \n",
        "\n",
        "Este subgrupo pueden ser considerados como datos anómalos, pero la pregunta es cómo identificarlos."
      ]
    },
    {
      "cell_type": "markdown",
      "metadata": {
        "id": "YCkpuVJoLdxR"
      },
      "source": [
        "## Importar librerías"
      ]
    },
    {
      "cell_type": "code",
      "metadata": {
        "id": "KEUzc8d0Jqs-"
      },
      "source": [
        "import numpy as np"
      ],
      "execution_count": 1,
      "outputs": []
    },
    {
      "cell_type": "code",
      "metadata": {
        "id": "0ipuSeAwr7zB"
      },
      "source": [
        "from sklearn import linear_model\n",
        "from sklearn.metrics import mean_squared_error, r2_score"
      ],
      "execution_count": 2,
      "outputs": []
    },
    {
      "cell_type": "code",
      "metadata": {
        "id": "dpBMcQxaHKUF"
      },
      "source": [
        "from random import seed\n",
        "import random"
      ],
      "execution_count": 3,
      "outputs": []
    },
    {
      "cell_type": "code",
      "metadata": {
        "id": "g4ad7UB9iXeR"
      },
      "source": [
        "import matplotlib.pyplot as plt"
      ],
      "execution_count": 4,
      "outputs": []
    },
    {
      "cell_type": "code",
      "metadata": {
        "id": "6k3Fue2Mk3EI"
      },
      "source": [
        "import scipy.stats\n",
        "from pylab import *"
      ],
      "execution_count": 5,
      "outputs": []
    },
    {
      "cell_type": "markdown",
      "metadata": {
        "id": "Qj7Wjc77lVlI"
      },
      "source": [
        "## Fijar semilla del generador de números aleatorios."
      ]
    },
    {
      "cell_type": "code",
      "metadata": {
        "id": "Q0Xrjwx-nF57"
      },
      "source": [
        "#seed(1234)"
      ],
      "execution_count": 6,
      "outputs": []
    },
    {
      "cell_type": "markdown",
      "metadata": {
        "id": "sNXTejMD8HTD"
      },
      "source": [
        "## Carga de datos"
      ]
    },
    {
      "cell_type": "code",
      "metadata": {
        "id": "kArU6ofOyXcx"
      },
      "source": [
        "x1=[[0.1],[0.4],[1.5],[1.6],[2.1],[2.3],\n",
        "    [0.1],[0.2],[0.5],[1.1],[0.3],[0.4],[1.0],[1.1],[1.4],[2.0],[2.1],[2.9],[3.1],[3.4],[4.0],[4.1],[4.2],[4.5],[5.0],[5.7],[6.0],[6.2],[6.5],[6.6],[6.8],[7.0], [7.6]]\n",
        "y1=[5.5, 5.6, 5.2, 5.8, 5.1, 5.4,\n",
        "    0.3,0.5,0.7,0.7,0.6,0.7,0.6,0.9,1.0, 1.1,1.7,2.0,2.5,3.2,3.2,3.3,4.1,4.9,6.4,8.2,8.6,8.9,9.1,9.4,9.6,9.8,10.2]"
      ],
      "execution_count": 7,
      "outputs": []
    },
    {
      "cell_type": "code",
      "metadata": {
        "colab": {
          "base_uri": "https://localhost:8080/",
          "height": 330
        },
        "id": "HlaE7YRkvMtl",
        "outputId": "935e318f-160e-4b37-9aee-f2bcc17cda3b"
      },
      "source": [
        "# Visualización de los datos.\n",
        "plt.figure(1, plt.figure(1, figsize=(6,4)))\n",
        "plt.scatter(x1, y1, color='navy', s=30, marker='o')\n",
        "\n",
        "plt.ylim(np.min(y1)-1, np.max(y1)+1)\n",
        "plt.xlim(-0.5, 8)\n",
        "\n",
        "plt.title('Solo datos')\n",
        "plt.legend(['Entrenamiento', 'Validación'], loc='upper center')\n",
        "plt.xlabel(\"x\")\n",
        "plt.ylabel(\"y\")\n",
        "\n",
        "from google.colab import files\n",
        "plt.savefig('RLP_solodatos.eps')"
      ],
      "execution_count": 8,
      "outputs": [
        {
          "output_type": "stream",
          "name": "stderr",
          "text": [
            "The PostScript backend does not support transparency; partially transparent artists will be rendered opaque.\n",
            "The PostScript backend does not support transparency; partially transparent artists will be rendered opaque.\n"
          ]
        },
        {
          "output_type": "display_data",
          "data": {
            "image/png": "[encoded data removed]",
            "text/plain": [
              "<Figure size 432x288 with 1 Axes>"
            ]
          },
          "metadata": {
            "needs_background": "light"
          }
        }
      ]
    },
    {
      "cell_type": "markdown",
      "metadata": {
        "id": "cBr9_O498KsM"
      },
      "source": [
        "## Regresión Lineal Ordinaria\n",
        "\n",
        "En la regresión lineal ordinaria no se descarta ninguna observación. Todas son tenidas en cuenta para construir el modelo. Como la búsqueda de los parámetros del modelo se realiza por la minización del error cuadrático medio, los datos anómalos y muy alejados del conjunto de observaciones que siguen el modelo lineal tendrán una gran influencia."
      ]
    },
    {
      "cell_type": "code",
      "metadata": {
        "id": "c8Se07zN8R9m"
      },
      "source": [
        "# Creación del modelo lineal\n",
        "modelo_g1 = linear_model.LinearRegression(fit_intercept = True).fit(x1, y1)"
      ],
      "execution_count": 9,
      "outputs": []
    },
    {
      "cell_type": "code",
      "metadata": {
        "colab": {
          "base_uri": "https://localhost:8080/"
        },
        "id": "H1peXm6l8_Qs",
        "outputId": "2f05126b-804e-4f0b-b6d9-c7ed98b53694"
      },
      "source": [
        "# Coeficientes del modelo\n",
        "print(\"Parameters:\", modelo_g1.intercept_, modelo_g1.coef_)"
      ],
      "execution_count": 10,
      "outputs": [
        {
          "output_type": "stream",
          "name": "stdout",
          "text": [
            "Parameters: 0.8233672418736799 [1.15548999]\n"
          ]
        }
      ]
    },
    {
      "cell_type": "code",
      "metadata": {
        "colab": {
          "base_uri": "https://localhost:8080/",
          "height": 404
        },
        "id": "hCucMFCuyz3i",
        "outputId": "f6acb88f-aeb2-4ea7-a5de-78d88cc7d3d2"
      },
      "source": [
        "# Visualización de los resultados del modelo\n",
        "plt.figure(1, plt.figure(1, figsize=(8,6)))\n",
        "X=np.linspace(-1.5, 10, 25)\n",
        "\n",
        "plt.scatter(x1, y1, color='navy', s=30, marker='o')\n",
        "plt.plot(X, modelo_g1.predict(X[:,np.newaxis]), color = 'red')\n",
        "plt.ylim(np.min(y1)-1, np.max(y1)+1)\n",
        "plt.title('Modelo lineal')\n",
        "plt.xlabel(\"X\")\n",
        "plt.ylabel(\"Y\")\n",
        "\n",
        "from google.colab import files\n",
        "plt.savefig('RL_g1.eps')\n",
        "#files.download('RL_g1.eps') # Descomentar para descargar localmente"
      ],
      "execution_count": 11,
      "outputs": [
        {
          "output_type": "display_data",
          "data": {
            "image/png": "[encoded data removed]",
            "text/plain": [
              "<Figure size 576x432 with 1 Axes>"
            ]
          },
          "metadata": {
            "needs_background": "light"
          }
        }
      ]
    },
    {
      "cell_type": "markdown",
      "metadata": {
        "id": "niMHSsNmNv6Y"
      },
      "source": [
        "La recta que representa al modelo se aleja del conjunto de observaciones por la influencia de los puntos anómalos."
      ]
    },
    {
      "cell_type": "markdown",
      "metadata": {
        "id": "1endBF1wzII-"
      },
      "source": [
        "## Regresión Lineal Ransac"
      ]
    },
    {
      "cell_type": "code",
      "metadata": {
        "id": "Qcc_V_YkJUxO"
      },
      "source": [
        "# Creación del modelo lineal Ransac\n",
        "modelo_RLR = linear_model.RANSACRegressor().fit(x1, y1)"
      ],
      "execution_count": 12,
      "outputs": []
    },
    {
      "cell_type": "code",
      "metadata": {
        "colab": {
          "base_uri": "https://localhost:8080/"
        },
        "id": "TxT21AdWodqQ",
        "outputId": "b263d0ac-1a00-4ec9-d3ef-926e849ba700"
      },
      "source": [
        "# Coeficientes del modelo lineal Ransac\n",
        "print(\"Parameters:\", modelo_RLR)"
      ],
      "execution_count": 13,
      "outputs": [
        {
          "output_type": "stream",
          "name": "stdout",
          "text": [
            "Parameters: RANSACRegressor(base_estimator=None, is_data_valid=None, is_model_valid=None,\n",
            "                loss='absolute_loss', max_skips=inf, max_trials=100,\n",
            "                min_samples=None, random_state=None, residual_threshold=None,\n",
            "                stop_n_inliers=inf, stop_probability=0.99, stop_score=inf)\n"
          ]
        }
      ]
    },
    {
      "cell_type": "code",
      "metadata": {
        "id": "vfYZfdhq0Gq6",
        "colab": {
          "base_uri": "https://localhost:8080/"
        },
        "outputId": "977620d3-3e20-4e8c-cb74-bad0e252266e"
      },
      "source": [
        "# Se ajusta el modelo lineal Ransac\n",
        "ransac = linear_model.RANSACRegressor()\n",
        "ransac.fit(x1, y1)"
      ],
      "execution_count": 14,
      "outputs": [
        {
          "output_type": "execute_result",
          "data": {
            "text/plain": [
              "RANSACRegressor(base_estimator=None, is_data_valid=None, is_model_valid=None,\n",
              "                loss='absolute_loss', max_skips=inf, max_trials=100,\n",
              "                min_samples=None, random_state=None, residual_threshold=None,\n",
              "                stop_n_inliers=inf, stop_probability=0.99, stop_score=inf)"
            ]
          },
          "metadata": {},
          "execution_count": 14
        }
      ]
    },
    {
      "cell_type": "code",
      "metadata": {
        "id": "JGR3_JKDOCnD"
      },
      "source": [
        "# Se crean máscaras lógicas sobre qué observaciones se consideran normales (inliers) y cuales no (outliers). \n",
        "inlier_mask = ransac.inlier_mask_\n",
        "outlier_mask = np.logical_not(inlier_mask)"
      ],
      "execution_count": 15,
      "outputs": []
    },
    {
      "cell_type": "code",
      "metadata": {
        "id": "1d3JSEWk0nFY"
      },
      "source": [
        "# Se predicen datos sobre el modelo estimado.\n",
        "line_X = np.arange(np.min(x1)-2, np.max(x1)+2)[:, np.newaxis]\n",
        "line_y_ransac = ransac.predict(line_X)"
      ],
      "execution_count": 16,
      "outputs": []
    },
    {
      "cell_type": "code",
      "metadata": {
        "colab": {
          "base_uri": "https://localhost:8080/"
        },
        "id": "R9C2Wwqc1ewe",
        "outputId": "2f65522c-5593-44f5-e13c-05552cfe16cd"
      },
      "source": [
        "# Comparación de los coeficientes de ambos modelos lineales: ordinario y Ransac.\n",
        "print(\"Estimated coefficients (linear regression, RANSAC):\")\n",
        "print( modelo_g1.coef_)\n",
        "print(ransac.estimator_.coef_)"
      ],
      "execution_count": 17,
      "outputs": [
        {
          "output_type": "stream",
          "name": "stdout",
          "text": [
            "Estimated coefficients (linear regression, RANSAC):\n",
            "[1.15548999]\n",
            "[1.39202716]\n"
          ]
        }
      ]
    },
    {
      "cell_type": "code",
      "metadata": {
        "colab": {
          "base_uri": "https://localhost:8080/",
          "height": 388
        },
        "id": "b4CNXXsMvIud",
        "outputId": "22a6728b-a21f-4b3f-8f8a-e8034d37d70d"
      },
      "source": [
        "plt.figure(figsize=(8,6))\n",
        "plt.scatter(x1, y1, color='navy', s=30, marker='o', label=\"observaciones\")\n",
        "plt.plot(X, modelo_g1.predict(X[:,np.newaxis]), color = 'red', label='RLO')\n",
        "plt.plot(line_X, line_y_ransac, color='cornflowerblue', linewidth=2,\n",
        "         label='RANSAC')\n",
        "plt.legend(loc='lower right')\n",
        "plt.xlabel(\"X\")\n",
        "plt.ylabel(\"Y\")\n",
        "plt.show()"
      ],
      "execution_count": 18,
      "outputs": [
        {
          "output_type": "display_data",
          "data": {
            "image/png": "[encoded data removed]",
            "text/plain": [
              "<Figure size 576x432 with 1 Axes>"
            ]
          },
          "metadata": {
            "needs_background": "light"
          }
        }
      ]
    },
    {
      "cell_type": "code",
      "metadata": {
        "id": "3bMZL6Ba8TWy"
      },
      "source": [
        "x1=np.asarray(x1)\n",
        "y1=np.asarray(y1)"
      ],
      "execution_count": 19,
      "outputs": []
    },
    {
      "cell_type": "code",
      "metadata": {
        "colab": {
          "base_uri": "https://localhost:8080/",
          "height": 388
        },
        "id": "m8BlPzud74cl",
        "outputId": "ccbceb39-d6e3-4f42-9dc2-fb32d9ea00dd"
      },
      "source": [
        "plt.figure(figsize=(8,6))\n",
        "#lw = 2\n",
        "plt.scatter(x1[inlier_mask], y1[inlier_mask], color='darkgreen', s=30, marker='o', label='Inliers')\n",
        "plt.scatter(x1[outlier_mask], y1[outlier_mask], color='gold', s=30, marker='o', label='Outliers')\n",
        "plt.plot(X, modelo_g1.predict(X[:,np.newaxis]), color = 'red', label='RLO')\n",
        "plt.plot(line_X, line_y_ransac, color='cornflowerblue', linewidth=2, label='RANSAC')\n",
        "plt.legend(loc='lower right')\n",
        "plt.xlabel(\"X\")\n",
        "plt.ylabel(\"Y\")\n",
        "plt.show()"
      ],
      "execution_count": 20,
      "outputs": [
        {
          "output_type": "display_data",
          "data": {
            "image/png": "[encoded data removed]",
            "text/plain": [
              "<Figure size 576x432 with 1 Axes>"
            ]
          },
          "metadata": {
            "needs_background": "light"
          }
        }
      ]
    }
  ]
}