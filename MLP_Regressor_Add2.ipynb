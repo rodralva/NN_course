{
  "nbformat": 4,
  "nbformat_minor": 0,
  "metadata": {
    "colab": {
      "name": "MLP_Regressor_Add2.ipynb",
      "provenance": [],
      "collapsed_sections": [],
      "toc_visible": true
    },
    "kernelspec": {
      "name": "python3",
      "display_name": "Python 3"
    }
  },
  "cells": [
    {
      "cell_type": "markdown",
      "metadata": {
        "id": "A8Rc1iIGlBXK"
      },
      "source": [
        "# Ejemplo de Red Completamente Conectada.\n",
        "Este es un ejemplo de Red Completamente Conectada (MLP) con objetivo pronósticar la suma de dos enteros. Aunque este ejemplo es simple ilustra la creación de un modelo sobre los datos experimentales."
      ]
    },
    {
      "cell_type": "markdown",
      "metadata": {
        "id": "YCkpuVJoLdxR"
      },
      "source": [
        "## Importar librerías"
      ]
    },
    {
      "cell_type": "code",
      "metadata": {
        "id": "dpBMcQxaHKUF"
      },
      "source": [
        "from random import seed\n",
        "import random\n",
        "from random import randint"
      ],
      "execution_count": null,
      "outputs": []
    },
    {
      "cell_type": "code",
      "metadata": {
        "id": "KEUzc8d0Jqs-"
      },
      "source": [
        "import numpy as np\n",
        "import pandas as pd"
      ],
      "execution_count": null,
      "outputs": []
    },
    {
      "cell_type": "code",
      "metadata": {
        "id": "g4ad7UB9iXeR"
      },
      "source": [
        "import matplotlib.pyplot as plt"
      ],
      "execution_count": null,
      "outputs": []
    },
    {
      "cell_type": "code",
      "metadata": {
        "id": "6k3Fue2Mk3EI"
      },
      "source": [
        "import scipy.stats\n",
        "from pylab import *"
      ],
      "execution_count": null,
      "outputs": []
    },
    {
      "cell_type": "code",
      "metadata": {
        "id": "zjr4bgyVRoRE"
      },
      "source": [
        "import tensorflow as tf\n",
        "from tensorflow.python.keras.layers import Dense, Dropout\n",
        "from tensorflow.python.keras.layers import Activation, ReLU\n",
        "from tensorflow.python.keras import Sequential, Input, Model\n",
        "from tensorflow import keras"
      ],
      "execution_count": null,
      "outputs": []
    },
    {
      "cell_type": "code",
      "metadata": {
        "id": "TgEjIeujpDSl"
      },
      "source": [
        "from sklearn.metrics import mean_squared_error"
      ],
      "execution_count": null,
      "outputs": []
    },
    {
      "cell_type": "markdown",
      "metadata": {
        "id": "SvFwqnphLlO_"
      },
      "source": [
        "## Fijar semilla del generador de números aleatorios"
      ]
    },
    {
      "cell_type": "code",
      "metadata": {
        "id": "UlyAtC9RLsSS"
      },
      "source": [
        "seed(1234)"
      ],
      "execution_count": null,
      "outputs": []
    },
    {
      "cell_type": "markdown",
      "metadata": {
        "id": "BFLRtTn1Lu-L"
      },
      "source": [
        "## Generados dos listas de números aleatorios y sumarlos"
      ]
    },
    {
      "cell_type": "code",
      "metadata": {
        "colab": {
          "base_uri": "https://localhost:8080/"
        },
        "id": "lhkHcJzuHh3Y",
        "outputId": "ce910600-6582-468d-e0d5-b74937b07865"
      },
      "source": [
        "randomList1 = []\n",
        "# Set a length of the list to 10\n",
        "for i in range(0, 100):\n",
        "    # any random numbers from 0 to 10\n",
        "    randomList1.append(randint(0, 10))\n",
        "\n",
        "print(\"Primera lista\", randomList1)"
      ],
      "execution_count": null,
      "outputs": [
        {
          "output_type": "stream",
          "text": [
            "Primera lista [2, 9, 6, 2, 7, 1, 8, 7, 1, 8, 3, 3, 3, 0, 2, 5, 8, 8, 2, 6, 3, 7, 1, 0, 2, 0, 8, 1, 4, 8, 2, 0, 3, 5, 9, 7, 3, 8, 9, 6, 7, 2, 5, 1, 3, 9, 2, 4, 2, 7, 6, 1, 6, 5, 2, 5, 6, 7, 4, 7, 3, 3, 4, 9, 7, 1, 8, 5, 3, 2, 2, 8, 7, 8, 8, 3, 1, 2, 7, 8, 2, 8, 1, 5, 1, 1, 1, 8, 9, 2, 5, 0, 9, 2, 4, 4, 4, 3, 5, 3]\n"
          ],
          "name": "stdout"
        }
      ]
    },
    {
      "cell_type": "code",
      "metadata": {
        "colab": {
          "base_uri": "https://localhost:8080/"
        },
        "id": "aV7FhT58I0in",
        "outputId": "63f95675-43c8-4c8a-844d-be45424e6587"
      },
      "source": [
        "randomList2 = []\n",
        "# Set a length of the list to 10\n",
        "for i in range(0, 100):\n",
        "    # any random numbers from 0 to 10\n",
        "    randomList2.append(randint(0, 10))\n",
        "\n",
        "print(\"Printing list of 10 random numbers\")\n",
        "print(\"Segunda lista\",randomList2)"
      ],
      "execution_count": null,
      "outputs": [
        {
          "output_type": "stream",
          "text": [
            "Printing list of 10 random numbers\n",
            "Segunda lista [9, 9, 1, 2, 1, 2, 8, 1, 9, 7, 5, 3, 1, 3, 5, 2, 4, 1, 1, 9, 9, 0, 4, 4, 3, 6, 3, 9, 5, 9, 6, 9, 4, 6, 0, 2, 8, 4, 1, 6, 7, 6, 1, 7, 8, 4, 9, 4, 3, 4, 6, 5, 1, 4, 7, 3, 6, 6, 9, 7, 9, 2, 8, 0, 8, 7, 2, 6, 9, 8, 3, 1, 7, 4, 7, 8, 3, 5, 5, 9, 4, 7, 8, 7, 7, 5, 3, 8, 8, 5, 8, 5, 2, 2, 1, 0, 6, 9, 7, 9]\n"
          ],
          "name": "stdout"
        }
      ]
    },
    {
      "cell_type": "code",
      "metadata": {
        "colab": {
          "base_uri": "https://localhost:8080/"
        },
        "id": "50312RYeJDRm",
        "outputId": "e2a60f4a-f1f5-4b1a-8c19-fe67ceb7464e"
      },
      "source": [
        "randomSum=np.add(randomList1,randomList2)\n",
        "print(randomSum)"
      ],
      "execution_count": null,
      "outputs": [
        {
          "output_type": "stream",
          "text": [
            "[11 18  7  4  8  3 16  8 10 15  8  6  4  3  7  7 12  9  3 15 12  7  5  4\n",
            "  5  6 11 10  9 17  8  9  7 11  9  9 11 12 10 12 14  8  6  8 11 13 11  8\n",
            "  5 11 12  6  7  9  9  8 12 13 13 14 12  5 12  9 15  8 10 11 12 10  5  9\n",
            " 14 12 15 11  4  7 12 17  6 15  9 12  8  6  4 16 17  7 13  5 11  4  5  4\n",
            " 10 12 12 12]\n"
          ],
          "name": "stdout"
        }
      ]
    },
    {
      "cell_type": "markdown",
      "metadata": {
        "id": "lz89pTNvl0le"
      },
      "source": [
        "Se construye un dataframe con las anteriores listas distribuidas en forma de columnas."
      ]
    },
    {
      "cell_type": "code",
      "metadata": {
        "colab": {
          "base_uri": "https://localhost:8080/"
        },
        "id": "kFxrFn6aCJOh",
        "outputId": "6c6a63c8-b23e-4ecf-c62e-0518d5cef09e"
      },
      "source": [
        "df2=np.column_stack((randomList1, randomList2, randomSum))\n",
        "print(df2.shape)\n",
        "dfnew=pd.DataFrame(data=df2)\n",
        "print(dfnew.shape)"
      ],
      "execution_count": null,
      "outputs": [
        {
          "output_type": "stream",
          "text": [
            "(100, 3)\n",
            "(100, 3)\n"
          ],
          "name": "stdout"
        }
      ]
    },
    {
      "cell_type": "markdown",
      "metadata": {
        "id": "qPyVKReUCMTc"
      },
      "source": [
        "Se pone nombre a las columnas."
      ]
    },
    {
      "cell_type": "code",
      "metadata": {
        "colab": {
          "base_uri": "https://localhost:8080/"
        },
        "id": "ZHEA5_YvJZIj",
        "outputId": "371bd248-1e9e-40ca-aa47-731dbefe711e"
      },
      "source": [
        "print(dfnew.columns)\n",
        "dfnew.columns = [\"V1\",\"V2\",\"Output\"]\n",
        "print(dfnew.columns)"
      ],
      "execution_count": null,
      "outputs": [
        {
          "output_type": "stream",
          "text": [
            "RangeIndex(start=0, stop=3, step=1)\n",
            "Index(['V1', 'V2', 'Output'], dtype='object')\n"
          ],
          "name": "stdout"
        }
      ]
    },
    {
      "cell_type": "markdown",
      "metadata": {
        "id": "uhowJ032CUUd"
      },
      "source": [
        "Se borran estructuras de datos innecesarias."
      ]
    },
    {
      "cell_type": "code",
      "metadata": {
        "id": "nMWkExiUCScF"
      },
      "source": [
        "del(df2)"
      ],
      "execution_count": null,
      "outputs": []
    },
    {
      "cell_type": "code",
      "metadata": {
        "id": "3J75JEXmKGry",
        "colab": {
          "base_uri": "https://localhost:8080/"
        },
        "outputId": "1c156a9a-9b15-41cb-d851-ac43ac9052f9"
      },
      "source": [
        "print(dfnew)"
      ],
      "execution_count": null,
      "outputs": [
        {
          "output_type": "stream",
          "text": [
            "    V1  V2  Output\n",
            "0    2   9      11\n",
            "1    9   9      18\n",
            "2    6   1       7\n",
            "3    2   2       4\n",
            "4    7   1       8\n",
            "..  ..  ..     ...\n",
            "95   4   0       4\n",
            "96   4   6      10\n",
            "97   3   9      12\n",
            "98   5   7      12\n",
            "99   3   9      12\n",
            "\n",
            "[100 rows x 3 columns]\n"
          ],
          "name": "stdout"
        }
      ]
    },
    {
      "cell_type": "markdown",
      "metadata": {
        "id": "y3YFmUE4lvsH"
      },
      "source": [
        "Se eliminan las variables no necesarias."
      ]
    },
    {
      "cell_type": "code",
      "metadata": {
        "id": "YuLt5jPPmLcS"
      },
      "source": [
        "del(randomList1,randomList2,randomSum)"
      ],
      "execution_count": null,
      "outputs": []
    },
    {
      "cell_type": "markdown",
      "metadata": {
        "id": "X5JDha7BmRD_"
      },
      "source": [
        "A partir del dataframe, se separan las variables independientes (X) y las dependientes (Y)."
      ]
    },
    {
      "cell_type": "code",
      "metadata": {
        "colab": {
          "base_uri": "https://localhost:8080/"
        },
        "id": "HpxU3-4hKiN2",
        "outputId": "10a74339-6aa7-4ab5-96e1-53ab7b939782"
      },
      "source": [
        "X = dfnew.iloc[:,0:2]\n",
        "print(X.shape)"
      ],
      "execution_count": null,
      "outputs": [
        {
          "output_type": "stream",
          "text": [
            "(100, 2)\n"
          ],
          "name": "stdout"
        }
      ]
    },
    {
      "cell_type": "code",
      "metadata": {
        "colab": {
          "base_uri": "https://localhost:8080/"
        },
        "id": "0-jGhTMbKswW",
        "outputId": "2f3144a0-ee6a-4aa1-bd7d-4cfe1cc0417b"
      },
      "source": [
        "Y = dfnew.iloc[:,2]\n",
        "print(Y.shape)"
      ],
      "execution_count": null,
      "outputs": [
        {
          "output_type": "stream",
          "text": [
            "(100,)\n"
          ],
          "name": "stdout"
        }
      ]
    },
    {
      "cell_type": "markdown",
      "metadata": {
        "id": "3QGkp0AMLOI_"
      },
      "source": [
        "## Separación de los conjuntos de entrenamiento y test.\n",
        "Se verifica la dimensionalidad de la entrada y la salida."
      ]
    },
    {
      "cell_type": "code",
      "metadata": {
        "id": "_6gM5MQLK68I"
      },
      "source": [
        "assert X.shape[0] == Y.shape[0]"
      ],
      "execution_count": null,
      "outputs": []
    },
    {
      "cell_type": "markdown",
      "metadata": {
        "id": "YGomoPvbQK5y"
      },
      "source": [
        "Se establece que el conjunto de test sea el 30% de los datos."
      ]
    },
    {
      "cell_type": "code",
      "metadata": {
        "colab": {
          "base_uri": "https://localhost:8080/"
        },
        "id": "-7z4Y6KaLFaI",
        "outputId": "0a4a5db0-71f8-4892-c341-03c96ad1ce5a"
      },
      "source": [
        "test_size = int(np.floor(0.30*X.shape[0]) )\n",
        "print(test_size)"
      ],
      "execution_count": null,
      "outputs": [
        {
          "output_type": "stream",
          "text": [
            "30\n"
          ],
          "name": "stdout"
        }
      ]
    },
    {
      "cell_type": "code",
      "metadata": {
        "id": "DxwcduzFQjo1"
      },
      "source": [
        " X = np.asarray(X)# convertirnos los datos de DataFrame a Numpy Arrays\n",
        " Y = np.asarray(Y)# para que sean leidos por los modulos de Keras"
      ],
      "execution_count": null,
      "outputs": []
    },
    {
      "cell_type": "markdown",
      "metadata": {
        "id": "cM4hl0QFKNGW"
      },
      "source": [
        "Se dividen los arrays de las variables independientes y dependientes.\n",
        "\n"
      ]
    },
    {
      "cell_type": "code",
      "metadata": {
        "colab": {
          "base_uri": "https://localhost:8080/"
        },
        "id": "8vxfjfFuLNDD",
        "outputId": "be7515c1-f6f5-473a-b9fc-87acfbad4fd2"
      },
      "source": [
        "trainX, testX = X[:-test_size], X[-test_size:]\n",
        "trainY, testY = Y[:-test_size], Y[-test_size:]\n",
        "print(trainX.shape,testX.shape)\n",
        "print(len(trainY),len(testY))"
      ],
      "execution_count": null,
      "outputs": [
        {
          "output_type": "stream",
          "text": [
            "(70, 2) (30, 2)\n",
            "70 30\n"
          ],
          "name": "stdout"
        }
      ]
    },
    {
      "cell_type": "code",
      "metadata": {
        "colab": {
          "base_uri": "https://localhost:8080/"
        },
        "id": "QlhPCrA4MBMu",
        "outputId": "7b7803da-6a92-4f38-89bf-bcf29ea1ac9d"
      },
      "source": [
        " trainX_num=trainX.shape[1]\n",
        " print(trainX_num)"
      ],
      "execution_count": null,
      "outputs": [
        {
          "output_type": "stream",
          "text": [
            "2\n"
          ],
          "name": "stdout"
        }
      ]
    },
    {
      "cell_type": "markdown",
      "metadata": {
        "id": "azlaWQBjWHNS"
      },
      "source": [
        "## Definición de la Red Neuronal\n",
        "\n"
      ]
    },
    {
      "cell_type": "code",
      "metadata": {
        "id": "Am9eGR7_ZkC_"
      },
      "source": [
        "dropout_par=0.10"
      ],
      "execution_count": null,
      "outputs": []
    },
    {
      "cell_type": "code",
      "metadata": {
        "colab": {
          "base_uri": "https://localhost:8080/"
        },
        "id": "qhmjlgItQ66v",
        "outputId": "6fa15c75-f405-4e0c-c185-1dfcddca7ce6"
      },
      "source": [
        "model = keras.Sequential() # creamos el modelo secuencial\n",
        "\n",
        "# Ponemos una primera capa oculta\n",
        "model.add(Dense(8, activation='relu', input_shape=(2,))) \n",
        "print(model.layers[-1].output_shape)\n",
        "# Segunda capa\n",
        "model.add(Dense(5, activation='relu')) \n",
        "print(model.layers[-1].output_shape)\n",
        "# Incorporamos la capa de salida\n",
        "model.add(Dense( 1, activation='linear'))"
      ],
      "execution_count": null,
      "outputs": [
        {
          "output_type": "stream",
          "text": [
            "(None, 8)\n",
            "(None, 5)\n"
          ],
          "name": "stdout"
        }
      ]
    },
    {
      "cell_type": "markdown",
      "metadata": {
        "id": "1zbX8ppTWU6f"
      },
      "source": [
        "Se muestra un resumen de la red creada."
      ]
    },
    {
      "cell_type": "code",
      "metadata": {
        "colab": {
          "base_uri": "https://localhost:8080/"
        },
        "id": "Ds2gz3S7dbuK",
        "outputId": "a6f7f08d-465e-49a1-e529-83dd172d44ff"
      },
      "source": [
        "model.summary()"
      ],
      "execution_count": null,
      "outputs": [
        {
          "output_type": "stream",
          "text": [
            "Model: \"sequential\"\n",
            "_________________________________________________________________\n",
            "Layer (type)                 Output Shape              Param #   \n",
            "=================================================================\n",
            "dense (Dense)                (None, 8)                 24        \n",
            "_________________________________________________________________\n",
            "dense_1 (Dense)              (None, 5)                 45        \n",
            "_________________________________________________________________\n",
            "dense_2 (Dense)              (None, 1)                 6         \n",
            "=================================================================\n",
            "Total params: 75\n",
            "Trainable params: 75\n",
            "Non-trainable params: 0\n",
            "_________________________________________________________________\n"
          ],
          "name": "stdout"
        }
      ]
    },
    {
      "cell_type": "markdown",
      "metadata": {
        "id": "Y2RphFfzWaSJ"
      },
      "source": [
        "Se compila el modelo, incluyendo la elección del optimizador y del error que se minimizará durante el entrenamiento. A continuación se entrena el modelo, almacenando la información del error en la variable \"history\". "
      ]
    },
    {
      "cell_type": "code",
      "metadata": {
        "id": "g6_0STjWcGSA"
      },
      "source": [
        "model.compile(loss='mse', optimizer='adam', metrics=['mse'])"
      ],
      "execution_count": null,
      "outputs": []
    },
    {
      "cell_type": "code",
      "metadata": {
        "id": "h2_es52ISayE",
        "colab": {
          "base_uri": "https://localhost:8080/"
        },
        "outputId": "4168c8f9-5357-46a6-d37c-32a8de6bee8c"
      },
      "source": [
        "history=model.fit(trainX, trainY, epochs=100, batch_size=32, validation_data=(testX, testY), verbose=1)"
      ],
      "execution_count": null,
      "outputs": [
        {
          "output_type": "stream",
          "text": [
            "Epoch 1/100\n",
            "3/3 [==============================] - 1s 86ms/step - loss: 83.5368 - mse: 83.5368 - val_loss: 100.3649 - val_mse: 100.3649\n",
            "Epoch 2/100\n",
            "3/3 [==============================] - 0s 22ms/step - loss: 81.0289 - mse: 81.0289 - val_loss: 98.2616 - val_mse: 98.2616\n",
            "Epoch 3/100\n",
            "3/3 [==============================] - 0s 21ms/step - loss: 80.2577 - mse: 80.2577 - val_loss: 96.1547 - val_mse: 96.1547\n",
            "Epoch 4/100\n",
            "3/3 [==============================] - 0s 20ms/step - loss: 80.9038 - mse: 80.9038 - val_loss: 94.0737 - val_mse: 94.0737\n",
            "Epoch 5/100\n",
            "3/3 [==============================] - 0s 21ms/step - loss: 77.0706 - mse: 77.0706 - val_loss: 92.0473 - val_mse: 92.0473\n",
            "Epoch 6/100\n",
            "3/3 [==============================] - 0s 21ms/step - loss: 74.9322 - mse: 74.9322 - val_loss: 90.1085 - val_mse: 90.1085\n",
            "Epoch 7/100\n",
            "3/3 [==============================] - 0s 24ms/step - loss: 73.5513 - mse: 73.5513 - val_loss: 88.1128 - val_mse: 88.1128\n",
            "Epoch 8/100\n",
            "3/3 [==============================] - 0s 26ms/step - loss: 75.7102 - mse: 75.7102 - val_loss: 86.1403 - val_mse: 86.1403\n",
            "Epoch 9/100\n",
            "3/3 [==============================] - 0s 22ms/step - loss: 67.9320 - mse: 67.9320 - val_loss: 84.2109 - val_mse: 84.2109\n",
            "Epoch 10/100\n",
            "3/3 [==============================] - 0s 22ms/step - loss: 66.7242 - mse: 66.7242 - val_loss: 82.1517 - val_mse: 82.1517\n",
            "Epoch 11/100\n",
            "3/3 [==============================] - 0s 25ms/step - loss: 65.6880 - mse: 65.6880 - val_loss: 80.1033 - val_mse: 80.1033\n",
            "Epoch 12/100\n",
            "3/3 [==============================] - 0s 23ms/step - loss: 62.9213 - mse: 62.9213 - val_loss: 78.0658 - val_mse: 78.0658\n",
            "Epoch 13/100\n",
            "3/3 [==============================] - 0s 23ms/step - loss: 69.7809 - mse: 69.7809 - val_loss: 76.1155 - val_mse: 76.1155\n",
            "Epoch 14/100\n",
            "3/3 [==============================] - 0s 21ms/step - loss: 59.5695 - mse: 59.5695 - val_loss: 74.2093 - val_mse: 74.2093\n",
            "Epoch 15/100\n",
            "3/3 [==============================] - 0s 24ms/step - loss: 63.7219 - mse: 63.7219 - val_loss: 72.2433 - val_mse: 72.2433\n",
            "Epoch 16/100\n",
            "3/3 [==============================] - 0s 23ms/step - loss: 60.0999 - mse: 60.0999 - val_loss: 70.4013 - val_mse: 70.4013\n",
            "Epoch 17/100\n",
            "3/3 [==============================] - 0s 22ms/step - loss: 61.4090 - mse: 61.4090 - val_loss: 68.6648 - val_mse: 68.6648\n",
            "Epoch 18/100\n",
            "3/3 [==============================] - 0s 22ms/step - loss: 55.8069 - mse: 55.8069 - val_loss: 66.9861 - val_mse: 66.9861\n",
            "Epoch 19/100\n",
            "3/3 [==============================] - 0s 21ms/step - loss: 55.9376 - mse: 55.9376 - val_loss: 65.3447 - val_mse: 65.3447\n",
            "Epoch 20/100\n",
            "3/3 [==============================] - 0s 22ms/step - loss: 56.1241 - mse: 56.1241 - val_loss: 63.7409 - val_mse: 63.7409\n",
            "Epoch 21/100\n",
            "3/3 [==============================] - 0s 21ms/step - loss: 55.0666 - mse: 55.0666 - val_loss: 62.1971 - val_mse: 62.1971\n",
            "Epoch 22/100\n",
            "3/3 [==============================] - 0s 21ms/step - loss: 52.5215 - mse: 52.5215 - val_loss: 60.6927 - val_mse: 60.6927\n",
            "Epoch 23/100\n",
            "3/3 [==============================] - 0s 22ms/step - loss: 51.7539 - mse: 51.7539 - val_loss: 59.1594 - val_mse: 59.1594\n",
            "Epoch 24/100\n",
            "3/3 [==============================] - 0s 20ms/step - loss: 50.0686 - mse: 50.0686 - val_loss: 57.6660 - val_mse: 57.6660\n",
            "Epoch 25/100\n",
            "3/3 [==============================] - 0s 23ms/step - loss: 51.9887 - mse: 51.9887 - val_loss: 56.2652 - val_mse: 56.2652\n",
            "Epoch 26/100\n",
            "3/3 [==============================] - 0s 22ms/step - loss: 48.5915 - mse: 48.5915 - val_loss: 54.9006 - val_mse: 54.9006\n",
            "Epoch 27/100\n",
            "3/3 [==============================] - 0s 24ms/step - loss: 47.6400 - mse: 47.6400 - val_loss: 53.5871 - val_mse: 53.5871\n",
            "Epoch 28/100\n",
            "3/3 [==============================] - 0s 24ms/step - loss: 45.0504 - mse: 45.0504 - val_loss: 52.3281 - val_mse: 52.3281\n",
            "Epoch 29/100\n",
            "3/3 [==============================] - 0s 21ms/step - loss: 45.5181 - mse: 45.5181 - val_loss: 51.0118 - val_mse: 51.0118\n",
            "Epoch 30/100\n",
            "3/3 [==============================] - 0s 21ms/step - loss: 48.0234 - mse: 48.0234 - val_loss: 49.6902 - val_mse: 49.6902\n",
            "Epoch 31/100\n",
            "3/3 [==============================] - 0s 24ms/step - loss: 45.5700 - mse: 45.5700 - val_loss: 48.4434 - val_mse: 48.4434\n",
            "Epoch 32/100\n",
            "3/3 [==============================] - 0s 22ms/step - loss: 45.5384 - mse: 45.5384 - val_loss: 47.2100 - val_mse: 47.2100\n",
            "Epoch 33/100\n",
            "3/3 [==============================] - 0s 99ms/step - loss: 41.7069 - mse: 41.7069 - val_loss: 45.9848 - val_mse: 45.9848\n",
            "Epoch 34/100\n",
            "3/3 [==============================] - 0s 21ms/step - loss: 41.5198 - mse: 41.5198 - val_loss: 44.7310 - val_mse: 44.7310\n",
            "Epoch 35/100\n",
            "3/3 [==============================] - 0s 20ms/step - loss: 41.4435 - mse: 41.4435 - val_loss: 43.4469 - val_mse: 43.4469\n",
            "Epoch 36/100\n",
            "3/3 [==============================] - 0s 21ms/step - loss: 40.3347 - mse: 40.3347 - val_loss: 42.1755 - val_mse: 42.1755\n",
            "Epoch 37/100\n",
            "3/3 [==============================] - 0s 23ms/step - loss: 40.2833 - mse: 40.2833 - val_loss: 40.9632 - val_mse: 40.9632\n",
            "Epoch 38/100\n",
            "3/3 [==============================] - 0s 26ms/step - loss: 37.6191 - mse: 37.6191 - val_loss: 39.8045 - val_mse: 39.8045\n",
            "Epoch 39/100\n",
            "3/3 [==============================] - 0s 25ms/step - loss: 38.2385 - mse: 38.2385 - val_loss: 38.6415 - val_mse: 38.6415\n",
            "Epoch 40/100\n",
            "3/3 [==============================] - 0s 23ms/step - loss: 36.2640 - mse: 36.2640 - val_loss: 37.5141 - val_mse: 37.5141\n",
            "Epoch 41/100\n",
            "3/3 [==============================] - 0s 22ms/step - loss: 34.1524 - mse: 34.1524 - val_loss: 36.4115 - val_mse: 36.4115\n",
            "Epoch 42/100\n",
            "3/3 [==============================] - 0s 23ms/step - loss: 37.8823 - mse: 37.8823 - val_loss: 35.3749 - val_mse: 35.3749\n",
            "Epoch 43/100\n",
            "3/3 [==============================] - 0s 23ms/step - loss: 35.4812 - mse: 35.4812 - val_loss: 34.4678 - val_mse: 34.4678\n",
            "Epoch 44/100\n",
            "3/3 [==============================] - 0s 22ms/step - loss: 35.0434 - mse: 35.0434 - val_loss: 33.5524 - val_mse: 33.5524\n",
            "Epoch 45/100\n",
            "3/3 [==============================] - 0s 23ms/step - loss: 33.0861 - mse: 33.0861 - val_loss: 32.6344 - val_mse: 32.6344\n",
            "Epoch 46/100\n",
            "3/3 [==============================] - 0s 24ms/step - loss: 33.3066 - mse: 33.3066 - val_loss: 31.7355 - val_mse: 31.7355\n",
            "Epoch 47/100\n",
            "3/3 [==============================] - 0s 22ms/step - loss: 32.5901 - mse: 32.5901 - val_loss: 30.8948 - val_mse: 30.8948\n",
            "Epoch 48/100\n",
            "3/3 [==============================] - 0s 24ms/step - loss: 31.5623 - mse: 31.5623 - val_loss: 30.0765 - val_mse: 30.0765\n",
            "Epoch 49/100\n",
            "3/3 [==============================] - 0s 20ms/step - loss: 31.9777 - mse: 31.9777 - val_loss: 29.2621 - val_mse: 29.2621\n",
            "Epoch 50/100\n",
            "3/3 [==============================] - 0s 21ms/step - loss: 31.4209 - mse: 31.4209 - val_loss: 28.4629 - val_mse: 28.4629\n",
            "Epoch 51/100\n",
            "3/3 [==============================] - 0s 21ms/step - loss: 30.1887 - mse: 30.1887 - val_loss: 27.7120 - val_mse: 27.7120\n",
            "Epoch 52/100\n",
            "3/3 [==============================] - 0s 20ms/step - loss: 28.4953 - mse: 28.4953 - val_loss: 26.9354 - val_mse: 26.9354\n",
            "Epoch 53/100\n",
            "3/3 [==============================] - 0s 22ms/step - loss: 29.0718 - mse: 29.0718 - val_loss: 26.2071 - val_mse: 26.2071\n",
            "Epoch 54/100\n",
            "3/3 [==============================] - 0s 22ms/step - loss: 28.7973 - mse: 28.7973 - val_loss: 25.5713 - val_mse: 25.5713\n",
            "Epoch 55/100\n",
            "3/3 [==============================] - 0s 24ms/step - loss: 26.5017 - mse: 26.5017 - val_loss: 24.9069 - val_mse: 24.9069\n",
            "Epoch 56/100\n",
            "3/3 [==============================] - 0s 23ms/step - loss: 29.3971 - mse: 29.3971 - val_loss: 24.2151 - val_mse: 24.2151\n",
            "Epoch 57/100\n",
            "3/3 [==============================] - 0s 22ms/step - loss: 25.7492 - mse: 25.7492 - val_loss: 23.5397 - val_mse: 23.5397\n",
            "Epoch 58/100\n",
            "3/3 [==============================] - 0s 22ms/step - loss: 26.3128 - mse: 26.3128 - val_loss: 22.8724 - val_mse: 22.8724\n",
            "Epoch 59/100\n",
            "3/3 [==============================] - 0s 24ms/step - loss: 25.0162 - mse: 25.0162 - val_loss: 22.1906 - val_mse: 22.1906\n",
            "Epoch 60/100\n",
            "3/3 [==============================] - 0s 22ms/step - loss: 25.0939 - mse: 25.0939 - val_loss: 21.5369 - val_mse: 21.5369\n",
            "Epoch 61/100\n",
            "3/3 [==============================] - 0s 22ms/step - loss: 23.6129 - mse: 23.6129 - val_loss: 20.8707 - val_mse: 20.8707\n",
            "Epoch 62/100\n",
            "3/3 [==============================] - 0s 23ms/step - loss: 25.7181 - mse: 25.7181 - val_loss: 20.2061 - val_mse: 20.2061\n",
            "Epoch 63/100\n",
            "3/3 [==============================] - 0s 21ms/step - loss: 22.1576 - mse: 22.1576 - val_loss: 19.6126 - val_mse: 19.6126\n",
            "Epoch 64/100\n",
            "3/3 [==============================] - 0s 25ms/step - loss: 22.9220 - mse: 22.9220 - val_loss: 18.9918 - val_mse: 18.9918\n",
            "Epoch 65/100\n",
            "3/3 [==============================] - 0s 21ms/step - loss: 21.1913 - mse: 21.1913 - val_loss: 18.3981 - val_mse: 18.3981\n",
            "Epoch 66/100\n",
            "3/3 [==============================] - 0s 22ms/step - loss: 21.2441 - mse: 21.2441 - val_loss: 17.7966 - val_mse: 17.7966\n",
            "Epoch 67/100\n",
            "3/3 [==============================] - 0s 24ms/step - loss: 19.8563 - mse: 19.8563 - val_loss: 17.1747 - val_mse: 17.1747\n",
            "Epoch 68/100\n",
            "3/3 [==============================] - 0s 21ms/step - loss: 19.9058 - mse: 19.9058 - val_loss: 16.5670 - val_mse: 16.5670\n",
            "Epoch 69/100\n",
            "3/3 [==============================] - 0s 21ms/step - loss: 18.2641 - mse: 18.2641 - val_loss: 16.0190 - val_mse: 16.0190\n",
            "Epoch 70/100\n",
            "3/3 [==============================] - 0s 21ms/step - loss: 19.1752 - mse: 19.1752 - val_loss: 15.5015 - val_mse: 15.5015\n",
            "Epoch 71/100\n",
            "3/3 [==============================] - 0s 22ms/step - loss: 20.1257 - mse: 20.1257 - val_loss: 14.9945 - val_mse: 14.9945\n",
            "Epoch 72/100\n",
            "3/3 [==============================] - 0s 20ms/step - loss: 18.8778 - mse: 18.8778 - val_loss: 14.5090 - val_mse: 14.5090\n",
            "Epoch 73/100\n",
            "3/3 [==============================] - 0s 21ms/step - loss: 17.1365 - mse: 17.1365 - val_loss: 14.0175 - val_mse: 14.0175\n",
            "Epoch 74/100\n",
            "3/3 [==============================] - 0s 20ms/step - loss: 16.7835 - mse: 16.7835 - val_loss: 13.5244 - val_mse: 13.5244\n",
            "Epoch 75/100\n",
            "3/3 [==============================] - 0s 21ms/step - loss: 16.2120 - mse: 16.2120 - val_loss: 13.0577 - val_mse: 13.0577\n",
            "Epoch 76/100\n",
            "3/3 [==============================] - 0s 21ms/step - loss: 15.6553 - mse: 15.6553 - val_loss: 12.5847 - val_mse: 12.5847\n",
            "Epoch 77/100\n",
            "3/3 [==============================] - 0s 21ms/step - loss: 14.7864 - mse: 14.7864 - val_loss: 12.1048 - val_mse: 12.1048\n",
            "Epoch 78/100\n",
            "3/3 [==============================] - 0s 20ms/step - loss: 15.3787 - mse: 15.3787 - val_loss: 11.6039 - val_mse: 11.6039\n",
            "Epoch 79/100\n",
            "3/3 [==============================] - 0s 85ms/step - loss: 14.6209 - mse: 14.6209 - val_loss: 11.1466 - val_mse: 11.1466\n",
            "Epoch 80/100\n",
            "3/3 [==============================] - 0s 21ms/step - loss: 14.1574 - mse: 14.1574 - val_loss: 10.7014 - val_mse: 10.7014\n",
            "Epoch 81/100\n",
            "3/3 [==============================] - 0s 23ms/step - loss: 13.6113 - mse: 13.6113 - val_loss: 10.2680 - val_mse: 10.2680\n",
            "Epoch 82/100\n",
            "3/3 [==============================] - 0s 29ms/step - loss: 12.4413 - mse: 12.4413 - val_loss: 9.8108 - val_mse: 9.8108\n",
            "Epoch 83/100\n",
            "3/3 [==============================] - 0s 22ms/step - loss: 13.1682 - mse: 13.1682 - val_loss: 9.3755 - val_mse: 9.3755\n",
            "Epoch 84/100\n",
            "3/3 [==============================] - 0s 21ms/step - loss: 12.2381 - mse: 12.2381 - val_loss: 8.9665 - val_mse: 8.9665\n",
            "Epoch 85/100\n",
            "3/3 [==============================] - 0s 24ms/step - loss: 11.6179 - mse: 11.6179 - val_loss: 8.5703 - val_mse: 8.5703\n",
            "Epoch 86/100\n",
            "3/3 [==============================] - 0s 21ms/step - loss: 11.6097 - mse: 11.6097 - val_loss: 8.1985 - val_mse: 8.1985\n",
            "Epoch 87/100\n",
            "3/3 [==============================] - 0s 22ms/step - loss: 10.6076 - mse: 10.6076 - val_loss: 7.8146 - val_mse: 7.8146\n",
            "Epoch 88/100\n",
            "3/3 [==============================] - 0s 22ms/step - loss: 10.5532 - mse: 10.5532 - val_loss: 7.4351 - val_mse: 7.4351\n",
            "Epoch 89/100\n",
            "3/3 [==============================] - 0s 27ms/step - loss: 10.0472 - mse: 10.0472 - val_loss: 7.0640 - val_mse: 7.0640\n",
            "Epoch 90/100\n",
            "3/3 [==============================] - 0s 23ms/step - loss: 10.5438 - mse: 10.5438 - val_loss: 6.7169 - val_mse: 6.7169\n",
            "Epoch 91/100\n",
            "3/3 [==============================] - 0s 23ms/step - loss: 8.9899 - mse: 8.9899 - val_loss: 6.4052 - val_mse: 6.4052\n",
            "Epoch 92/100\n",
            "3/3 [==============================] - 0s 22ms/step - loss: 9.0698 - mse: 9.0698 - val_loss: 6.1186 - val_mse: 6.1186\n",
            "Epoch 93/100\n",
            "3/3 [==============================] - 0s 22ms/step - loss: 7.9869 - mse: 7.9869 - val_loss: 5.8374 - val_mse: 5.8374\n",
            "Epoch 94/100\n",
            "3/3 [==============================] - 0s 23ms/step - loss: 8.2668 - mse: 8.2668 - val_loss: 5.5487 - val_mse: 5.5487\n",
            "Epoch 95/100\n",
            "3/3 [==============================] - 0s 21ms/step - loss: 8.1061 - mse: 8.1061 - val_loss: 5.2748 - val_mse: 5.2748\n",
            "Epoch 96/100\n",
            "3/3 [==============================] - 0s 23ms/step - loss: 7.6333 - mse: 7.6333 - val_loss: 5.0315 - val_mse: 5.0315\n",
            "Epoch 97/100\n",
            "3/3 [==============================] - 0s 22ms/step - loss: 6.3888 - mse: 6.3888 - val_loss: 4.8112 - val_mse: 4.8112\n",
            "Epoch 98/100\n",
            "3/3 [==============================] - 0s 25ms/step - loss: 6.6039 - mse: 6.6039 - val_loss: 4.6100 - val_mse: 4.6100\n",
            "Epoch 99/100\n",
            "3/3 [==============================] - 0s 22ms/step - loss: 6.5518 - mse: 6.5518 - val_loss: 4.4021 - val_mse: 4.4021\n",
            "Epoch 100/100\n",
            "3/3 [==============================] - 0s 21ms/step - loss: 6.1140 - mse: 6.1140 - val_loss: 4.1949 - val_mse: 4.1949\n"
          ],
          "name": "stdout"
        }
      ]
    },
    {
      "cell_type": "markdown",
      "metadata": {
        "id": "fBkx8OpCLdmf"
      },
      "source": [
        "De forma ilustrativa se puede contar el número de parámetros entrenables del modelo."
      ]
    },
    {
      "cell_type": "code",
      "metadata": {
        "colab": {
          "base_uri": "https://localhost:8080/"
        },
        "id": "se6go8Fdgxls",
        "outputId": "bf29b05f-e2e1-4a66-ba5a-cd476badd669"
      },
      "source": [
        "from keras.utils.layer_utils import count_params\n",
        "\n",
        "trainable_count = count_params(model.trainable_weights)\n",
        "non_trainable_count = count_params(model.non_trainable_weights)\n",
        "print(trainable_count,non_trainable_count)"
      ],
      "execution_count": null,
      "outputs": [
        {
          "output_type": "stream",
          "text": [
            "75 0\n"
          ],
          "name": "stdout"
        }
      ]
    },
    {
      "cell_type": "markdown",
      "metadata": {
        "id": "aHKl8w63LkIE"
      },
      "source": [
        "El modelo entrenado puede ser salvado. Esto es especialmente útil para modelos que requieren mucho tiempo de entrenamiento. Una vez salvado el modelo entrenado, este puede ser recuperado para hacer nuevos pronósiticos."
      ]
    },
    {
      "cell_type": "code",
      "metadata": {
        "id": "YQyPvNYUg2-n"
      },
      "source": [
        "#model.save('modelo_entrenado.h5')"
      ],
      "execution_count": null,
      "outputs": []
    },
    {
      "cell_type": "markdown",
      "metadata": {
        "id": "gzsfL4_4TkjM"
      },
      "source": [
        "Se pronostican los resultados para el conjunto de test.\n"
      ]
    },
    {
      "cell_type": "code",
      "metadata": {
        "id": "EoZKsYcKg_2C"
      },
      "source": [
        "pred = model.predict(testX)"
      ],
      "execution_count": null,
      "outputs": []
    },
    {
      "cell_type": "markdown",
      "metadata": {
        "id": "2UA8VjWpTvYG"
      },
      "source": [
        "Se calcula el error cuadrático medio del pronóstico.\n"
      ]
    },
    {
      "cell_type": "code",
      "metadata": {
        "colab": {
          "base_uri": "https://localhost:8080/"
        },
        "id": "T50T59BBhBin",
        "outputId": "4c1c60ef-bdbd-4843-daf4-872a954cd7c6"
      },
      "source": [
        "testScoreECM = mean_squared_error(testY, pred)\n",
        "print('ECM: %.4f' % (testScoreECM))"
      ],
      "execution_count": null,
      "outputs": [
        {
          "output_type": "stream",
          "text": [
            "ECM: 4.1949\n"
          ],
          "name": "stdout"
        }
      ]
    },
    {
      "cell_type": "markdown",
      "metadata": {
        "id": "eXaUNSfCkvxm"
      },
      "source": [
        "## Visualización de resultados"
      ]
    },
    {
      "cell_type": "markdown",
      "metadata": {
        "id": "ugDhsd5PSsXR"
      },
      "source": [
        "En la siguiente gráfica se visualiza la evolución del error para el conjunto de entrenamiento y test en función de las épocas."
      ]
    },
    {
      "cell_type": "code",
      "metadata": {
        "colab": {
          "base_uri": "https://localhost:8080/",
          "height": 549
        },
        "id": "3lX4jW4Rgllt",
        "outputId": "cd102957-2d84-4af0-ad92-8b6d03d02c18"
      },
      "source": [
        "plt.figure(1, figsize=(8,8))\n",
        "plt.plot(history.history['mse'])\n",
        "plt.plot(history.history['val_mse'])\n",
        "\n",
        "plt.yscale(\"log\")\n",
        "plt.title('Error del Modelo')\n",
        "plt.ylabel('loss')\n",
        "plt.xlabel('épocas')\n",
        "plt.grid()\n",
        "#plt.xlim(-0.5,20.1)\n",
        "plt.legend(['train', 'test'], loc='upper center')\n",
        "\n",
        "from google.colab import files\n",
        "plt.savefig('loss_MLP.eps')\n",
        "#files.download('loss_MLP.eps') # Descomentar para descargar localmente"
      ],
      "execution_count": null,
      "outputs": [
        {
          "output_type": "stream",
          "text": [
            "The PostScript backend does not support transparency; partially transparent artists will be rendered opaque.\n",
            "The PostScript backend does not support transparency; partially transparent artists will be rendered opaque.\n"
          ],
          "name": "stderr"
        },
        {
          "output_type": "display_data",
          "data": {
            "image/png": "[encoded data removed]",
            "text/plain": [
              "<Figure size 576x576 with 1 Axes>"
            ]
          },
          "metadata": {
            "tags": [],
            "needs_background": "light"
          }
        }
      ]
    },
    {
      "cell_type": "markdown",
      "metadata": {
        "id": "YCq-Ht74SioH"
      },
      "source": [
        "Se verifica la calidad del pronóstico. Se muestran las variables de entrada, el resultado, el pronóstico y el error ($\\hat{y}-y$)."
      ]
    },
    {
      "cell_type": "code",
      "metadata": {
        "colab": {
          "base_uri": "https://localhost:8080/"
        },
        "id": "A3AO4VG5i144",
        "outputId": "442b51b1-09a2-47ae-ce56-10af31ed87f9"
      },
      "source": [
        "print('V1','V2','\\t\\t','Real','\\t','Pronóstico','\\t','Error')\n",
        "error = np.zeros(len(pred))\n",
        "for i in range(len(testY)):\n",
        "  error[i]=testY[i]-pred[i]\n",
        "  print(i, testX[i],'\\t',testY[i],'\\t',pred[i],'\\t',error[i])"
      ],
      "execution_count": null,
      "outputs": [
        {
          "output_type": "stream",
          "text": [
            "V1 V2 \t\t Real \t Pronóstico \t Error\n",
            "0 [2 3] \t 5 \t [4.8901772] \t 0.10982275009155273\n",
            "1 [8 1] \t 9 \t [13.236711] \t -4.236710548400879\n",
            "2 [7 7] \t 14 \t [12.747765] \t 1.2522354125976562\n",
            "3 [8 4] \t 12 \t [12.83922] \t -0.8392200469970703\n",
            "4 [8 7] \t 15 \t [14.015036] \t 0.9849643707275391\n",
            "5 [3 8] \t 11 \t [8.058986] \t 2.941014289855957\n",
            "6 [1 3] \t 4 \t [3.6229057] \t 0.3770942687988281\n",
            "7 [2 5] \t 7 \t [5.650792] \t 1.349207878112793\n",
            "8 [7 5] \t 12 \t [11.987149] \t 0.012850761413574219\n",
            "9 [8 9] \t 17 \t [14.775651] \t 2.224349021911621\n",
            "10 [2 4] \t 6 \t [5.270485] \t 0.7295150756835938\n",
            "11 [8 7] \t 15 \t [14.015036] \t 0.9849643707275391\n",
            "12 [1 8] \t 9 \t [6.4432] \t 2.55679988861084\n",
            "13 [5 7] \t 12 \t [10.213222] \t 1.786778450012207\n",
            "14 [1 7] \t 8 \t [5.8570385] \t 2.1429615020751953\n",
            "15 [1 5] \t 6 \t [4.684714] \t 1.3152861595153809\n",
            "16 [1 3] \t 4 \t [3.6229057] \t 0.3770942687988281\n",
            "17 [8 8] \t 16 \t [14.395343] \t 1.6046571731567383\n",
            "18 [9 8] \t 17 \t [15.662614] \t 1.337386131286621\n",
            "19 [2 5] \t 7 \t [5.650792] \t 1.349207878112793\n",
            "20 [5 8] \t 13 \t [10.593529] \t 2.4064712524414062\n",
            "21 [0 5] \t 5 \t [4.0111237] \t 0.9888763427734375\n",
            "22 [9 2] \t 11 \t [14.58997] \t -3.5899696350097656\n",
            "23 [2 2] \t 4 \t [4.50987] \t -0.5098700523376465\n",
            "24 [4 1] \t 5 \t [7.0452027] \t -2.0452027320861816\n",
            "25 [4 0] \t 4 \t [7.2398195] \t -3.2398195266723633\n",
            "26 [4 6] \t 10 \t [8.565641] \t 1.4343585968017578\n",
            "27 [3 9] \t 12 \t [8.439293] \t 3.5607070922851562\n",
            "28 [5 7] \t 12 \t [10.213222] \t 1.786778450012207\n",
            "29 [3 9] \t 12 \t [8.439293] \t 3.5607070922851562\n"
          ],
          "name": "stdout"
        }
      ]
    },
    {
      "cell_type": "markdown",
      "metadata": {
        "id": "FlsXJyGuSQ1Y"
      },
      "source": [
        "Es importante verificar hasta donde sea posible la distribución de errores. En la siguiente gráfica se muestra el pronóstico contra los datos reales."
      ]
    },
    {
      "cell_type": "code",
      "metadata": {
        "colab": {
          "base_uri": "https://localhost:8080/",
          "height": 517
        },
        "id": "U4LfptrUTJ4f",
        "outputId": "274c7df4-3dbb-44cf-b9ed-6dae7083c64d"
      },
      "source": [
        "plt.figure(1, figsize=(8,8))\n",
        "\n",
        "plt.scatter(testY, pred, color=\"black\")\n",
        "plt.grid()\n",
        "plt.xlim(-0.1,20.1)\n",
        "plt.ylim(-0.1,20.1)\n",
        "\n",
        "plt.plot([0,20],[0,20])\n",
        "plt.ylabel('Pronóstico')\n",
        "plt.xlabel('Real')\n",
        "\n",
        "#from google.colab import files\n",
        "#plt.savefig('filename')\n",
        "#files.download('filename') # Descomentar para descargar localmente"
      ],
      "execution_count": null,
      "outputs": [
        {
          "output_type": "execute_result",
          "data": {
            "text/plain": [
              "Text(0.5, 0, 'Real')"
            ]
          },
          "metadata": {
            "tags": []
          },
          "execution_count": 69
        },
        {
          "output_type": "display_data",
          "data": {
            "image/png": "[encoded data removed]",
            "text/plain": [
              "<Figure size 576x576 with 1 Axes>"
            ]
          },
          "metadata": {
            "tags": [],
            "needs_background": "light"
          }
        }
      ]
    },
    {
      "cell_type": "markdown",
      "metadata": {
        "id": "HkfKd6XInLcH"
      },
      "source": [
        "Se general el histograma de los residuos (errores), $y-\\hat{y}$. Estos deberían tener un comportamiento gaussiano con media nula."
      ]
    },
    {
      "cell_type": "code",
      "metadata": {
        "colab": {
          "base_uri": "https://localhost:8080/",
          "height": 676
        },
        "id": "uHB8TIz5igOn",
        "outputId": "0ae0c45b-be61-4e83-893d-408c47d6f207"
      },
      "source": [
        "plt.figure(1, figsize=(8,8))\n",
        "plt.ylabel('Probabilidad')\n",
        "plt.xlabel('Residuo')\n",
        "plt.hist(error, density=True, bins=20)\n",
        "\n",
        "#from google.colab import files\n",
        "#plt.savefig('filename')\n",
        "#files.download('filename') # Descomentar para descargar localmente"
      ],
      "execution_count": null,
      "outputs": [
        {
          "output_type": "execute_result",
          "data": {
            "text/plain": [
              "(array([0.08549839, 0.08549839, 0.08549839, 0.        , 0.        ,\n",
              "        0.08549839, 0.        , 0.        , 0.08549839, 0.08549839,\n",
              "        0.08549839, 0.25649517, 0.08549839, 0.25649517, 0.59848874,\n",
              "        0.17099678, 0.17099678, 0.17099678, 0.08549839, 0.17099678]),\n",
              " array([-4.23671055, -3.84683967, -3.45696878, -3.0670979 , -2.67722702,\n",
              "        -2.28735614, -1.89748526, -1.50761437, -1.11774349, -0.72787261,\n",
              "        -0.33800173,  0.05186915,  0.44174004,  0.83161092,  1.2214818 ,\n",
              "         1.61135268,  2.00122356,  2.39109445,  2.78096533,  3.17083621,\n",
              "         3.56070709]),\n",
              " <a list of 20 Patch objects>)"
            ]
          },
          "metadata": {
            "tags": []
          },
          "execution_count": 70
        },
        {
          "output_type": "display_data",
          "data": {
            "image/png": "[encoded data removed]",
            "text/plain": [
              "<Figure size 576x576 with 1 Axes>"
            ]
          },
          "metadata": {
            "tags": [],
            "needs_background": "light"
          }
        }
      ]
    },
    {
      "cell_type": "markdown",
      "metadata": {
        "id": "K972sbq93ItQ"
      },
      "source": [
        "## Limpiando la sesión.\n",
        "Esto hará que cada nueva ejecución de la red sea un reentrenamiento. No un entrenamiento nuevo."
      ]
    },
    {
      "cell_type": "code",
      "metadata": {
        "id": "Pv4EbJ532LxA"
      },
      "source": [
        "  tf.keras.backend.clear_session()"
      ],
      "execution_count": null,
      "outputs": []
    },
    {
      "cell_type": "markdown",
      "metadata": {
        "id": "lfRo0ayQ0EbD"
      },
      "source": [
        "## Propuestas adicionales.\n",
        "\n",
        "*   Modificar el número de neuronas y capas para mejorar el rendimiento de la red. \n",
        "*   Hacer un regresor multivariante en la salida que pronostique la suma y el producto de las dos variables de entrada.\n",
        "*   Modificar la red añadiendo dropout.\n",
        "\n"
      ]
    }
  ]
}